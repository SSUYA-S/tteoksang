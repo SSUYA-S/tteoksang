{
 "cells": [
  {
   "cell_type": "code",
   "execution_count": 146,
   "id": "initial_id",
   "metadata": {
    "collapsed": true,
    "ExecuteTime": {
     "end_time": "2024-03-24T12:19:39.517595Z",
     "start_time": "2024-03-24T12:19:39.513740Z"
    }
   },
   "outputs": [],
   "source": [
    "import pandas as pd"
   ]
  },
  {
   "cell_type": "code",
   "outputs": [
    {
     "data": {
      "text/plain": "    product_id  product_code product_name product_type\n0            0           111            쌀         FALL\n1            1           112           찹쌀         FALL\n2            2           141            콩          ALL\n3            3           142            팥         FALL\n4            4           143           녹두         FALL\n5            5           144           메밀         FALL\n6            6           151          고구마         FALL\n7            7           152           감자       SUMMER\n8            8           211           배추         FALL\n9            9           212          양배추       SPRING\n10          10           213          시금치       WINTER\n11          11           214           상추       SPRING\n12          12           215        얼갈이배추         FALL\n13          13           221           수박       SUMMER\n14          14           222           참외       SUMMER\n15          15           223           오이       SPRING\n16          16           224           호박          ALL\n17          17           225          토마토       SUMMER\n18          18           226           딸기       WINTER\n19          19           231            무         FALL\n20          20           232           당근       WINTER\n21          21           233           열무       SUMMER\n22          22           241          건고추          ALL\n23          23           242          풋고추          ALL\n24          24           243         붉은고추          ALL\n25          25           244          피마늘          ALL\n26          26           245           양파       SUMMER\n27          27           246            파          ALL\n28          28           247           생강         FALL\n29          29           252          미나리       SPRING\n30          30           253           깻잎       SUMMER\n31          31           255           피망       SPRING\n32          32           256         파프리카         FALL\n33          33           257           멜론       SUMMER\n34          34           258      깐마늘(국산)          ALL\n35          35           279        알배기배추         FALL\n36          36           280         브로콜리       SUMMER\n37          37           312           참깨         FALL\n38          38           313           들깨         FALL\n39          39           314           땅콩         FALL\n40          40           315        느타리버섯         FALL\n41          41           316         팽이버섯       WINTER\n42          42           317        새송이버섯         FALL\n43          43           411           사과         FALL\n44          44           412            배         FALL\n45          45           413          복숭아       SUMMER\n46          46           414           포도       SUMMER\n47          47           415           감귤       WINTER\n48          48           416           단감       WINTER\n49          49           418          바나나          ALL\n50          50           419          참다래          ALL\n51          51           420         파인애플       SPRING\n52          52           421          오렌지          ALL\n53          53           422        방울토마토       SUMMER\n54          54           424           레몬       WINTER\n55          55           425           체리       SUMMER\n56          56           428           망고          ALL",
      "text/html": "<div>\n<style scoped>\n    .dataframe tbody tr th:only-of-type {\n        vertical-align: middle;\n    }\n\n    .dataframe tbody tr th {\n        vertical-align: top;\n    }\n\n    .dataframe thead th {\n        text-align: right;\n    }\n</style>\n<table border=\"1\" class=\"dataframe\">\n  <thead>\n    <tr style=\"text-align: right;\">\n      <th></th>\n      <th>product_id</th>\n      <th>product_code</th>\n      <th>product_name</th>\n      <th>product_type</th>\n    </tr>\n  </thead>\n  <tbody>\n    <tr>\n      <th>0</th>\n      <td>0</td>\n      <td>111</td>\n      <td>쌀</td>\n      <td>FALL</td>\n    </tr>\n    <tr>\n      <th>1</th>\n      <td>1</td>\n      <td>112</td>\n      <td>찹쌀</td>\n      <td>FALL</td>\n    </tr>\n    <tr>\n      <th>2</th>\n      <td>2</td>\n      <td>141</td>\n      <td>콩</td>\n      <td>ALL</td>\n    </tr>\n    <tr>\n      <th>3</th>\n      <td>3</td>\n      <td>142</td>\n      <td>팥</td>\n      <td>FALL</td>\n    </tr>\n    <tr>\n      <th>4</th>\n      <td>4</td>\n      <td>143</td>\n      <td>녹두</td>\n      <td>FALL</td>\n    </tr>\n    <tr>\n      <th>5</th>\n      <td>5</td>\n      <td>144</td>\n      <td>메밀</td>\n      <td>FALL</td>\n    </tr>\n    <tr>\n      <th>6</th>\n      <td>6</td>\n      <td>151</td>\n      <td>고구마</td>\n      <td>FALL</td>\n    </tr>\n    <tr>\n      <th>7</th>\n      <td>7</td>\n      <td>152</td>\n      <td>감자</td>\n      <td>SUMMER</td>\n    </tr>\n    <tr>\n      <th>8</th>\n      <td>8</td>\n      <td>211</td>\n      <td>배추</td>\n      <td>FALL</td>\n    </tr>\n    <tr>\n      <th>9</th>\n      <td>9</td>\n      <td>212</td>\n      <td>양배추</td>\n      <td>SPRING</td>\n    </tr>\n    <tr>\n      <th>10</th>\n      <td>10</td>\n      <td>213</td>\n      <td>시금치</td>\n      <td>WINTER</td>\n    </tr>\n    <tr>\n      <th>11</th>\n      <td>11</td>\n      <td>214</td>\n      <td>상추</td>\n      <td>SPRING</td>\n    </tr>\n    <tr>\n      <th>12</th>\n      <td>12</td>\n      <td>215</td>\n      <td>얼갈이배추</td>\n      <td>FALL</td>\n    </tr>\n    <tr>\n      <th>13</th>\n      <td>13</td>\n      <td>221</td>\n      <td>수박</td>\n      <td>SUMMER</td>\n    </tr>\n    <tr>\n      <th>14</th>\n      <td>14</td>\n      <td>222</td>\n      <td>참외</td>\n      <td>SUMMER</td>\n    </tr>\n    <tr>\n      <th>15</th>\n      <td>15</td>\n      <td>223</td>\n      <td>오이</td>\n      <td>SPRING</td>\n    </tr>\n    <tr>\n      <th>16</th>\n      <td>16</td>\n      <td>224</td>\n      <td>호박</td>\n      <td>ALL</td>\n    </tr>\n    <tr>\n      <th>17</th>\n      <td>17</td>\n      <td>225</td>\n      <td>토마토</td>\n      <td>SUMMER</td>\n    </tr>\n    <tr>\n      <th>18</th>\n      <td>18</td>\n      <td>226</td>\n      <td>딸기</td>\n      <td>WINTER</td>\n    </tr>\n    <tr>\n      <th>19</th>\n      <td>19</td>\n      <td>231</td>\n      <td>무</td>\n      <td>FALL</td>\n    </tr>\n    <tr>\n      <th>20</th>\n      <td>20</td>\n      <td>232</td>\n      <td>당근</td>\n      <td>WINTER</td>\n    </tr>\n    <tr>\n      <th>21</th>\n      <td>21</td>\n      <td>233</td>\n      <td>열무</td>\n      <td>SUMMER</td>\n    </tr>\n    <tr>\n      <th>22</th>\n      <td>22</td>\n      <td>241</td>\n      <td>건고추</td>\n      <td>ALL</td>\n    </tr>\n    <tr>\n      <th>23</th>\n      <td>23</td>\n      <td>242</td>\n      <td>풋고추</td>\n      <td>ALL</td>\n    </tr>\n    <tr>\n      <th>24</th>\n      <td>24</td>\n      <td>243</td>\n      <td>붉은고추</td>\n      <td>ALL</td>\n    </tr>\n    <tr>\n      <th>25</th>\n      <td>25</td>\n      <td>244</td>\n      <td>피마늘</td>\n      <td>ALL</td>\n    </tr>\n    <tr>\n      <th>26</th>\n      <td>26</td>\n      <td>245</td>\n      <td>양파</td>\n      <td>SUMMER</td>\n    </tr>\n    <tr>\n      <th>27</th>\n      <td>27</td>\n      <td>246</td>\n      <td>파</td>\n      <td>ALL</td>\n    </tr>\n    <tr>\n      <th>28</th>\n      <td>28</td>\n      <td>247</td>\n      <td>생강</td>\n      <td>FALL</td>\n    </tr>\n    <tr>\n      <th>29</th>\n      <td>29</td>\n      <td>252</td>\n      <td>미나리</td>\n      <td>SPRING</td>\n    </tr>\n    <tr>\n      <th>30</th>\n      <td>30</td>\n      <td>253</td>\n      <td>깻잎</td>\n      <td>SUMMER</td>\n    </tr>\n    <tr>\n      <th>31</th>\n      <td>31</td>\n      <td>255</td>\n      <td>피망</td>\n      <td>SPRING</td>\n    </tr>\n    <tr>\n      <th>32</th>\n      <td>32</td>\n      <td>256</td>\n      <td>파프리카</td>\n      <td>FALL</td>\n    </tr>\n    <tr>\n      <th>33</th>\n      <td>33</td>\n      <td>257</td>\n      <td>멜론</td>\n      <td>SUMMER</td>\n    </tr>\n    <tr>\n      <th>34</th>\n      <td>34</td>\n      <td>258</td>\n      <td>깐마늘(국산)</td>\n      <td>ALL</td>\n    </tr>\n    <tr>\n      <th>35</th>\n      <td>35</td>\n      <td>279</td>\n      <td>알배기배추</td>\n      <td>FALL</td>\n    </tr>\n    <tr>\n      <th>36</th>\n      <td>36</td>\n      <td>280</td>\n      <td>브로콜리</td>\n      <td>SUMMER</td>\n    </tr>\n    <tr>\n      <th>37</th>\n      <td>37</td>\n      <td>312</td>\n      <td>참깨</td>\n      <td>FALL</td>\n    </tr>\n    <tr>\n      <th>38</th>\n      <td>38</td>\n      <td>313</td>\n      <td>들깨</td>\n      <td>FALL</td>\n    </tr>\n    <tr>\n      <th>39</th>\n      <td>39</td>\n      <td>314</td>\n      <td>땅콩</td>\n      <td>FALL</td>\n    </tr>\n    <tr>\n      <th>40</th>\n      <td>40</td>\n      <td>315</td>\n      <td>느타리버섯</td>\n      <td>FALL</td>\n    </tr>\n    <tr>\n      <th>41</th>\n      <td>41</td>\n      <td>316</td>\n      <td>팽이버섯</td>\n      <td>WINTER</td>\n    </tr>\n    <tr>\n      <th>42</th>\n      <td>42</td>\n      <td>317</td>\n      <td>새송이버섯</td>\n      <td>FALL</td>\n    </tr>\n    <tr>\n      <th>43</th>\n      <td>43</td>\n      <td>411</td>\n      <td>사과</td>\n      <td>FALL</td>\n    </tr>\n    <tr>\n      <th>44</th>\n      <td>44</td>\n      <td>412</td>\n      <td>배</td>\n      <td>FALL</td>\n    </tr>\n    <tr>\n      <th>45</th>\n      <td>45</td>\n      <td>413</td>\n      <td>복숭아</td>\n      <td>SUMMER</td>\n    </tr>\n    <tr>\n      <th>46</th>\n      <td>46</td>\n      <td>414</td>\n      <td>포도</td>\n      <td>SUMMER</td>\n    </tr>\n    <tr>\n      <th>47</th>\n      <td>47</td>\n      <td>415</td>\n      <td>감귤</td>\n      <td>WINTER</td>\n    </tr>\n    <tr>\n      <th>48</th>\n      <td>48</td>\n      <td>416</td>\n      <td>단감</td>\n      <td>WINTER</td>\n    </tr>\n    <tr>\n      <th>49</th>\n      <td>49</td>\n      <td>418</td>\n      <td>바나나</td>\n      <td>ALL</td>\n    </tr>\n    <tr>\n      <th>50</th>\n      <td>50</td>\n      <td>419</td>\n      <td>참다래</td>\n      <td>ALL</td>\n    </tr>\n    <tr>\n      <th>51</th>\n      <td>51</td>\n      <td>420</td>\n      <td>파인애플</td>\n      <td>SPRING</td>\n    </tr>\n    <tr>\n      <th>52</th>\n      <td>52</td>\n      <td>421</td>\n      <td>오렌지</td>\n      <td>ALL</td>\n    </tr>\n    <tr>\n      <th>53</th>\n      <td>53</td>\n      <td>422</td>\n      <td>방울토마토</td>\n      <td>SUMMER</td>\n    </tr>\n    <tr>\n      <th>54</th>\n      <td>54</td>\n      <td>424</td>\n      <td>레몬</td>\n      <td>WINTER</td>\n    </tr>\n    <tr>\n      <th>55</th>\n      <td>55</td>\n      <td>425</td>\n      <td>체리</td>\n      <td>SUMMER</td>\n    </tr>\n    <tr>\n      <th>56</th>\n      <td>56</td>\n      <td>428</td>\n      <td>망고</td>\n      <td>ALL</td>\n    </tr>\n  </tbody>\n</table>\n</div>"
     },
     "execution_count": 161,
     "metadata": {},
     "output_type": "execute_result"
    }
   ],
   "source": [
    "# product\n",
    "product = pd.read_csv('data/fixed_selected_basic_product_info.csv', encoding='utf-8')\n",
    "product.sort_values(by=['PRODUCT_CODE'], inplace=True, ignore_index=True)\n",
    "product.drop(['PRDCTN_ERA', 'UNIT'], axis=1, inplace=True)\n",
    "product.reset_index(inplace=True)\n",
    "product.rename(\n",
    "    columns={'index': 'product_id', 'PRODUCT_CODE': 'product_code', 'PRODUCT_NAME': 'product_name',\n",
    "             'M_DISTCTNS': 'product_type'}, inplace=True)\n",
    "product"
   ],
   "metadata": {
    "collapsed": false,
    "ExecuteTime": {
     "end_time": "2024-03-24T12:37:39.573667Z",
     "start_time": "2024-03-24T12:37:39.559132Z"
    }
   },
   "id": "40ec1f2b01f30e29",
   "execution_count": 161
  },
  {
   "cell_type": "code",
   "outputs": [
    {
     "data": {
      "text/plain": "    product_id  product_code product_name product_type  product_default_cost\n0            0           111            쌀         FALL                2416.0\n1            1           112           찹쌀         FALL                2810.0\n2            2           141            콩          ALL                4776.0\n3            3           142            팥         FALL                8075.0\n4            4           143           녹두         FALL               10010.0\n5            5           144           메밀         FALL                3463.0\n6            6           151          고구마         FALL                3277.0\n7            7           152           감자       SUMMER                1950.0\n8            8           211           배추         FALL                 787.0\n9            9           212          양배추       SPRING                 865.0\n10          10           213          시금치       WINTER                2500.0\n11          11           214           상추       SPRING                3032.0\n12          12           215        얼갈이배추         FALL                1700.0\n13          13           221           수박       SUMMER               18269.0\n14          14           222           참외       SUMMER                7202.0\n15          15           223           오이       SPRING                1370.0\n16          16           224           호박          ALL                1595.0\n17          17           225          토마토       SUMMER                3317.0\n18          18           226           딸기       WINTER                7745.0\n19          19           231            무         FALL                 531.0\n20          20           232           당근       WINTER                1474.0\n21          21           233           열무       SUMMER                2138.0\n22          22           241          건고추          ALL               20806.0\n23          23           242          풋고추          ALL                6556.0\n24          24           243         붉은고추          ALL               12501.0\n25          25           244          피마늘          ALL                6200.0\n26          26           245           양파       SUMMER                1086.0\n27          27           246            파          ALL                2635.0\n28          28           247           생강         FALL                6912.0\n29          29           252          미나리       SPRING                4882.0\n30          30           253           깻잎       SUMMER                9343.0\n31          31           255           피망       SPRING                4945.0\n32          32           256         파프리카         FALL                5894.0\n33          33           257           멜론       SUMMER                4377.0\n34          34           258      깐마늘(국산)          ALL                6442.0\n35          35           279        알배기배추         FALL                   0.0\n36          36           280         브로콜리       SUMMER                   0.0\n37          37           312           참깨         FALL               12889.0\n38          38           313           들깨         FALL                9542.0\n39          39           314           땅콩         FALL               11551.0\n40          40           315        느타리버섯         FALL                4082.0\n41          41           316         팽이버섯       WINTER                2144.0\n42          42           317        새송이버섯         FALL                3585.0\n43          43           411           사과         FALL                4105.0\n44          44           412            배         FALL                3272.0\n45          45           413          복숭아       SUMMER                   0.0\n46          46           414           포도       SUMMER                4980.0\n47          47           415           감귤       WINTER                5321.0\n48          48           416           단감       WINTER                2446.0\n49          49           418          바나나          ALL                2083.0\n50          50           419          참다래          ALL                3660.0\n51          51           420         파인애플       SPRING                2018.0\n52          52           421          오렌지          ALL                3207.0\n53          53           422        방울토마토       SUMMER                5210.0\n54          54           424           레몬       WINTER                3548.0\n55          55           425           체리       SUMMER                9018.0\n56          56           428           망고          ALL                7928.0",
      "text/html": "<div>\n<style scoped>\n    .dataframe tbody tr th:only-of-type {\n        vertical-align: middle;\n    }\n\n    .dataframe tbody tr th {\n        vertical-align: top;\n    }\n\n    .dataframe thead th {\n        text-align: right;\n    }\n</style>\n<table border=\"1\" class=\"dataframe\">\n  <thead>\n    <tr style=\"text-align: right;\">\n      <th></th>\n      <th>product_id</th>\n      <th>product_code</th>\n      <th>product_name</th>\n      <th>product_type</th>\n      <th>product_default_cost</th>\n    </tr>\n  </thead>\n  <tbody>\n    <tr>\n      <th>0</th>\n      <td>0</td>\n      <td>111</td>\n      <td>쌀</td>\n      <td>FALL</td>\n      <td>2416.0</td>\n    </tr>\n    <tr>\n      <th>1</th>\n      <td>1</td>\n      <td>112</td>\n      <td>찹쌀</td>\n      <td>FALL</td>\n      <td>2810.0</td>\n    </tr>\n    <tr>\n      <th>2</th>\n      <td>2</td>\n      <td>141</td>\n      <td>콩</td>\n      <td>ALL</td>\n      <td>4776.0</td>\n    </tr>\n    <tr>\n      <th>3</th>\n      <td>3</td>\n      <td>142</td>\n      <td>팥</td>\n      <td>FALL</td>\n      <td>8075.0</td>\n    </tr>\n    <tr>\n      <th>4</th>\n      <td>4</td>\n      <td>143</td>\n      <td>녹두</td>\n      <td>FALL</td>\n      <td>10010.0</td>\n    </tr>\n    <tr>\n      <th>5</th>\n      <td>5</td>\n      <td>144</td>\n      <td>메밀</td>\n      <td>FALL</td>\n      <td>3463.0</td>\n    </tr>\n    <tr>\n      <th>6</th>\n      <td>6</td>\n      <td>151</td>\n      <td>고구마</td>\n      <td>FALL</td>\n      <td>3277.0</td>\n    </tr>\n    <tr>\n      <th>7</th>\n      <td>7</td>\n      <td>152</td>\n      <td>감자</td>\n      <td>SUMMER</td>\n      <td>1950.0</td>\n    </tr>\n    <tr>\n      <th>8</th>\n      <td>8</td>\n      <td>211</td>\n      <td>배추</td>\n      <td>FALL</td>\n      <td>787.0</td>\n    </tr>\n    <tr>\n      <th>9</th>\n      <td>9</td>\n      <td>212</td>\n      <td>양배추</td>\n      <td>SPRING</td>\n      <td>865.0</td>\n    </tr>\n    <tr>\n      <th>10</th>\n      <td>10</td>\n      <td>213</td>\n      <td>시금치</td>\n      <td>WINTER</td>\n      <td>2500.0</td>\n    </tr>\n    <tr>\n      <th>11</th>\n      <td>11</td>\n      <td>214</td>\n      <td>상추</td>\n      <td>SPRING</td>\n      <td>3032.0</td>\n    </tr>\n    <tr>\n      <th>12</th>\n      <td>12</td>\n      <td>215</td>\n      <td>얼갈이배추</td>\n      <td>FALL</td>\n      <td>1700.0</td>\n    </tr>\n    <tr>\n      <th>13</th>\n      <td>13</td>\n      <td>221</td>\n      <td>수박</td>\n      <td>SUMMER</td>\n      <td>18269.0</td>\n    </tr>\n    <tr>\n      <th>14</th>\n      <td>14</td>\n      <td>222</td>\n      <td>참외</td>\n      <td>SUMMER</td>\n      <td>7202.0</td>\n    </tr>\n    <tr>\n      <th>15</th>\n      <td>15</td>\n      <td>223</td>\n      <td>오이</td>\n      <td>SPRING</td>\n      <td>1370.0</td>\n    </tr>\n    <tr>\n      <th>16</th>\n      <td>16</td>\n      <td>224</td>\n      <td>호박</td>\n      <td>ALL</td>\n      <td>1595.0</td>\n    </tr>\n    <tr>\n      <th>17</th>\n      <td>17</td>\n      <td>225</td>\n      <td>토마토</td>\n      <td>SUMMER</td>\n      <td>3317.0</td>\n    </tr>\n    <tr>\n      <th>18</th>\n      <td>18</td>\n      <td>226</td>\n      <td>딸기</td>\n      <td>WINTER</td>\n      <td>7745.0</td>\n    </tr>\n    <tr>\n      <th>19</th>\n      <td>19</td>\n      <td>231</td>\n      <td>무</td>\n      <td>FALL</td>\n      <td>531.0</td>\n    </tr>\n    <tr>\n      <th>20</th>\n      <td>20</td>\n      <td>232</td>\n      <td>당근</td>\n      <td>WINTER</td>\n      <td>1474.0</td>\n    </tr>\n    <tr>\n      <th>21</th>\n      <td>21</td>\n      <td>233</td>\n      <td>열무</td>\n      <td>SUMMER</td>\n      <td>2138.0</td>\n    </tr>\n    <tr>\n      <th>22</th>\n      <td>22</td>\n      <td>241</td>\n      <td>건고추</td>\n      <td>ALL</td>\n      <td>20806.0</td>\n    </tr>\n    <tr>\n      <th>23</th>\n      <td>23</td>\n      <td>242</td>\n      <td>풋고추</td>\n      <td>ALL</td>\n      <td>6556.0</td>\n    </tr>\n    <tr>\n      <th>24</th>\n      <td>24</td>\n      <td>243</td>\n      <td>붉은고추</td>\n      <td>ALL</td>\n      <td>12501.0</td>\n    </tr>\n    <tr>\n      <th>25</th>\n      <td>25</td>\n      <td>244</td>\n      <td>피마늘</td>\n      <td>ALL</td>\n      <td>6200.0</td>\n    </tr>\n    <tr>\n      <th>26</th>\n      <td>26</td>\n      <td>245</td>\n      <td>양파</td>\n      <td>SUMMER</td>\n      <td>1086.0</td>\n    </tr>\n    <tr>\n      <th>27</th>\n      <td>27</td>\n      <td>246</td>\n      <td>파</td>\n      <td>ALL</td>\n      <td>2635.0</td>\n    </tr>\n    <tr>\n      <th>28</th>\n      <td>28</td>\n      <td>247</td>\n      <td>생강</td>\n      <td>FALL</td>\n      <td>6912.0</td>\n    </tr>\n    <tr>\n      <th>29</th>\n      <td>29</td>\n      <td>252</td>\n      <td>미나리</td>\n      <td>SPRING</td>\n      <td>4882.0</td>\n    </tr>\n    <tr>\n      <th>30</th>\n      <td>30</td>\n      <td>253</td>\n      <td>깻잎</td>\n      <td>SUMMER</td>\n      <td>9343.0</td>\n    </tr>\n    <tr>\n      <th>31</th>\n      <td>31</td>\n      <td>255</td>\n      <td>피망</td>\n      <td>SPRING</td>\n      <td>4945.0</td>\n    </tr>\n    <tr>\n      <th>32</th>\n      <td>32</td>\n      <td>256</td>\n      <td>파프리카</td>\n      <td>FALL</td>\n      <td>5894.0</td>\n    </tr>\n    <tr>\n      <th>33</th>\n      <td>33</td>\n      <td>257</td>\n      <td>멜론</td>\n      <td>SUMMER</td>\n      <td>4377.0</td>\n    </tr>\n    <tr>\n      <th>34</th>\n      <td>34</td>\n      <td>258</td>\n      <td>깐마늘(국산)</td>\n      <td>ALL</td>\n      <td>6442.0</td>\n    </tr>\n    <tr>\n      <th>35</th>\n      <td>35</td>\n      <td>279</td>\n      <td>알배기배추</td>\n      <td>FALL</td>\n      <td>0.0</td>\n    </tr>\n    <tr>\n      <th>36</th>\n      <td>36</td>\n      <td>280</td>\n      <td>브로콜리</td>\n      <td>SUMMER</td>\n      <td>0.0</td>\n    </tr>\n    <tr>\n      <th>37</th>\n      <td>37</td>\n      <td>312</td>\n      <td>참깨</td>\n      <td>FALL</td>\n      <td>12889.0</td>\n    </tr>\n    <tr>\n      <th>38</th>\n      <td>38</td>\n      <td>313</td>\n      <td>들깨</td>\n      <td>FALL</td>\n      <td>9542.0</td>\n    </tr>\n    <tr>\n      <th>39</th>\n      <td>39</td>\n      <td>314</td>\n      <td>땅콩</td>\n      <td>FALL</td>\n      <td>11551.0</td>\n    </tr>\n    <tr>\n      <th>40</th>\n      <td>40</td>\n      <td>315</td>\n      <td>느타리버섯</td>\n      <td>FALL</td>\n      <td>4082.0</td>\n    </tr>\n    <tr>\n      <th>41</th>\n      <td>41</td>\n      <td>316</td>\n      <td>팽이버섯</td>\n      <td>WINTER</td>\n      <td>2144.0</td>\n    </tr>\n    <tr>\n      <th>42</th>\n      <td>42</td>\n      <td>317</td>\n      <td>새송이버섯</td>\n      <td>FALL</td>\n      <td>3585.0</td>\n    </tr>\n    <tr>\n      <th>43</th>\n      <td>43</td>\n      <td>411</td>\n      <td>사과</td>\n      <td>FALL</td>\n      <td>4105.0</td>\n    </tr>\n    <tr>\n      <th>44</th>\n      <td>44</td>\n      <td>412</td>\n      <td>배</td>\n      <td>FALL</td>\n      <td>3272.0</td>\n    </tr>\n    <tr>\n      <th>45</th>\n      <td>45</td>\n      <td>413</td>\n      <td>복숭아</td>\n      <td>SUMMER</td>\n      <td>0.0</td>\n    </tr>\n    <tr>\n      <th>46</th>\n      <td>46</td>\n      <td>414</td>\n      <td>포도</td>\n      <td>SUMMER</td>\n      <td>4980.0</td>\n    </tr>\n    <tr>\n      <th>47</th>\n      <td>47</td>\n      <td>415</td>\n      <td>감귤</td>\n      <td>WINTER</td>\n      <td>5321.0</td>\n    </tr>\n    <tr>\n      <th>48</th>\n      <td>48</td>\n      <td>416</td>\n      <td>단감</td>\n      <td>WINTER</td>\n      <td>2446.0</td>\n    </tr>\n    <tr>\n      <th>49</th>\n      <td>49</td>\n      <td>418</td>\n      <td>바나나</td>\n      <td>ALL</td>\n      <td>2083.0</td>\n    </tr>\n    <tr>\n      <th>50</th>\n      <td>50</td>\n      <td>419</td>\n      <td>참다래</td>\n      <td>ALL</td>\n      <td>3660.0</td>\n    </tr>\n    <tr>\n      <th>51</th>\n      <td>51</td>\n      <td>420</td>\n      <td>파인애플</td>\n      <td>SPRING</td>\n      <td>2018.0</td>\n    </tr>\n    <tr>\n      <th>52</th>\n      <td>52</td>\n      <td>421</td>\n      <td>오렌지</td>\n      <td>ALL</td>\n      <td>3207.0</td>\n    </tr>\n    <tr>\n      <th>53</th>\n      <td>53</td>\n      <td>422</td>\n      <td>방울토마토</td>\n      <td>SUMMER</td>\n      <td>5210.0</td>\n    </tr>\n    <tr>\n      <th>54</th>\n      <td>54</td>\n      <td>424</td>\n      <td>레몬</td>\n      <td>WINTER</td>\n      <td>3548.0</td>\n    </tr>\n    <tr>\n      <th>55</th>\n      <td>55</td>\n      <td>425</td>\n      <td>체리</td>\n      <td>SUMMER</td>\n      <td>9018.0</td>\n    </tr>\n    <tr>\n      <th>56</th>\n      <td>56</td>\n      <td>428</td>\n      <td>망고</td>\n      <td>ALL</td>\n      <td>7928.0</td>\n    </tr>\n  </tbody>\n</table>\n</div>"
     },
     "execution_count": 162,
     "metadata": {},
     "output_type": "execute_result"
    }
   ],
   "source": [
    "# make default cost\n",
    "fluctuation = pd.read_csv('data/product_cost_fluctuation.csv', encoding='utf-8')\n",
    "march_fluctuation = fluctuation.loc[fluctuation['COUNT_PER_TEN_DAYS'].isin([6, 7, 8]), :]\n",
    "default_cost = march_fluctuation.groupby('PRODUCT_CODE', as_index=False)[\n",
    "    'AVG_PRODUCT_COST'].mean().round()\n",
    "default_cost.rename(\n",
    "    columns={'PRODUCT_CODE': 'product_code', 'AVG_PRODUCT_COST': 'product_default_cost'},\n",
    "    inplace=True)\n",
    "product = pd.merge(left=product, right=default_cost, on='product_code')\n",
    "product"
   ],
   "metadata": {
    "collapsed": false,
    "ExecuteTime": {
     "end_time": "2024-03-24T12:37:43.335102Z",
     "start_time": "2024-03-24T12:37:43.311756Z"
    }
   },
   "id": "9eb02393787a5048",
   "execution_count": 162
  },
  {
   "cell_type": "code",
   "outputs": [
    {
     "data": {
      "text/plain": "    product_id  product_code product_name product_type  product_default_cost  \\\n0            0           111            쌀         FALL                2416.0   \n1            1           112           찹쌀         FALL                2810.0   \n2            2           141            콩          ALL                4776.0   \n3            3           142            팥         FALL                8075.0   \n4            4           143           녹두         FALL               10010.0   \n5            5           144           메밀         FALL                3463.0   \n6            6           151          고구마         FALL                3277.0   \n7            7           152           감자       SUMMER                1950.0   \n8            8           211           배추         FALL                 787.0   \n9            9           212          양배추       SPRING                 865.0   \n10          10           213          시금치       WINTER                2500.0   \n11          11           214           상추       SPRING                3032.0   \n12          12           215        얼갈이배추         FALL                1700.0   \n13          13           221           수박       SUMMER               18269.0   \n14          14           222           참외       SUMMER                7202.0   \n15          15           223           오이       SPRING                1370.0   \n16          16           224           호박          ALL                1595.0   \n17          17           225          토마토       SUMMER                3317.0   \n18          18           226           딸기       WINTER                7745.0   \n19          19           231            무         FALL                 531.0   \n20          20           232           당근       WINTER                1474.0   \n21          21           233           열무       SUMMER                2138.0   \n22          22           241          건고추          ALL               20806.0   \n23          23           242          풋고추          ALL                6556.0   \n24          24           243         붉은고추          ALL               12501.0   \n25          25           244          피마늘          ALL                6200.0   \n26          26           245           양파       SUMMER                1086.0   \n27          27           246            파          ALL                2635.0   \n28          28           247           생강         FALL                6912.0   \n29          29           252          미나리       SPRING                4882.0   \n30          30           253           깻잎       SUMMER                9343.0   \n31          31           255           피망       SPRING                4945.0   \n32          32           256         파프리카         FALL                5894.0   \n33          33           257           멜론       SUMMER                4377.0   \n34          34           258      깐마늘(국산)          ALL                6442.0   \n35          35           279        알배기배추         FALL                   0.0   \n36          36           280         브로콜리       SUMMER                   0.0   \n37          37           312           참깨         FALL               12889.0   \n38          38           313           들깨         FALL                9542.0   \n39          39           314           땅콩         FALL               11551.0   \n40          40           315        느타리버섯         FALL                4082.0   \n41          41           316         팽이버섯       WINTER                2144.0   \n42          42           317        새송이버섯         FALL                3585.0   \n43          43           411           사과         FALL                4105.0   \n44          44           412            배         FALL                3272.0   \n45          45           413          복숭아       SUMMER                   0.0   \n46          46           414           포도       SUMMER                4980.0   \n47          47           415           감귤       WINTER                5321.0   \n48          48           416           단감       WINTER                2446.0   \n49          49           418          바나나          ALL                2083.0   \n50          50           419          참다래          ALL                3660.0   \n51          51           420         파인애플       SPRING                2018.0   \n52          52           421          오렌지          ALL                3207.0   \n53          53           422        방울토마토       SUMMER                5210.0   \n54          54           424           레몬       WINTER                3548.0   \n55          55           425           체리       SUMMER                9018.0   \n56          56           428           망고          ALL                7928.0   \n\n    product_avg_cost  \n0             2430.0  \n1             2825.0  \n2             4855.0  \n3             8246.0  \n4             9933.0  \n5             3519.0  \n6             3352.0  \n7             1916.0  \n8              947.0  \n9              954.0  \n10            4643.0  \n11            5318.0  \n12            1705.0  \n13           16309.0  \n14            2686.0  \n15            1255.0  \n16            1407.0  \n17            2986.0  \n18            5158.0  \n19             672.0  \n20            1674.0  \n21            1955.0  \n22           21251.0  \n23            5781.0  \n24            7645.0  \n25            5771.0  \n26             955.0  \n27            3447.0  \n28            7100.0  \n29            5192.0  \n30           11586.0  \n31            4337.0  \n32            5100.0  \n33            3666.0  \n34            6397.0  \n35            1480.0  \n36            2010.0  \n37           13000.0  \n38            9764.0  \n39           12295.0  \n40            4464.0  \n41            2252.0  \n42            3693.0  \n43            4621.0  \n44            3382.0  \n45            1232.0  \n46            6269.0  \n47            4175.0  \n48            1588.0  \n49            1981.0  \n50            3988.0  \n51            2187.0  \n52            3137.0  \n53            4739.0  \n54            3760.0  \n55            9256.0  \n56            9213.0  ",
      "text/html": "<div>\n<style scoped>\n    .dataframe tbody tr th:only-of-type {\n        vertical-align: middle;\n    }\n\n    .dataframe tbody tr th {\n        vertical-align: top;\n    }\n\n    .dataframe thead th {\n        text-align: right;\n    }\n</style>\n<table border=\"1\" class=\"dataframe\">\n  <thead>\n    <tr style=\"text-align: right;\">\n      <th></th>\n      <th>product_id</th>\n      <th>product_code</th>\n      <th>product_name</th>\n      <th>product_type</th>\n      <th>product_default_cost</th>\n      <th>product_avg_cost</th>\n    </tr>\n  </thead>\n  <tbody>\n    <tr>\n      <th>0</th>\n      <td>0</td>\n      <td>111</td>\n      <td>쌀</td>\n      <td>FALL</td>\n      <td>2416.0</td>\n      <td>2430.0</td>\n    </tr>\n    <tr>\n      <th>1</th>\n      <td>1</td>\n      <td>112</td>\n      <td>찹쌀</td>\n      <td>FALL</td>\n      <td>2810.0</td>\n      <td>2825.0</td>\n    </tr>\n    <tr>\n      <th>2</th>\n      <td>2</td>\n      <td>141</td>\n      <td>콩</td>\n      <td>ALL</td>\n      <td>4776.0</td>\n      <td>4855.0</td>\n    </tr>\n    <tr>\n      <th>3</th>\n      <td>3</td>\n      <td>142</td>\n      <td>팥</td>\n      <td>FALL</td>\n      <td>8075.0</td>\n      <td>8246.0</td>\n    </tr>\n    <tr>\n      <th>4</th>\n      <td>4</td>\n      <td>143</td>\n      <td>녹두</td>\n      <td>FALL</td>\n      <td>10010.0</td>\n      <td>9933.0</td>\n    </tr>\n    <tr>\n      <th>5</th>\n      <td>5</td>\n      <td>144</td>\n      <td>메밀</td>\n      <td>FALL</td>\n      <td>3463.0</td>\n      <td>3519.0</td>\n    </tr>\n    <tr>\n      <th>6</th>\n      <td>6</td>\n      <td>151</td>\n      <td>고구마</td>\n      <td>FALL</td>\n      <td>3277.0</td>\n      <td>3352.0</td>\n    </tr>\n    <tr>\n      <th>7</th>\n      <td>7</td>\n      <td>152</td>\n      <td>감자</td>\n      <td>SUMMER</td>\n      <td>1950.0</td>\n      <td>1916.0</td>\n    </tr>\n    <tr>\n      <th>8</th>\n      <td>8</td>\n      <td>211</td>\n      <td>배추</td>\n      <td>FALL</td>\n      <td>787.0</td>\n      <td>947.0</td>\n    </tr>\n    <tr>\n      <th>9</th>\n      <td>9</td>\n      <td>212</td>\n      <td>양배추</td>\n      <td>SPRING</td>\n      <td>865.0</td>\n      <td>954.0</td>\n    </tr>\n    <tr>\n      <th>10</th>\n      <td>10</td>\n      <td>213</td>\n      <td>시금치</td>\n      <td>WINTER</td>\n      <td>2500.0</td>\n      <td>4643.0</td>\n    </tr>\n    <tr>\n      <th>11</th>\n      <td>11</td>\n      <td>214</td>\n      <td>상추</td>\n      <td>SPRING</td>\n      <td>3032.0</td>\n      <td>5318.0</td>\n    </tr>\n    <tr>\n      <th>12</th>\n      <td>12</td>\n      <td>215</td>\n      <td>얼갈이배추</td>\n      <td>FALL</td>\n      <td>1700.0</td>\n      <td>1705.0</td>\n    </tr>\n    <tr>\n      <th>13</th>\n      <td>13</td>\n      <td>221</td>\n      <td>수박</td>\n      <td>SUMMER</td>\n      <td>18269.0</td>\n      <td>16309.0</td>\n    </tr>\n    <tr>\n      <th>14</th>\n      <td>14</td>\n      <td>222</td>\n      <td>참외</td>\n      <td>SUMMER</td>\n      <td>7202.0</td>\n      <td>2686.0</td>\n    </tr>\n    <tr>\n      <th>15</th>\n      <td>15</td>\n      <td>223</td>\n      <td>오이</td>\n      <td>SPRING</td>\n      <td>1370.0</td>\n      <td>1255.0</td>\n    </tr>\n    <tr>\n      <th>16</th>\n      <td>16</td>\n      <td>224</td>\n      <td>호박</td>\n      <td>ALL</td>\n      <td>1595.0</td>\n      <td>1407.0</td>\n    </tr>\n    <tr>\n      <th>17</th>\n      <td>17</td>\n      <td>225</td>\n      <td>토마토</td>\n      <td>SUMMER</td>\n      <td>3317.0</td>\n      <td>2986.0</td>\n    </tr>\n    <tr>\n      <th>18</th>\n      <td>18</td>\n      <td>226</td>\n      <td>딸기</td>\n      <td>WINTER</td>\n      <td>7745.0</td>\n      <td>5158.0</td>\n    </tr>\n    <tr>\n      <th>19</th>\n      <td>19</td>\n      <td>231</td>\n      <td>무</td>\n      <td>FALL</td>\n      <td>531.0</td>\n      <td>672.0</td>\n    </tr>\n    <tr>\n      <th>20</th>\n      <td>20</td>\n      <td>232</td>\n      <td>당근</td>\n      <td>WINTER</td>\n      <td>1474.0</td>\n      <td>1674.0</td>\n    </tr>\n    <tr>\n      <th>21</th>\n      <td>21</td>\n      <td>233</td>\n      <td>열무</td>\n      <td>SUMMER</td>\n      <td>2138.0</td>\n      <td>1955.0</td>\n    </tr>\n    <tr>\n      <th>22</th>\n      <td>22</td>\n      <td>241</td>\n      <td>건고추</td>\n      <td>ALL</td>\n      <td>20806.0</td>\n      <td>21251.0</td>\n    </tr>\n    <tr>\n      <th>23</th>\n      <td>23</td>\n      <td>242</td>\n      <td>풋고추</td>\n      <td>ALL</td>\n      <td>6556.0</td>\n      <td>5781.0</td>\n    </tr>\n    <tr>\n      <th>24</th>\n      <td>24</td>\n      <td>243</td>\n      <td>붉은고추</td>\n      <td>ALL</td>\n      <td>12501.0</td>\n      <td>7645.0</td>\n    </tr>\n    <tr>\n      <th>25</th>\n      <td>25</td>\n      <td>244</td>\n      <td>피마늘</td>\n      <td>ALL</td>\n      <td>6200.0</td>\n      <td>5771.0</td>\n    </tr>\n    <tr>\n      <th>26</th>\n      <td>26</td>\n      <td>245</td>\n      <td>양파</td>\n      <td>SUMMER</td>\n      <td>1086.0</td>\n      <td>955.0</td>\n    </tr>\n    <tr>\n      <th>27</th>\n      <td>27</td>\n      <td>246</td>\n      <td>파</td>\n      <td>ALL</td>\n      <td>2635.0</td>\n      <td>3447.0</td>\n    </tr>\n    <tr>\n      <th>28</th>\n      <td>28</td>\n      <td>247</td>\n      <td>생강</td>\n      <td>FALL</td>\n      <td>6912.0</td>\n      <td>7100.0</td>\n    </tr>\n    <tr>\n      <th>29</th>\n      <td>29</td>\n      <td>252</td>\n      <td>미나리</td>\n      <td>SPRING</td>\n      <td>4882.0</td>\n      <td>5192.0</td>\n    </tr>\n    <tr>\n      <th>30</th>\n      <td>30</td>\n      <td>253</td>\n      <td>깻잎</td>\n      <td>SUMMER</td>\n      <td>9343.0</td>\n      <td>11586.0</td>\n    </tr>\n    <tr>\n      <th>31</th>\n      <td>31</td>\n      <td>255</td>\n      <td>피망</td>\n      <td>SPRING</td>\n      <td>4945.0</td>\n      <td>4337.0</td>\n    </tr>\n    <tr>\n      <th>32</th>\n      <td>32</td>\n      <td>256</td>\n      <td>파프리카</td>\n      <td>FALL</td>\n      <td>5894.0</td>\n      <td>5100.0</td>\n    </tr>\n    <tr>\n      <th>33</th>\n      <td>33</td>\n      <td>257</td>\n      <td>멜론</td>\n      <td>SUMMER</td>\n      <td>4377.0</td>\n      <td>3666.0</td>\n    </tr>\n    <tr>\n      <th>34</th>\n      <td>34</td>\n      <td>258</td>\n      <td>깐마늘(국산)</td>\n      <td>ALL</td>\n      <td>6442.0</td>\n      <td>6397.0</td>\n    </tr>\n    <tr>\n      <th>35</th>\n      <td>35</td>\n      <td>279</td>\n      <td>알배기배추</td>\n      <td>FALL</td>\n      <td>0.0</td>\n      <td>1480.0</td>\n    </tr>\n    <tr>\n      <th>36</th>\n      <td>36</td>\n      <td>280</td>\n      <td>브로콜리</td>\n      <td>SUMMER</td>\n      <td>0.0</td>\n      <td>2010.0</td>\n    </tr>\n    <tr>\n      <th>37</th>\n      <td>37</td>\n      <td>312</td>\n      <td>참깨</td>\n      <td>FALL</td>\n      <td>12889.0</td>\n      <td>13000.0</td>\n    </tr>\n    <tr>\n      <th>38</th>\n      <td>38</td>\n      <td>313</td>\n      <td>들깨</td>\n      <td>FALL</td>\n      <td>9542.0</td>\n      <td>9764.0</td>\n    </tr>\n    <tr>\n      <th>39</th>\n      <td>39</td>\n      <td>314</td>\n      <td>땅콩</td>\n      <td>FALL</td>\n      <td>11551.0</td>\n      <td>12295.0</td>\n    </tr>\n    <tr>\n      <th>40</th>\n      <td>40</td>\n      <td>315</td>\n      <td>느타리버섯</td>\n      <td>FALL</td>\n      <td>4082.0</td>\n      <td>4464.0</td>\n    </tr>\n    <tr>\n      <th>41</th>\n      <td>41</td>\n      <td>316</td>\n      <td>팽이버섯</td>\n      <td>WINTER</td>\n      <td>2144.0</td>\n      <td>2252.0</td>\n    </tr>\n    <tr>\n      <th>42</th>\n      <td>42</td>\n      <td>317</td>\n      <td>새송이버섯</td>\n      <td>FALL</td>\n      <td>3585.0</td>\n      <td>3693.0</td>\n    </tr>\n    <tr>\n      <th>43</th>\n      <td>43</td>\n      <td>411</td>\n      <td>사과</td>\n      <td>FALL</td>\n      <td>4105.0</td>\n      <td>4621.0</td>\n    </tr>\n    <tr>\n      <th>44</th>\n      <td>44</td>\n      <td>412</td>\n      <td>배</td>\n      <td>FALL</td>\n      <td>3272.0</td>\n      <td>3382.0</td>\n    </tr>\n    <tr>\n      <th>45</th>\n      <td>45</td>\n      <td>413</td>\n      <td>복숭아</td>\n      <td>SUMMER</td>\n      <td>0.0</td>\n      <td>1232.0</td>\n    </tr>\n    <tr>\n      <th>46</th>\n      <td>46</td>\n      <td>414</td>\n      <td>포도</td>\n      <td>SUMMER</td>\n      <td>4980.0</td>\n      <td>6269.0</td>\n    </tr>\n    <tr>\n      <th>47</th>\n      <td>47</td>\n      <td>415</td>\n      <td>감귤</td>\n      <td>WINTER</td>\n      <td>5321.0</td>\n      <td>4175.0</td>\n    </tr>\n    <tr>\n      <th>48</th>\n      <td>48</td>\n      <td>416</td>\n      <td>단감</td>\n      <td>WINTER</td>\n      <td>2446.0</td>\n      <td>1588.0</td>\n    </tr>\n    <tr>\n      <th>49</th>\n      <td>49</td>\n      <td>418</td>\n      <td>바나나</td>\n      <td>ALL</td>\n      <td>2083.0</td>\n      <td>1981.0</td>\n    </tr>\n    <tr>\n      <th>50</th>\n      <td>50</td>\n      <td>419</td>\n      <td>참다래</td>\n      <td>ALL</td>\n      <td>3660.0</td>\n      <td>3988.0</td>\n    </tr>\n    <tr>\n      <th>51</th>\n      <td>51</td>\n      <td>420</td>\n      <td>파인애플</td>\n      <td>SPRING</td>\n      <td>2018.0</td>\n      <td>2187.0</td>\n    </tr>\n    <tr>\n      <th>52</th>\n      <td>52</td>\n      <td>421</td>\n      <td>오렌지</td>\n      <td>ALL</td>\n      <td>3207.0</td>\n      <td>3137.0</td>\n    </tr>\n    <tr>\n      <th>53</th>\n      <td>53</td>\n      <td>422</td>\n      <td>방울토마토</td>\n      <td>SUMMER</td>\n      <td>5210.0</td>\n      <td>4739.0</td>\n    </tr>\n    <tr>\n      <th>54</th>\n      <td>54</td>\n      <td>424</td>\n      <td>레몬</td>\n      <td>WINTER</td>\n      <td>3548.0</td>\n      <td>3760.0</td>\n    </tr>\n    <tr>\n      <th>55</th>\n      <td>55</td>\n      <td>425</td>\n      <td>체리</td>\n      <td>SUMMER</td>\n      <td>9018.0</td>\n      <td>9256.0</td>\n    </tr>\n    <tr>\n      <th>56</th>\n      <td>56</td>\n      <td>428</td>\n      <td>망고</td>\n      <td>ALL</td>\n      <td>7928.0</td>\n      <td>9213.0</td>\n    </tr>\n  </tbody>\n</table>\n</div>"
     },
     "execution_count": 163,
     "metadata": {},
     "output_type": "execute_result"
    }
   ],
   "source": [
    "# make avg cost\n",
    "avg_cost = fluctuation.groupby('PRODUCT_CODE', as_index=False)['AVG_PRODUCT_COST'].mean().round()\n",
    "avg_cost.rename(columns={'PRODUCT_CODE': 'product_code', 'AVG_PRODUCT_COST': 'product_avg_cost'}, inplace=True)\n",
    "product = pd.merge(left=product, right=avg_cost, on='product_code')\n",
    "product"
   ],
   "metadata": {
    "collapsed": false,
    "ExecuteTime": {
     "end_time": "2024-03-24T12:37:47.085276Z",
     "start_time": "2024-03-24T12:37:47.060175Z"
    }
   },
   "id": "194de7c0f07bf4fd",
   "execution_count": 163
  },
  {
   "cell_type": "code",
   "outputs": [],
   "source": [
    "product.to_csv('dump_data/product.csv', encoding='utf-8', index=False)"
   ],
   "metadata": {
    "collapsed": false,
    "ExecuteTime": {
     "end_time": "2024-03-24T12:48:30.704462Z",
     "start_time": "2024-03-24T12:48:30.697896Z"
    }
   },
   "id": "a428ec51469cd3ee",
   "execution_count": 175
  },
  {
   "cell_type": "code",
   "outputs": [],
   "source": [
    "# product_fluctuation\n",
    "# add product_id\n",
    "fluctuation = pd.read_csv('data/product_cost_fluctuation.csv', encoding='utf-8')"
   ],
   "metadata": {
    "collapsed": false,
    "ExecuteTime": {
     "end_time": "2024-03-24T12:48:31.029244Z",
     "start_time": "2024-03-24T12:48:31.019323Z"
    }
   },
   "id": "7a616200adf6a2dc",
   "execution_count": 176
  },
  {
   "cell_type": "code",
   "outputs": [],
   "source": [
    "fluctuation = pd.merge(left=fluctuation, right=product[['product_id','product_code']], left_on='PRODUCT_CODE', right_on='product_code')\n",
    "fluctuation.drop(['PRODUCT_CODE', 'MIN_PRODUCT_COST', 'MAX_PRODUCT_COST', 'AVG_PRODUCT_COST'], axis=1, inplace=True)"
   ],
   "metadata": {
    "collapsed": false,
    "ExecuteTime": {
     "end_time": "2024-03-24T12:48:31.834515Z",
     "start_time": "2024-03-24T12:48:31.827324Z"
    }
   },
   "id": "3694a16685205053",
   "execution_count": 177
  },
  {
   "cell_type": "code",
   "outputs": [],
   "source": [
    "fluctuation.rename(columns={'COUNT_PER_TEN_DAYS':'count_per_ten_days', 'MAX_FLUCTUATION_RATE': 'max_fluctuation_rate', 'MIN_FLUCTUATION_RATE': 'min_fluctuation_rate'}, inplace=True)"
   ],
   "metadata": {
    "collapsed": false,
    "ExecuteTime": {
     "end_time": "2024-03-24T12:48:32.243208Z",
     "start_time": "2024-03-24T12:48:32.240777Z"
    }
   },
   "id": "d7113b9c71d05e6a",
   "execution_count": 178
  },
  {
   "cell_type": "code",
   "outputs": [],
   "source": [
    "fluctuation = fluctuation[['count_per_ten_days', 'product_id', 'product_code', 'min_fluctuation_rate', 'max_fluctuation_rate']]"
   ],
   "metadata": {
    "collapsed": false,
    "ExecuteTime": {
     "end_time": "2024-03-24T12:49:46.766226Z",
     "start_time": "2024-03-24T12:49:46.763426Z"
    }
   },
   "id": "c222c8865c80d20d",
   "execution_count": 181
  },
  {
   "cell_type": "code",
   "outputs": [],
   "source": [
    "fluctuation.to_csv('dump_data/product_fluctuation.csv', encoding='utf-8', index=False)"
   ],
   "metadata": {
    "collapsed": false,
    "ExecuteTime": {
     "end_time": "2024-03-24T12:50:22.986569Z",
     "start_time": "2024-03-24T12:50:22.972782Z"
    }
   },
   "id": "3a3da6acbcd77f1e",
   "execution_count": 183
  },
  {
   "cell_type": "code",
   "outputs": [],
   "source": [],
   "metadata": {
    "collapsed": false
   },
   "id": "fdbdd33c6cc12d35"
  }
 ],
 "metadata": {
  "kernelspec": {
   "display_name": "Python 3",
   "language": "python",
   "name": "python3"
  },
  "language_info": {
   "codemirror_mode": {
    "name": "ipython",
    "version": 2
   },
   "file_extension": ".py",
   "mimetype": "text/x-python",
   "name": "python",
   "nbconvert_exporter": "python",
   "pygments_lexer": "ipython2",
   "version": "2.7.6"
  }
 },
 "nbformat": 4,
 "nbformat_minor": 5
}
