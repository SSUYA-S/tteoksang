{
 "cells": [
  {
   "cell_type": "code",
   "execution_count": 2,
   "id": "initial_id",
   "metadata": {
    "collapsed": true,
    "ExecuteTime": {
     "end_time": "2024-04-03T00:44:41.146370100Z",
     "start_time": "2024-04-03T00:44:41.140486700Z"
    }
   },
   "outputs": [],
   "source": [
    "from kafka import KafkaConsumer\n",
    "from json import loads"
   ]
  },
  {
   "cell_type": "code",
   "outputs": [],
   "source": [
    "consumer = KafkaConsumer(\n",
    "    bootstrap_servers=['localhost:9093'],\n",
    "    group_id='logger',\n",
    "    value_deserializer=lambda x: loads(x.decode('utf-8')),\n",
    "    max_poll_interval_ms= 90 * 60 * 1000\n",
    ")"
   ],
   "metadata": {
    "collapsed": false,
    "ExecuteTime": {
     "end_time": "2024-04-03T00:49:05.611591900Z",
     "start_time": "2024-04-03T00:49:05.503492400Z"
    }
   },
   "id": "8185c11c96027463",
   "execution_count": 5
  },
  {
   "cell_type": "code",
   "outputs": [],
   "source": [
    "count = 0\n",
    "data = ''\n",
    "while True:\n",
    "  for message in consumer:\n",
    "    count += 1\n",
    "    print(type(message.value))\n",
    "    print(message.value)\n",
    "    data += (message.value + '\\n')\n",
    "    \n",
    "  if count >= 10:\n",
    "    print(data)"
   ],
   "metadata": {
    "collapsed": false,
    "is_executing": true,
    "ExecuteTime": {
     "start_time": "2024-04-03T00:49:07.061206800Z"
    }
   },
   "id": "fea2015e6087da2c"
  },
  {
   "cell_type": "code",
   "outputs": [],
   "source": [],
   "metadata": {
    "collapsed": false
   },
   "id": "5ce87c50e21aa06b"
  }
 ],
 "metadata": {
  "kernelspec": {
   "display_name": "Python 3",
   "language": "python",
   "name": "python3"
  },
  "language_info": {
   "codemirror_mode": {
    "name": "ipython",
    "version": 2
   },
   "file_extension": ".py",
   "mimetype": "text/x-python",
   "name": "python",
   "nbconvert_exporter": "python",
   "pygments_lexer": "ipython2",
   "version": "2.7.6"
  }
 },
 "nbformat": 4,
 "nbformat_minor": 5
}
