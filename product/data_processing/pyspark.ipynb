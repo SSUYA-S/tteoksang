{
 "cells": [
  {
   "cell_type": "code",
   "execution_count": 1,
   "id": "initial_id",
   "metadata": {
    "collapsed": true,
    "ExecuteTime": {
     "end_time": "2024-04-01T15:21:53.153924Z",
     "start_time": "2024-04-01T15:21:05.844999Z"
    }
   },
   "outputs": [
    {
     "name": "stdout",
     "output_type": "stream",
     "text": [
      "Collecting pyspark\r\n",
      "  Downloading pyspark-3.5.1.tar.gz (317.0 MB)\r\n",
      "\u001B[2K     \u001B[90m━━━━━━━━━━━━━━━━━━━━━━━━━━━━━━━━━━━━━━━\u001B[0m \u001B[32m317.0/317.0 MB\u001B[0m \u001B[31m4.0 MB/s\u001B[0m eta \u001B[36m0:00:00\u001B[0m00:01\u001B[0m00:01\u001B[0m\r\n",
      "\u001B[?25h  Installing build dependencies ... \u001B[?25ldone\r\n",
      "\u001B[?25h  Getting requirements to build wheel ... \u001B[?25ldone\r\n",
      "\u001B[?25h  Preparing metadata (pyproject.toml) ... \u001B[?25ldone\r\n",
      "\u001B[?25hCollecting py4j==0.10.9.7 (from pyspark)\r\n",
      "  Downloading py4j-0.10.9.7-py2.py3-none-any.whl.metadata (1.5 kB)\r\n",
      "Downloading py4j-0.10.9.7-py2.py3-none-any.whl (200 kB)\r\n",
      "\u001B[2K   \u001B[90m━━━━━━━━━━━━━━━━━━━━━━━━━━━━━━━━━━━━━━━━\u001B[0m \u001B[32m200.5/200.5 kB\u001B[0m \u001B[31m6.3 MB/s\u001B[0m eta \u001B[36m0:00:00\u001B[0m\r\n",
      "\u001B[?25hBuilding wheels for collected packages: pyspark\r\n",
      "  Building wheel for pyspark (pyproject.toml) ... \u001B[?25ldone\r\n",
      "\u001B[?25h  Created wheel for pyspark: filename=pyspark-3.5.1-py2.py3-none-any.whl size=317488491 sha256=e88e9c499328ec104d464a4fab5a127a9c4cfa58dcf4c06c335335d2f21ffe07\r\n",
      "  Stored in directory: /Users/ssuya/Library/Caches/pip/wheels/95/13/41/f7f135ee114175605fb4f0a89e7389f3742aa6c1e1a5bcb657\r\n",
      "Successfully built pyspark\r\n",
      "Installing collected packages: py4j, pyspark\r\n",
      "Successfully installed py4j-0.10.9.7 pyspark-3.5.1\r\n",
      "\r\n",
      "\u001B[1m[\u001B[0m\u001B[34;49mnotice\u001B[0m\u001B[1;39;49m]\u001B[0m\u001B[39;49m A new release of pip is available: \u001B[0m\u001B[31;49m23.3.1\u001B[0m\u001B[39;49m -> \u001B[0m\u001B[32;49m24.0\u001B[0m\r\n",
      "\u001B[1m[\u001B[0m\u001B[34;49mnotice\u001B[0m\u001B[1;39;49m]\u001B[0m\u001B[39;49m To update, run: \u001B[0m\u001B[32;49mpip install --upgrade pip\u001B[0m\r\n"
     ]
    }
   ],
   "source": [
    "!pip install pyspark"
   ]
  },
  {
   "cell_type": "code",
   "outputs": [
    {
     "ename": "AttributeError",
     "evalue": "'NoneType' object has no attribute 'startswith'",
     "output_type": "error",
     "traceback": [
      "\u001B[0;31m---------------------------------------------------------------------------\u001B[0m",
      "\u001B[0;31mAttributeError\u001B[0m                            Traceback (most recent call last)",
      "Cell \u001B[0;32mIn[25], line 8\u001B[0m\n\u001B[1;32m      5\u001B[0m \u001B[38;5;28;01mfrom\u001B[39;00m \u001B[38;5;21;01mpy4j\u001B[39;00m\u001B[38;5;21;01m.\u001B[39;00m\u001B[38;5;21;01mjava_gateway\u001B[39;00m \u001B[38;5;28;01mimport\u001B[39;00m java_import\n\u001B[1;32m      7\u001B[0m \u001B[38;5;66;03m# spark = SparkSession.builder.remote(\"sc://j10a510.p.ssafy.io:15002\").getOrCreate()\u001B[39;00m\n\u001B[0;32m----> 8\u001B[0m spark \u001B[38;5;241m=\u001B[39m \u001B[43mSparkSession\u001B[49m\u001B[38;5;241;43m.\u001B[39;49m\u001B[43mbuilder\u001B[49m\u001B[38;5;241;43m.\u001B[39;49m\u001B[43mmaster\u001B[49m\u001B[43m(\u001B[49m\u001B[38;5;124;43m\"\u001B[39;49m\u001B[38;5;124;43mspark://j10a510.p.ssafy.io:8088\u001B[39;49m\u001B[38;5;124;43m\"\u001B[39;49m\u001B[43m)\u001B[49m\u001B[38;5;241;43m.\u001B[39;49m\u001B[43mgetOrCreate\u001B[49m\u001B[43m(\u001B[49m\u001B[43m)\u001B[49m\n\u001B[1;32m     10\u001B[0m \u001B[38;5;66;03m# Java FileSystem 클래스를 가져옴\u001B[39;00m\n\u001B[1;32m     11\u001B[0m java_import(spark\u001B[38;5;241m.\u001B[39m_jvm, \u001B[38;5;124m\"\u001B[39m\u001B[38;5;124morg.apache.hadoop.fs.FileSystem\u001B[39m\u001B[38;5;124m\"\u001B[39m)\n",
      "File \u001B[0;32m~/Project/tteoksang/product/venv/lib/python3.11/site-packages/pyspark/sql/session.py:472\u001B[0m, in \u001B[0;36mSparkSession.Builder.getOrCreate\u001B[0;34m(self)\u001B[0m\n\u001B[1;32m    466\u001B[0m \u001B[38;5;28;01mif\u001B[39;00m (\n\u001B[1;32m    467\u001B[0m     SparkContext\u001B[38;5;241m.\u001B[39m_active_spark_context \u001B[38;5;129;01mis\u001B[39;00m \u001B[38;5;28;01mNone\u001B[39;00m\n\u001B[1;32m    468\u001B[0m     \u001B[38;5;129;01mand\u001B[39;00m SparkSession\u001B[38;5;241m.\u001B[39m_instantiatedSession \u001B[38;5;129;01mis\u001B[39;00m \u001B[38;5;28;01mNone\u001B[39;00m\n\u001B[1;32m    469\u001B[0m ):\n\u001B[1;32m    470\u001B[0m     url \u001B[38;5;241m=\u001B[39m opts\u001B[38;5;241m.\u001B[39mget(\u001B[38;5;124m\"\u001B[39m\u001B[38;5;124mspark.remote\u001B[39m\u001B[38;5;124m\"\u001B[39m, os\u001B[38;5;241m.\u001B[39menviron\u001B[38;5;241m.\u001B[39mget(\u001B[38;5;124m\"\u001B[39m\u001B[38;5;124mSPARK_REMOTE\u001B[39m\u001B[38;5;124m\"\u001B[39m))\n\u001B[0;32m--> 472\u001B[0m     \u001B[38;5;28;01mif\u001B[39;00m \u001B[43murl\u001B[49m\u001B[38;5;241;43m.\u001B[39;49m\u001B[43mstartswith\u001B[49m(\u001B[38;5;124m\"\u001B[39m\u001B[38;5;124mlocal\u001B[39m\u001B[38;5;124m\"\u001B[39m):\n\u001B[1;32m    473\u001B[0m         os\u001B[38;5;241m.\u001B[39menviron[\u001B[38;5;124m\"\u001B[39m\u001B[38;5;124mSPARK_LOCAL_REMOTE\u001B[39m\u001B[38;5;124m\"\u001B[39m] \u001B[38;5;241m=\u001B[39m \u001B[38;5;124m\"\u001B[39m\u001B[38;5;124m1\u001B[39m\u001B[38;5;124m\"\u001B[39m\n\u001B[1;32m    474\u001B[0m         RemoteSparkSession\u001B[38;5;241m.\u001B[39m_start_connect_server(url, opts)\n",
      "\u001B[0;31mAttributeError\u001B[0m: 'NoneType' object has no attribute 'startswith'"
     ]
    }
   ],
   "source": [
    "from pyspark.sql import SparkSession\n",
    "from datetime import datetime, date\n",
    "from pyspark.sql import Row\n",
    "from pyspark.sql import SparkSession\n",
    "from py4j.java_gateway import java_import\n",
    "\n",
    "# spark = SparkSession.builder.remote(\"sc://j10a510.p.ssafy.io:15002\").getOrCreate()\n",
    "spark = SparkSession.builder.master(\"spark://j10a510.p.ssafy.io:8088\").getOrCreate()\n",
    "\n",
    "# Java FileSystem 클래스를 가져옴\n",
    "java_import(spark._jvm, \"org.apache.hadoop.fs.FileSystem\")\n",
    "java_import(spark._jvm, \"org.apache.hadoop.fs.Path\")\n",
    "\n",
    "# Hadoop Configuration 객체 생성\n",
    "conf = spark.sparkContext._jsc.hadoopConfiguration()\n",
    "\n",
    "# Hadoop File System 객체 생성\n",
    "fs = spark._jvm.FileSystem.get(conf)\n",
    "\n",
    "# 생성할 디렉토리 경로\n",
    "dirPath = spark._jvm.Path(\"hdfs://localhost:9000/sample/test1\")\n",
    "\n",
    "# 디렉토리 생성\n",
    "success = fs.mkdirs(dirPath)\n",
    "\n",
    "if success:\n",
    "    print(\"디렉토리 생성 성공\")\n",
    "else:\n",
    "    print(\"디렉토리 생성 실패\")\n",
    "\n",
    "# SparkSession 종료\n",
    "spark.stop()\n"
   ],
   "metadata": {
    "collapsed": false,
    "ExecuteTime": {
     "end_time": "2024-04-01T17:29:49.921993Z",
     "start_time": "2024-04-01T17:29:49.891111Z"
    }
   },
   "id": "793b4d3d3c3785a4",
   "execution_count": 25
  },
  {
   "cell_type": "code",
   "outputs": [],
   "source": [],
   "metadata": {
    "collapsed": false,
    "ExecuteTime": {
     "end_time": "2024-04-01T15:29:03.718131Z",
     "start_time": "2024-04-01T15:29:03.715497Z"
    }
   },
   "id": "c22ce0836bf5094e",
   "execution_count": 19
  },
  {
   "cell_type": "code",
   "outputs": [],
   "source": [
    "df = spark.createDataFrame([\n",
    "    Row(a=1, b=2, c='String1', d=date(2000, 1, 1), e=datetime(2000, 1, 1, 12, 0)),\n",
    "    Row(a=2, b=3, c='String1', d=date(2000, 1, 1), e=datetime(2000, 1, 1, 12, 0)),\n",
    "    Row(a=4, b=5, c='String1', d=date(2000, 1, 1), e=datetime(2000, 1, 1, 12, 0)),\n",
    "])"
   ],
   "metadata": {
    "collapsed": false,
    "ExecuteTime": {
     "end_time": "2024-04-01T15:31:57.722867Z",
     "start_time": "2024-04-01T15:31:57.677241Z"
    }
   },
   "id": "2b36d3bd8204d812",
   "execution_count": 21
  },
  {
   "cell_type": "code",
   "outputs": [
    {
     "name": "stdout",
     "output_type": "stream",
     "text": [
      "+---+---+-------+----------+-------------------+\n",
      "|  a|  b|      c|         d|                  e|\n",
      "+---+---+-------+----------+-------------------+\n",
      "|  1|  2|String1|2000-01-01|2000-01-01 03:00:00|\n",
      "|  2|  3|String1|2000-01-01|2000-01-01 03:00:00|\n",
      "|  4|  5|String1|2000-01-01|2000-01-01 03:00:00|\n",
      "+---+---+-------+----------+-------------------+\n"
     ]
    }
   ],
   "source": [
    "df.show()"
   ],
   "metadata": {
    "collapsed": false,
    "ExecuteTime": {
     "end_time": "2024-04-01T15:32:03.825141Z",
     "start_time": "2024-04-01T15:32:01.381942Z"
    }
   },
   "id": "d1f3ea75a0fa8ab9",
   "execution_count": 22
  },
  {
   "cell_type": "code",
   "outputs": [],
   "source": [],
   "metadata": {
    "collapsed": false
   },
   "id": "caa45102c8053cf8"
  }
 ],
 "metadata": {
  "kernelspec": {
   "display_name": "Python 3",
   "language": "python",
   "name": "python3"
  },
  "language_info": {
   "codemirror_mode": {
    "name": "ipython",
    "version": 2
   },
   "file_extension": ".py",
   "mimetype": "text/x-python",
   "name": "python",
   "nbconvert_exporter": "python",
   "pygments_lexer": "ipython2",
   "version": "2.7.6"
  }
 },
 "nbformat": 4,
 "nbformat_minor": 5
}
