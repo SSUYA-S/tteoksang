{
 "cells": [
  {
   "cell_type": "code",
   "execution_count": 42,
   "id": "initial_id",
   "metadata": {
    "collapsed": true,
    "ExecuteTime": {
     "end_time": "2024-03-24T12:16:33.033738Z",
     "start_time": "2024-03-24T12:16:33.026790Z"
    }
   },
   "outputs": [],
   "source": [
    "import pandas as pd\n",
    "import numpy as np\n",
    "from dotenv import load_dotenv\n",
    "\n",
    "load_dotenv()\n",
    "CATEGORY_CODES = ['100', '200', '300', '400']"
   ]
  },
  {
   "cell_type": "code",
   "outputs": [],
   "source": [
    "product_cost_2017 = pd.read_csv('data/product_cost_2017.csv', encoding='utf-8')\n",
    "product_cost_2018 = pd.read_csv('data/product_cost_2018.csv', encoding='utf-8')\n",
    "product_cost_2019 = pd.read_csv('data/product_cost_2019.csv', encoding='utf-8')\n",
    "product_cost_2020 = pd.read_csv('data/product_cost_2020.csv', encoding='utf-8')\n",
    "product_cost_2021 = pd.read_csv('data/product_cost_2021.csv', encoding='utf-8')\n",
    "product_cost_2022 = pd.read_csv('data/product_cost_2022.csv', encoding='utf-8')\n",
    "product_cost_2023 = pd.read_csv('data/product_cost_2023.csv', encoding='utf-8')\n",
    "\n",
    "data = pd.concat(\n",
    "    [product_cost_2017, product_cost_2018, product_cost_2019, product_cost_2020, product_cost_2021,\n",
    "     product_cost_2022, product_cost_2023], axis=0, ignore_index=True)"
   ],
   "metadata": {
    "collapsed": false,
    "ExecuteTime": {
     "end_time": "2024-03-24T12:16:33.561166Z",
     "start_time": "2024-03-24T12:16:33.541031Z"
    }
   },
   "id": "d1bf8ff8017e99ba",
   "execution_count": 43
  },
  {
   "cell_type": "code",
   "outputs": [
    {
     "name": "stdout",
     "output_type": "stream",
     "text": [
      "226:WINTER\n",
      "416:WINTER\n",
      "222:SPRING\n",
      "222:SUMMER\n",
      "425:SUMMER\n",
      "413:SUMMER\n",
      "279:FALL\n",
      "280:SUMMER\n"
     ]
    }
   ],
   "source": [
    "result = {}\n",
    "fluctuation = pd.DataFrame(\n",
    "    columns=['COUNT_PER_TEN_DAYS', 'PRODUCT_CODE', 'MIN_PRODUCT_COST',\n",
    "             'MAX_PRODUCT_COST', 'AVG_PRODUCT_COST', 'MIN_FLUCTUATION_RATE', 'MAX_FLUCTUATION_RATE']\n",
    ").astype({\n",
    "    'COUNT_PER_TEN_DAYS': 'int',\n",
    "    'PRODUCT_CODE': 'str',\n",
    "    'MIN_PRODUCT_COST': 'float',\n",
    "    'MAX_PRODUCT_COST': 'float',\n",
    "    'AVG_PRODUCT_COST': 'float',\n",
    "    'MIN_FLUCTUATION_RATE': 'float',\n",
    "    'MAX_FLUCTUATION_RATE': 'float'\n",
    "})\n",
    "product_code_list = data['PRODUCT_CODE'].unique()\n",
    "season_fixed = []\n",
    "# 작물별 누적 개수, 최소, 최대 가격, 전날 대비 변화율 누적\n",
    "for product_code in product_code_list:\n",
    "    result[product_code] = [{\n",
    "        'TOTAL_COUNT': 0,\n",
    "        'TOTAL_MIN_COST': float('inf'),\n",
    "        'TOTAL_MAX_COST': 0,\n",
    "        'TOTAL_AVG_COST': 0,\n",
    "        'TOTAL_MIN_RATIO': 0,\n",
    "        'TOTAL_MAX_RATIO': 0\n",
    "    } for _ in range(36)]\n",
    "\n",
    "    # 하나의 작물의 36개 변화량 6년치\n",
    "    product_data = data.loc[data['PRODUCT_CODE'] == product_code, :].reset_index(drop=True)\n",
    "    for index, row in product_data.iloc[1:].iterrows():\n",
    "        prev_avg_cost = product_data.iloc[index - 1]['AVG_PRODUCT_COST']\n",
    "        min_ratio = 1 + (row['MIN_PRODUCT_COST'] - prev_avg_cost) / prev_avg_cost\n",
    "        max_ratio = 1 + (row['MAX_PRODUCT_COST'] - prev_avg_cost) / prev_avg_cost\n",
    "        acc_result = result[product_code][int(row['COUNT_PER_TEN_DAYS'])]\n",
    "        acc_result['TOTAL_COUNT'] += 1\n",
    "        acc_result['TOTAL_MIN_COST'] = np.min(\n",
    "            [acc_result['TOTAL_MIN_COST'], row['MIN_PRODUCT_COST']])\n",
    "        acc_result['TOTAL_MAX_COST'] = np.max(\n",
    "            [acc_result['TOTAL_MAX_COST'], row['MAX_PRODUCT_COST']])\n",
    "        acc_result['TOTAL_AVG_COST'] += row['AVG_PRODUCT_COST']\n",
    "        acc_result['TOTAL_MIN_RATIO'] += min_ratio\n",
    "        acc_result['TOTAL_MAX_RATIO'] += max_ratio\n",
    "\n",
    "    count = 0\n",
    "\n",
    "    season = {\n",
    "        'SPRING': 0,\n",
    "        'SUMMER': 0,\n",
    "        'FALL': 0,\n",
    "        'WINTER': 0\n",
    "    }\n",
    "    \n",
    "    for index, info in enumerate(result[product_code]):\n",
    "        value = {\n",
    "            'COUNT_PER_TEN_DAYS': index,\n",
    "            'PRODUCT_CODE': product_code,\n",
    "            'MIN_PRODUCT_COST': 0,\n",
    "            'MAX_PRODUCT_COST': 0,\n",
    "            'AVG_PRODUCT_COST': 0,\n",
    "            'MIN_FLUCTUATION_RATE': 0,\n",
    "            'MAX_FLUCTUATION_RATE': 0,\n",
    "        }\n",
    "\n",
    "        if info['TOTAL_COUNT'] != 0:\n",
    "            value['MIN_PRODUCT_COST'] = info['TOTAL_MIN_COST']\n",
    "            value['MAX_PRODUCT_COST'] = info['TOTAL_MAX_COST']\n",
    "            value['AVG_PRODUCT_COST'] = info['TOTAL_AVG_COST'] / info['TOTAL_COUNT']\n",
    "            value['MIN_FLUCTUATION_RATE'] = info['TOTAL_MIN_RATIO'] / info['TOTAL_COUNT']\n",
    "            value['MAX_FLUCTUATION_RATE'] = info['TOTAL_MAX_RATIO'] / info['TOTAL_COUNT']\n",
    "\n",
    "            count += 1\n",
    "            if index < 6:\n",
    "                season['WINTER'] += 1\n",
    "            elif index < 15:\n",
    "                season['SPRING'] += 1\n",
    "            elif index < 24:\n",
    "                season['SUMMER'] += 1\n",
    "            elif index < 33:\n",
    "                season['FALL'] += 1\n",
    "            else:\n",
    "                season['WINTER'] += 1\n",
    "\n",
    "    \n",
    "        fluctuation = pd.concat([fluctuation, pd.DataFrame([value])], ignore_index=True)\n",
    "    \n",
    "    \n",
    "    max_count = np.max(list(map(int,season.values())))\n",
    "    total = sum(list(map(int, season.values())))\n",
    "    if 0 in season.values() or total <= 27:\n",
    "        for q in season.keys():\n",
    "            if season[q] == max_count:\n",
    "                print(f'{product_code}:{q}')\n",
    "                season_fixed.append((product_code, q))\n",
    "                \n",
    "selected_basic_product_info = pd.read_csv(\"data/selected_basic_product_info.csv\", encoding='utf-8')\n",
    "for product_code, season in season_fixed:\n",
    "    selected_basic_product_info.loc[selected_basic_product_info['PRODUCT_CODE'] == product_code, 'M_DISTCTNS'] = season\n",
    "    "
   ],
   "metadata": {
    "collapsed": false,
    "ExecuteTime": {
     "end_time": "2024-03-24T12:16:35.216210Z",
     "start_time": "2024-03-24T12:16:34.400939Z"
    }
   },
   "id": "c84cfbd12147092d",
   "execution_count": 44
  },
  {
   "cell_type": "code",
   "outputs": [
    {
     "data": {
      "text/plain": "      COUNT_PER_TEN_DAYS PRODUCT_CODE  MIN_PRODUCT_COST  MAX_PRODUCT_COST  \\\n0                      0          111           1915.00           2762.00   \n1                      1          111           1920.00           2787.50   \n2                      2          111           1935.00           2802.50   \n3                      3          111           2006.00           2811.00   \n4                      4          111           2040.00           2831.00   \n...                  ...          ...               ...               ...   \n2047                  31          280           3013.75           3262.50   \n2048                  32          280           2491.25           3012.50   \n2049                  33          280           2607.50           2855.00   \n2050                  34          280           2512.50           2905.00   \n2051                  35          280           2385.00           2813.75   \n\n      AVG_PRODUCT_COST  MIN_FLUCTUATION_RATE  MAX_FLUCTUATION_RATE  \n0          2379.309524              0.998565              1.000921  \n1          2377.872024              0.998142              1.001187  \n2          2389.410714              1.001804              1.008860  \n3          2396.937872              1.001984              1.006645  \n4          2401.326389              1.001417              1.003635  \n...                ...                   ...                   ...  \n2047       3179.583333              1.083170              1.172573  \n2048       2752.500000              0.783515              0.947451  \n2049       2737.250000              0.947321              1.037239  \n2050       2658.125000              0.917892              1.061284  \n2051       2650.208333              0.897249              1.058547  \n\n[2052 rows x 7 columns]",
      "text/html": "<div>\n<style scoped>\n    .dataframe tbody tr th:only-of-type {\n        vertical-align: middle;\n    }\n\n    .dataframe tbody tr th {\n        vertical-align: top;\n    }\n\n    .dataframe thead th {\n        text-align: right;\n    }\n</style>\n<table border=\"1\" class=\"dataframe\">\n  <thead>\n    <tr style=\"text-align: right;\">\n      <th></th>\n      <th>COUNT_PER_TEN_DAYS</th>\n      <th>PRODUCT_CODE</th>\n      <th>MIN_PRODUCT_COST</th>\n      <th>MAX_PRODUCT_COST</th>\n      <th>AVG_PRODUCT_COST</th>\n      <th>MIN_FLUCTUATION_RATE</th>\n      <th>MAX_FLUCTUATION_RATE</th>\n    </tr>\n  </thead>\n  <tbody>\n    <tr>\n      <th>0</th>\n      <td>0</td>\n      <td>111</td>\n      <td>1915.00</td>\n      <td>2762.00</td>\n      <td>2379.309524</td>\n      <td>0.998565</td>\n      <td>1.000921</td>\n    </tr>\n    <tr>\n      <th>1</th>\n      <td>1</td>\n      <td>111</td>\n      <td>1920.00</td>\n      <td>2787.50</td>\n      <td>2377.872024</td>\n      <td>0.998142</td>\n      <td>1.001187</td>\n    </tr>\n    <tr>\n      <th>2</th>\n      <td>2</td>\n      <td>111</td>\n      <td>1935.00</td>\n      <td>2802.50</td>\n      <td>2389.410714</td>\n      <td>1.001804</td>\n      <td>1.008860</td>\n    </tr>\n    <tr>\n      <th>3</th>\n      <td>3</td>\n      <td>111</td>\n      <td>2006.00</td>\n      <td>2811.00</td>\n      <td>2396.937872</td>\n      <td>1.001984</td>\n      <td>1.006645</td>\n    </tr>\n    <tr>\n      <th>4</th>\n      <td>4</td>\n      <td>111</td>\n      <td>2040.00</td>\n      <td>2831.00</td>\n      <td>2401.326389</td>\n      <td>1.001417</td>\n      <td>1.003635</td>\n    </tr>\n    <tr>\n      <th>...</th>\n      <td>...</td>\n      <td>...</td>\n      <td>...</td>\n      <td>...</td>\n      <td>...</td>\n      <td>...</td>\n      <td>...</td>\n    </tr>\n    <tr>\n      <th>2047</th>\n      <td>31</td>\n      <td>280</td>\n      <td>3013.75</td>\n      <td>3262.50</td>\n      <td>3179.583333</td>\n      <td>1.083170</td>\n      <td>1.172573</td>\n    </tr>\n    <tr>\n      <th>2048</th>\n      <td>32</td>\n      <td>280</td>\n      <td>2491.25</td>\n      <td>3012.50</td>\n      <td>2752.500000</td>\n      <td>0.783515</td>\n      <td>0.947451</td>\n    </tr>\n    <tr>\n      <th>2049</th>\n      <td>33</td>\n      <td>280</td>\n      <td>2607.50</td>\n      <td>2855.00</td>\n      <td>2737.250000</td>\n      <td>0.947321</td>\n      <td>1.037239</td>\n    </tr>\n    <tr>\n      <th>2050</th>\n      <td>34</td>\n      <td>280</td>\n      <td>2512.50</td>\n      <td>2905.00</td>\n      <td>2658.125000</td>\n      <td>0.917892</td>\n      <td>1.061284</td>\n    </tr>\n    <tr>\n      <th>2051</th>\n      <td>35</td>\n      <td>280</td>\n      <td>2385.00</td>\n      <td>2813.75</td>\n      <td>2650.208333</td>\n      <td>0.897249</td>\n      <td>1.058547</td>\n    </tr>\n  </tbody>\n</table>\n<p>2052 rows × 7 columns</p>\n</div>"
     },
     "execution_count": 45,
     "metadata": {},
     "output_type": "execute_result"
    }
   ],
   "source": [
    "fluctuation"
   ],
   "metadata": {
    "collapsed": false,
    "ExecuteTime": {
     "end_time": "2024-03-24T12:16:35.221331Z",
     "start_time": "2024-03-24T12:16:35.216981Z"
    }
   },
   "id": "15c9891c4730a83",
   "execution_count": 45
  },
  {
   "cell_type": "code",
   "outputs": [],
   "source": [
    "selected_basic_product_info.to_csv('data/fixed_selected_basic_product_info.csv', encoding='utf-8', index=False)"
   ],
   "metadata": {
    "collapsed": false,
    "ExecuteTime": {
     "end_time": "2024-03-24T12:16:46.164826Z",
     "start_time": "2024-03-24T12:16:46.157835Z"
    }
   },
   "id": "47dbb4830b38ae37",
   "execution_count": 46
  },
  {
   "cell_type": "code",
   "outputs": [],
   "source": [
    "fluctuation.to_csv('data/product_cost_fluctuation.csv', encoding='utf-8', index=False )"
   ],
   "metadata": {
    "collapsed": false,
    "ExecuteTime": {
     "end_time": "2024-03-24T12:16:49.501651Z",
     "start_time": "2024-03-24T12:16:49.486017Z"
    }
   },
   "id": "9d24a1068956eaf8",
   "execution_count": 47
  },
  {
   "cell_type": "code",
   "outputs": [],
   "source": [],
   "metadata": {
    "collapsed": false
   },
   "id": "222b682e6e909d1d"
  }
 ],
 "metadata": {
  "kernelspec": {
   "display_name": "Python 3",
   "language": "python",
   "name": "python3"
  },
  "language_info": {
   "codemirror_mode": {
    "name": "ipython",
    "version": 2
   },
   "file_extension": ".py",
   "mimetype": "text/x-python",
   "name": "python",
   "nbconvert_exporter": "python",
   "pygments_lexer": "ipython2",
   "version": "2.7.6"
  }
 },
 "nbformat": 4,
 "nbformat_minor": 5
}
