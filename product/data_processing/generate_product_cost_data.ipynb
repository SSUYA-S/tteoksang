{
 "cells": [
  {
   "cell_type": "code",
   "execution_count": 53,
   "id": "initial_id",
   "metadata": {
    "collapsed": true,
    "ExecuteTime": {
     "end_time": "2024-03-24T09:36:01.092257Z",
     "start_time": "2024-03-24T09:36:01.086446Z"
    }
   },
   "outputs": [],
   "source": [
    "import os\n",
    "\n",
    "import json\n",
    "import pandas as pd\n",
    "import numpy as np\n",
    "import aiohttp\n",
    "import asyncio\n",
    "from dotenv import load_dotenv\n",
    "import re\n",
    "\n",
    "load_dotenv()\n",
    "\n",
    "KAMIS_CERT_KEY = os.getenv('KAMIS_CERT_KEY')\n",
    "KAMIS_CERT_ID = os.getenv('KAMIS_CERT_ID')\n",
    "CATEGORY_CODES = ['100', '200', '300', '400']"
   ]
  },
  {
   "cell_type": "code",
   "outputs": [],
   "source": [
    "# 18-01-01 ~ 23-12-31\n",
    "# 사용할 작물별로 그날의 평균값\n",
    "# 10일 단위로 최대 최소 가격\n",
    "# 10일 단위 전체 평균 가격"
   ],
   "metadata": {
    "collapsed": false,
    "ExecuteTime": {
     "end_time": "2024-03-24T09:36:01.488082Z",
     "start_time": "2024-03-24T09:36:01.486321Z"
    }
   },
   "id": "24be9e0649fc75af",
   "execution_count": 54
  },
  {
   "cell_type": "code",
   "outputs": [],
   "source": [
    "# api 호출\n",
    "async def get_daily_price(date: str, category_code: str,\n",
    "    session: aiohttp.client.ClientSession) -> json:\n",
    "    headers = {'Content-Type': 'application/json', 'charset': 'UTF-8', 'Accept': '*/*'}\n",
    "    request_url = 'http://www.kamis.or.kr/service/price/xml.do?action=dailyPriceByCategoryList'\n",
    "    params = {\n",
    "        'p_cert_key': KAMIS_CERT_KEY,\n",
    "        'p_cert_id': KAMIS_CERT_ID,\n",
    "        'p_item_category_code': category_code,\n",
    "        'p_regday': date,\n",
    "        'p_returntype': 'json'\n",
    "    }\n",
    "\n",
    "    for param in params.keys():\n",
    "        request_url += f\"&{param}={params[param]}\"\n",
    "\n",
    "    try:\n",
    "        async with session.get(request_url) as response:\n",
    "            return await response.json(content_type='text/plain')\n",
    "    except Exception as e:\n",
    "        return await get_daily_price(date, category_code, session)"
   ],
   "metadata": {
    "collapsed": false,
    "ExecuteTime": {
     "end_time": "2024-03-24T09:36:01.797950Z",
     "start_time": "2024-03-24T09:36:01.794472Z"
    }
   },
   "id": "ea9ad48b68cc2671",
   "execution_count": 55
  },
  {
   "cell_type": "code",
   "outputs": [],
   "source": [
    "# 하루동안 모든 카테고리에 속하는 작물의 모든 등급에 대한 가격 평균\n",
    "async def get_daily_product_cost(date: str) -> dict:\n",
    "    product_acc_cost = {}\n",
    "    tasks = []\n",
    "    async with aiohttp.ClientSession(timeout=aiohttp.ClientTimeout(20)) as session:\n",
    "        for cat in CATEGORY_CODES:\n",
    "            task = asyncio.create_task(get_daily_price(date, cat, session))\n",
    "            tasks.append(task)\n",
    "\n",
    "        response = await asyncio.gather(*tasks)\n",
    "\n",
    "        for res in response:\n",
    "            data = res['data']\n",
    "\n",
    "            # 비정상 응답, error_code - 001, 200, 900\n",
    "            if type(data) == list:\n",
    "                continue\n",
    "\n",
    "            for item in data['item']:\n",
    "                item_code = int(item['item_code'])\n",
    "                product_cost = item['dpr1'].replace(',', '')\n",
    "                unit_text = item['unit']\n",
    "                match = re.match(r'([\\d.]+)(\\D+)', re.sub(r'\\([^)]*\\)', '', unit_text))\n",
    "                number = match.group(1)\n",
    "                unit = match.group(2)\n",
    "\n",
    "                if product_cost == '-':\n",
    "                    continue\n",
    "\n",
    "                product_cost = int(product_cost)\n",
    "                \n",
    "                if product_acc_cost.get(item_code) is None:\n",
    "                    product_acc_cost[item_code] = {\n",
    "                        'total_cost': 0,\n",
    "                        'total_count': 0,\n",
    "                        'unit': ''\n",
    "                    }\n",
    "\n",
    "                product_acc_cost[item_code]['total_cost'] += product_cost / float(number)\n",
    "                product_acc_cost[item_code]['total_count'] += 1\n",
    "                product_acc_cost[item_code]['unit'] = unit\n",
    "\n",
    "    result = {'date': date}\n",
    "    product_avg_cost = {}\n",
    "\n",
    "    for key in product_acc_cost.keys():\n",
    "        acc_cost = product_acc_cost.get(key)\n",
    "        product_avg_cost[key] = {\n",
    "            'daily_cost': acc_cost['total_cost'] / acc_cost['total_count'],\n",
    "            'unit': acc_cost['unit']\n",
    "        }\n",
    "\n",
    "    result[\"cost\"] = product_avg_cost\n",
    "    return result"
   ],
   "metadata": {
    "collapsed": false,
    "ExecuteTime": {
     "end_time": "2024-03-24T09:36:29.354658Z",
     "start_time": "2024-03-24T09:36:29.348574Z"
    }
   },
   "id": "b0b19028f53e07ab",
   "execution_count": 60
  },
  {
   "cell_type": "code",
   "outputs": [],
   "source": [
    "async def get_monthly_product_cost_df(year: str, month: str) -> pd.DataFrame:\n",
    "    div, mod = divmod(int(month), 12)\n",
    "    tasks = []\n",
    "    for date in pd.date_range(f'{year}-{month}-01', f'{int(year) + div}-{mod + 1}-01',\n",
    "                              inclusive='left').strftime('%Y-%m-%d'):\n",
    "        task = asyncio.create_task(get_daily_product_cost(date))\n",
    "        tasks.append(task)\n",
    "\n",
    "    daily_product_cost_list = await asyncio.gather(*tasks)\n",
    "\n",
    "    result = pd.DataFrame(\n",
    "        columns=['YEAR', 'COUNT_PER_TEN_DAYS', 'PRODUCT_CODE', 'MIN_PRODUCT_COST',\n",
    "                 'MAX_PRODUCT_COST', 'AVG_PRODUCT_COST', 'UNIT']).astype({\n",
    "        'YEAR': 'int',\n",
    "        'COUNT_PER_TEN_DAYS': 'int',\n",
    "        'PRODUCT_CODE': 'str',\n",
    "        'MIN_PRODUCT_COST': 'float',\n",
    "        'MAX_PRODUCT_COST': 'float',\n",
    "        'AVG_PRODUCT_COST': 'float',\n",
    "        'UNIT': 'str'\n",
    "    })\n",
    "\n",
    "    first_third = {}\n",
    "    second_third = {}\n",
    "    final_third = {}\n",
    "\n",
    "    for product_cost in daily_product_cost_list:\n",
    "        date = pd.to_datetime(product_cost['date'])\n",
    "        cost = product_cost['cost']\n",
    "        day = date.day\n",
    "\n",
    "        target_third = None\n",
    "\n",
    "        if day <= 10:\n",
    "            target_third = first_third\n",
    "        elif day <= 20:\n",
    "            target_third = second_third\n",
    "        else:\n",
    "            target_third = final_third\n",
    "\n",
    "        for key in cost.keys():\n",
    "            if target_third.get(key) is None:\n",
    "                target_third[key] = {\n",
    "                    'MIN_PRODUCT_COST': float('inf'),\n",
    "                    'MAX_PRODUCT_COST': 0,\n",
    "                    'TOTAL_AVG_PRODUCT_COST': 0,\n",
    "                    'TOTAL_COUNT': 0,\n",
    "                    'UNIT': ''\n",
    "                }\n",
    "\n",
    "            daily_info = cost[key]\n",
    "            target_third[key]['MIN_PRODUCT_COST'] = np.min(\n",
    "                [target_third[key]['MIN_PRODUCT_COST'], daily_info['daily_cost']])\n",
    "            target_third[key]['MAX_PRODUCT_COST'] = np.max(\n",
    "                [target_third[key]['MAX_PRODUCT_COST'], daily_info['daily_cost']])\n",
    "            target_third[key]['TOTAL_AVG_PRODUCT_COST'] += daily_info['daily_cost']\n",
    "            target_third[key]['TOTAL_COUNT'] += 1\n",
    "            target_third[key]['UNIT'] = daily_info['unit']\n",
    "\n",
    "    for key in first_third.keys():\n",
    "        info = first_third[key]\n",
    "        result = pd.concat([result, pd.DataFrame({\n",
    "            'YEAR': [int(year)],\n",
    "            'COUNT_PER_TEN_DAYS': [(int(month) - 1) * 3],\n",
    "            'PRODUCT_CODE': [key],\n",
    "            'MIN_PRODUCT_COST': [info['MIN_PRODUCT_COST']],\n",
    "            'MAX_PRODUCT_COST': [info['MAX_PRODUCT_COST']],\n",
    "            'AVG_PRODUCT_COST': [info['TOTAL_AVG_PRODUCT_COST'] / info['TOTAL_COUNT']],\n",
    "            'UNIT': info['UNIT']\n",
    "        })], ignore_index=True)\n",
    "\n",
    "    for key in second_third.keys():\n",
    "        info = second_third[key]\n",
    "        result = pd.concat([result, pd.DataFrame({\n",
    "            'YEAR': [int(year)],\n",
    "            'COUNT_PER_TEN_DAYS': [(int(month) - 1) * 3 + 1],\n",
    "            'PRODUCT_CODE': [key],\n",
    "            'MIN_PRODUCT_COST': [info['MIN_PRODUCT_COST']],\n",
    "            'MAX_PRODUCT_COST': [info['MAX_PRODUCT_COST']],\n",
    "            'AVG_PRODUCT_COST': [info['TOTAL_AVG_PRODUCT_COST'] / info['TOTAL_COUNT']],\n",
    "            'UNIT': info['UNIT']\n",
    "        })], ignore_index=True)\n",
    "\n",
    "    for key in final_third.keys():\n",
    "        info = final_third[key]\n",
    "        result = pd.concat([result, pd.DataFrame({\n",
    "            'YEAR': [int(year)],\n",
    "            'COUNT_PER_TEN_DAYS': [(int(month) - 1) * 3 + 2],\n",
    "            'PRODUCT_CODE': [key],\n",
    "            'MIN_PRODUCT_COST': [info['MIN_PRODUCT_COST']],\n",
    "            'MAX_PRODUCT_COST': [info['MAX_PRODUCT_COST']],\n",
    "            'AVG_PRODUCT_COST': [info['TOTAL_AVG_PRODUCT_COST'] / info['TOTAL_COUNT']],\n",
    "            'UNIT': info['UNIT']\n",
    "        })], ignore_index=True)\n",
    "\n",
    "    print(f'{year}-{month} done')\n",
    "    return result\n"
   ],
   "metadata": {
    "collapsed": false,
    "ExecuteTime": {
     "end_time": "2024-03-24T09:36:30.203732Z",
     "start_time": "2024-03-24T09:36:30.195414Z"
    }
   },
   "id": "4e8b9654faf03cac",
   "execution_count": 61
  },
  {
   "cell_type": "code",
   "outputs": [],
   "source": [
    "async def get_yearly_product_cost_df(year: str) -> pd.DataFrame:\n",
    "    tasks = []\n",
    "\n",
    "    # for month in range(1, 7):\n",
    "    #     task = asyncio.create_task(get_monthly_product_cost_df(year, str(month)))\n",
    "    #     tasks.append(task)\n",
    "    # first_half = await asyncio.gather(*tasks)\n",
    "    # \n",
    "    # await asyncio.sleep(10)\n",
    "    # \n",
    "    # tasks = []\n",
    "    # \n",
    "    # for month in range(7, 13):\n",
    "    #     task = asyncio.create_task(get_monthly_product_cost_df(year, str(month)))\n",
    "    #     tasks.append(task)\n",
    "    #     \n",
    "    # last_half = await asyncio.gather(*tasks)\n",
    "\n",
    "    monthly_product_cost_list = []\n",
    "\n",
    "    for month in range(1, 13):\n",
    "        # task = asyncio.create_task(get_monthly_product_cost_df(year, str(month)))\n",
    "        # tasks.append(task)\n",
    "        monthly_product_cost = await get_monthly_product_cost_df(year, str(month))\n",
    "        monthly_product_cost_list.append(monthly_product_cost)\n",
    "\n",
    "    # monthly_product_cost_list = await asyncio.gather(*tasks)\n",
    "\n",
    "    result = pd.DataFrame(\n",
    "        columns=['YEAR', 'COUNT_PER_TEN_DAYS', 'PRODUCT_CODE', 'MIN_PRODUCT_COST',\n",
    "                 'MAX_PRODUCT_COST', 'AVG_PRODUCT_COST', 'UNIT']).astype({\n",
    "        'YEAR': 'int',\n",
    "        'COUNT_PER_TEN_DAYS': 'int',\n",
    "        'PRODUCT_CODE': 'str',\n",
    "        'MIN_PRODUCT_COST': 'float',\n",
    "        'MAX_PRODUCT_COST': 'float',\n",
    "        'AVG_PRODUCT_COST': 'float',\n",
    "        'UNIT': 'str'\n",
    "    })\n",
    "\n",
    "    # monthly_product_cost = [*first_half, *last_half]\n",
    "\n",
    "    result = pd.concat([result, *monthly_product_cost_list], ignore_index=True)\n",
    "    return result"
   ],
   "metadata": {
    "collapsed": false,
    "ExecuteTime": {
     "end_time": "2024-03-24T09:36:30.431286Z",
     "start_time": "2024-03-24T09:36:30.428382Z"
    }
   },
   "id": "cdeda3e5c57143d7",
   "execution_count": 62
  },
  {
   "cell_type": "code",
   "outputs": [
    {
     "name": "stdout",
     "output_type": "stream",
     "text": [
      "2018-1 done\n",
      "2018-2 done\n",
      "2018-3 done\n",
      "2018-4 done\n",
      "2018-5 done\n",
      "2018-6 done\n",
      "2018-7 done\n",
      "2018-8 done\n",
      "2018-9 done\n",
      "2018-10 done\n",
      "2018-11 done\n",
      "2018-12 done\n",
      "2019-1 done\n",
      "2019-2 done\n",
      "2019-3 done\n",
      "2019-4 done\n",
      "2019-5 done\n",
      "2019-6 done\n",
      "2019-7 done\n",
      "2019-8 done\n",
      "2019-9 done\n",
      "2019-10 done\n",
      "2019-11 done\n",
      "2019-12 done\n",
      "2020-1 done\n",
      "2020-2 done\n",
      "2020-3 done\n",
      "2020-4 done\n",
      "2020-5 done\n",
      "2020-6 done\n",
      "2020-7 done\n",
      "2020-8 done\n",
      "2020-9 done\n",
      "2020-10 done\n",
      "2020-11 done\n",
      "2020-12 done\n",
      "2021-1 done\n",
      "2021-2 done\n",
      "2021-3 done\n",
      "2021-4 done\n",
      "2021-5 done\n",
      "2021-6 done\n",
      "2021-7 done\n",
      "2021-8 done\n",
      "2021-9 done\n",
      "2021-10 done\n",
      "2021-11 done\n",
      "2021-12 done\n",
      "2022-1 done\n",
      "2022-2 done\n",
      "2022-3 done\n",
      "2022-4 done\n",
      "2022-5 done\n",
      "2022-6 done\n",
      "2022-7 done\n",
      "2022-8 done\n",
      "2022-9 done\n",
      "2022-10 done\n",
      "2022-11 done\n",
      "2022-12 done\n",
      "2023-1 done\n",
      "2023-2 done\n",
      "2023-3 done\n",
      "2023-4 done\n",
      "2023-5 done\n",
      "2023-6 done\n",
      "2023-7 done\n",
      "2023-8 done\n",
      "2023-9 done\n",
      "2023-10 done\n",
      "2023-11 done\n",
      "2023-12 done\n"
     ]
    }
   ],
   "source": [
    "product_cost_2018 = await get_yearly_product_cost_df('2018')\n",
    "product_cost_2019 = await get_yearly_product_cost_df('2019')\n",
    "product_cost_2020 = await get_yearly_product_cost_df('2020')\n",
    "product_cost_2021 = await get_yearly_product_cost_df('2021')\n",
    "product_cost_2022 = await get_yearly_product_cost_df('2022')\n",
    "product_cost_2023 = await get_yearly_product_cost_df('2023')\n"
   ],
   "metadata": {
    "collapsed": false,
    "ExecuteTime": {
     "end_time": "2024-03-24T09:58:07.067121Z",
     "start_time": "2024-03-24T09:36:30.637494Z"
    }
   },
   "id": "877cf9be8d39aa0f",
   "execution_count": 63
  },
  {
   "cell_type": "code",
   "outputs": [],
   "source": [
    "product_cost_2018.to_csv(\"data/product_cost_2018.csv\", encoding='utf-8')\n",
    "product_cost_2019.to_csv(\"data/product_cost_2019.csv\", encoding='utf-8')\n",
    "product_cost_2020.to_csv(\"data/product_cost_2020.csv\", encoding='utf-8')\n",
    "product_cost_2021.to_csv(\"data/product_cost_2021.csv\", encoding='utf-8')\n",
    "product_cost_2022.to_csv(\"data/product_cost_2022.csv\", encoding='utf-8')\n",
    "product_cost_2023.to_csv(\"data/product_cost_2023.csv\", encoding='utf-8')"
   ],
   "metadata": {
    "collapsed": false,
    "ExecuteTime": {
     "end_time": "2024-03-24T11:32:59.681114Z",
     "start_time": "2024-03-24T11:32:59.625300Z"
    }
   },
   "id": "e71c2b71820c8619",
   "execution_count": 64
  },
  {
   "cell_type": "code",
   "outputs": [
    {
     "name": "stdout",
     "output_type": "stream",
     "text": [
      "2017-12 done\n"
     ]
    }
   ],
   "source": [
    "product_cost_2017 = await get_monthly_product_cost_df('2017', '12')\n",
    "product_cost_2017 = product_cost_2017.loc[product_cost_2017.COUNT_PER_TEN_DAYS == 35, 'YEAR':]\n",
    "product_cost_2017.to_csv(\"data/product_cost_2017.csv\", encoding='utf-8')"
   ],
   "metadata": {
    "collapsed": false,
    "ExecuteTime": {
     "end_time": "2024-03-24T11:33:06.215027Z",
     "start_time": "2024-03-24T11:33:00.361131Z"
    }
   },
   "id": "3247dda2a8bc2505",
   "execution_count": 65
  },
  {
   "cell_type": "code",
   "outputs": [],
   "source": [
    "product_cost = pd.concat([product_cost_2017, product_cost_2018, product_cost_2019, product_cost_2020, product_cost_2021, product_cost_2022, product_cost_2023])"
   ],
   "metadata": {
    "collapsed": false,
    "ExecuteTime": {
     "end_time": "2024-03-24T11:50:04.638451Z",
     "start_time": "2024-03-24T11:50:04.632286Z"
    }
   },
   "id": "cece835946bc30ea",
   "execution_count": 77
  },
  {
   "cell_type": "code",
   "outputs": [],
   "source": [
    "basic_product_info = pd.read_csv('data/basic_product_info.csv', encoding='utf-8')"
   ],
   "metadata": {
    "collapsed": false,
    "ExecuteTime": {
     "end_time": "2024-03-24T11:50:05.048033Z",
     "start_time": "2024-03-24T11:50:05.044752Z"
    }
   },
   "id": "d3812819ef2dd397",
   "execution_count": 78
  },
  {
   "cell_type": "code",
   "outputs": [],
   "source": [
    "selected_basic_product_info = basic_product_info.loc[basic_product_info['PRODUCT_CODE'].isin(product_cost['PRODUCT_CODE'].unique().tolist())]"
   ],
   "metadata": {
    "collapsed": false,
    "ExecuteTime": {
     "end_time": "2024-03-24T11:50:06.072388Z",
     "start_time": "2024-03-24T11:50:06.068933Z"
    }
   },
   "id": "b71c39ead06dc73d",
   "execution_count": 79
  },
  {
   "cell_type": "code",
   "outputs": [],
   "source": [
    "unit_info = product_cost[['PRODUCT_CODE', 'UNIT']]\n"
   ],
   "metadata": {
    "collapsed": false,
    "ExecuteTime": {
     "end_time": "2024-03-24T11:50:06.865571Z",
     "start_time": "2024-03-24T11:50:06.862518Z"
    }
   },
   "id": "fb7250255abf3392",
   "execution_count": 80
  },
  {
   "cell_type": "code",
   "outputs": [],
   "source": [
    "unit_info = unit_info.drop_duplicates(ignore_index=True)\n",
    "unit_info = unit_info.drop([55])"
   ],
   "metadata": {
    "collapsed": false,
    "ExecuteTime": {
     "end_time": "2024-03-24T11:50:07.369141Z",
     "start_time": "2024-03-24T11:50:07.364507Z"
    }
   },
   "id": "12ac1b52f15a15d3",
   "execution_count": 81
  },
  {
   "cell_type": "code",
   "outputs": [
    {
     "data": {
      "text/plain": "   PRODUCT_CODE UNIT\n0           111   kg\n1           112   kg\n2           141   kg\n3           142   kg\n4           143   kg\n5           144   kg\n6           151   kg\n7           152   kg\n8           211   kg\n9           212   kg\n10          213   kg\n11          214   kg\n12          215   kg\n13          221    개\n14          223    개\n15          224   kg\n16          225   kg\n17          226   kg\n18          231   kg\n19          232   kg\n20          233   kg\n21          241   kg\n22          242   kg\n23          243   kg\n24          244   kg\n25          245   kg\n26          246   kg\n27          247   kg\n28          252   kg\n29          253   kg\n30          255   kg\n31          256   kg\n32          257   kg\n33          258   kg\n34          422   kg\n35          312   kg\n36          313   kg\n37          314   kg\n38          315   kg\n39          316   kg\n40          317   kg\n41          411   kg\n42          412   kg\n43          414   kg\n44          415   kg\n45          416   kg\n46          418   kg\n47          419   kg\n48          420   kg\n49          421   kg\n50          424   kg\n51          428   kg\n52          222   kg\n53          425   kg\n54          413   kg\n56          279   kg\n57          280   kg",
      "text/html": "<div>\n<style scoped>\n    .dataframe tbody tr th:only-of-type {\n        vertical-align: middle;\n    }\n\n    .dataframe tbody tr th {\n        vertical-align: top;\n    }\n\n    .dataframe thead th {\n        text-align: right;\n    }\n</style>\n<table border=\"1\" class=\"dataframe\">\n  <thead>\n    <tr style=\"text-align: right;\">\n      <th></th>\n      <th>PRODUCT_CODE</th>\n      <th>UNIT</th>\n    </tr>\n  </thead>\n  <tbody>\n    <tr>\n      <th>0</th>\n      <td>111</td>\n      <td>kg</td>\n    </tr>\n    <tr>\n      <th>1</th>\n      <td>112</td>\n      <td>kg</td>\n    </tr>\n    <tr>\n      <th>2</th>\n      <td>141</td>\n      <td>kg</td>\n    </tr>\n    <tr>\n      <th>3</th>\n      <td>142</td>\n      <td>kg</td>\n    </tr>\n    <tr>\n      <th>4</th>\n      <td>143</td>\n      <td>kg</td>\n    </tr>\n    <tr>\n      <th>5</th>\n      <td>144</td>\n      <td>kg</td>\n    </tr>\n    <tr>\n      <th>6</th>\n      <td>151</td>\n      <td>kg</td>\n    </tr>\n    <tr>\n      <th>7</th>\n      <td>152</td>\n      <td>kg</td>\n    </tr>\n    <tr>\n      <th>8</th>\n      <td>211</td>\n      <td>kg</td>\n    </tr>\n    <tr>\n      <th>9</th>\n      <td>212</td>\n      <td>kg</td>\n    </tr>\n    <tr>\n      <th>10</th>\n      <td>213</td>\n      <td>kg</td>\n    </tr>\n    <tr>\n      <th>11</th>\n      <td>214</td>\n      <td>kg</td>\n    </tr>\n    <tr>\n      <th>12</th>\n      <td>215</td>\n      <td>kg</td>\n    </tr>\n    <tr>\n      <th>13</th>\n      <td>221</td>\n      <td>개</td>\n    </tr>\n    <tr>\n      <th>14</th>\n      <td>223</td>\n      <td>개</td>\n    </tr>\n    <tr>\n      <th>15</th>\n      <td>224</td>\n      <td>kg</td>\n    </tr>\n    <tr>\n      <th>16</th>\n      <td>225</td>\n      <td>kg</td>\n    </tr>\n    <tr>\n      <th>17</th>\n      <td>226</td>\n      <td>kg</td>\n    </tr>\n    <tr>\n      <th>18</th>\n      <td>231</td>\n      <td>kg</td>\n    </tr>\n    <tr>\n      <th>19</th>\n      <td>232</td>\n      <td>kg</td>\n    </tr>\n    <tr>\n      <th>20</th>\n      <td>233</td>\n      <td>kg</td>\n    </tr>\n    <tr>\n      <th>21</th>\n      <td>241</td>\n      <td>kg</td>\n    </tr>\n    <tr>\n      <th>22</th>\n      <td>242</td>\n      <td>kg</td>\n    </tr>\n    <tr>\n      <th>23</th>\n      <td>243</td>\n      <td>kg</td>\n    </tr>\n    <tr>\n      <th>24</th>\n      <td>244</td>\n      <td>kg</td>\n    </tr>\n    <tr>\n      <th>25</th>\n      <td>245</td>\n      <td>kg</td>\n    </tr>\n    <tr>\n      <th>26</th>\n      <td>246</td>\n      <td>kg</td>\n    </tr>\n    <tr>\n      <th>27</th>\n      <td>247</td>\n      <td>kg</td>\n    </tr>\n    <tr>\n      <th>28</th>\n      <td>252</td>\n      <td>kg</td>\n    </tr>\n    <tr>\n      <th>29</th>\n      <td>253</td>\n      <td>kg</td>\n    </tr>\n    <tr>\n      <th>30</th>\n      <td>255</td>\n      <td>kg</td>\n    </tr>\n    <tr>\n      <th>31</th>\n      <td>256</td>\n      <td>kg</td>\n    </tr>\n    <tr>\n      <th>32</th>\n      <td>257</td>\n      <td>kg</td>\n    </tr>\n    <tr>\n      <th>33</th>\n      <td>258</td>\n      <td>kg</td>\n    </tr>\n    <tr>\n      <th>34</th>\n      <td>422</td>\n      <td>kg</td>\n    </tr>\n    <tr>\n      <th>35</th>\n      <td>312</td>\n      <td>kg</td>\n    </tr>\n    <tr>\n      <th>36</th>\n      <td>313</td>\n      <td>kg</td>\n    </tr>\n    <tr>\n      <th>37</th>\n      <td>314</td>\n      <td>kg</td>\n    </tr>\n    <tr>\n      <th>38</th>\n      <td>315</td>\n      <td>kg</td>\n    </tr>\n    <tr>\n      <th>39</th>\n      <td>316</td>\n      <td>kg</td>\n    </tr>\n    <tr>\n      <th>40</th>\n      <td>317</td>\n      <td>kg</td>\n    </tr>\n    <tr>\n      <th>41</th>\n      <td>411</td>\n      <td>kg</td>\n    </tr>\n    <tr>\n      <th>42</th>\n      <td>412</td>\n      <td>kg</td>\n    </tr>\n    <tr>\n      <th>43</th>\n      <td>414</td>\n      <td>kg</td>\n    </tr>\n    <tr>\n      <th>44</th>\n      <td>415</td>\n      <td>kg</td>\n    </tr>\n    <tr>\n      <th>45</th>\n      <td>416</td>\n      <td>kg</td>\n    </tr>\n    <tr>\n      <th>46</th>\n      <td>418</td>\n      <td>kg</td>\n    </tr>\n    <tr>\n      <th>47</th>\n      <td>419</td>\n      <td>kg</td>\n    </tr>\n    <tr>\n      <th>48</th>\n      <td>420</td>\n      <td>kg</td>\n    </tr>\n    <tr>\n      <th>49</th>\n      <td>421</td>\n      <td>kg</td>\n    </tr>\n    <tr>\n      <th>50</th>\n      <td>424</td>\n      <td>kg</td>\n    </tr>\n    <tr>\n      <th>51</th>\n      <td>428</td>\n      <td>kg</td>\n    </tr>\n    <tr>\n      <th>52</th>\n      <td>222</td>\n      <td>kg</td>\n    </tr>\n    <tr>\n      <th>53</th>\n      <td>425</td>\n      <td>kg</td>\n    </tr>\n    <tr>\n      <th>54</th>\n      <td>413</td>\n      <td>kg</td>\n    </tr>\n    <tr>\n      <th>56</th>\n      <td>279</td>\n      <td>kg</td>\n    </tr>\n    <tr>\n      <th>57</th>\n      <td>280</td>\n      <td>kg</td>\n    </tr>\n  </tbody>\n</table>\n</div>"
     },
     "execution_count": 82,
     "metadata": {},
     "output_type": "execute_result"
    }
   ],
   "source": [
    "unit_info"
   ],
   "metadata": {
    "collapsed": false,
    "ExecuteTime": {
     "end_time": "2024-03-24T11:50:12.218526Z",
     "start_time": "2024-03-24T11:50:12.213446Z"
    }
   },
   "id": "efab8ebe8e402378",
   "execution_count": 82
  },
  {
   "cell_type": "code",
   "outputs": [],
   "source": [
    "selected_basic_product_info = pd.merge(left=selected_basic_product_info, right=unit_info, on='PRODUCT_CODE')"
   ],
   "metadata": {
    "collapsed": false,
    "ExecuteTime": {
     "end_time": "2024-03-24T11:50:18.381314Z",
     "start_time": "2024-03-24T11:50:18.374395Z"
    }
   },
   "id": "a1639eb06870fad",
   "execution_count": 83
  },
  {
   "cell_type": "code",
   "outputs": [
    {
     "data": {
      "text/plain": "   PRODUCT_CODE PRODUCT_NAME M_DISTCTNS  PRDCTN_ERA UNIT\n0           111            쌀       FALL        1536   kg\n1           112           찹쌀       FALL        1536   kg\n2           141            콩        ALL           0   kg\n3           142            팥       FALL        1536   kg\n4           143           녹두       FALL        1536   kg\n5           144           메밀       FALL        3072   kg\n6           151          고구마       FALL        1536   kg\n7           152           감자     SUMMER        1984   kg\n8           211           배추       FALL        6144   kg\n9           212          양배추     SPRING         224   kg\n10          279        알배기배추        ALL           0   kg\n11          280         브로콜리     WINTER        7680   kg\n12          213          시금치     WINTER           0   kg\n13          214           상추     SPRING         480   kg\n14          215        얼갈이배추       FALL        6144   kg\n15          221           수박     SUMMER         448    개\n16          222           참외     SUMMER         448   kg\n17          223           오이     SPRING         480    개\n18          224           호박        ALL           0   kg\n19          225          토마토     SUMMER         896   kg\n20          226           딸기     WINTER          62   kg\n21          231            무       FALL        3072   kg\n22          232           당근     WINTER        7168   kg\n23          233           열무     SUMMER          96   kg\n24          241          건고추        ALL           0   kg\n25          242          풋고추        ALL           0   kg\n26          243         붉은고추        ALL           0   kg\n27          244          피마늘        ALL           0   kg\n28          258      깐마늘(국산)        ALL           0   kg\n29          245           양파     SUMMER         240   kg\n30          246            파        ALL           0   kg\n31          247           생강       FALL        3840   kg\n32          252          미나리     SPRING          24   kg\n33          253           깻잎     SUMMER        8190   kg\n34          255           피망     SPRING        8176   kg\n35          256         파프리카       FALL        4064   kg\n36          257           멜론     SUMMER        1920   kg\n37          422        방울토마토     SUMMER         960   kg\n38          312           참깨       FALL           0   kg\n39          313           들깨       FALL           0   kg\n40          314           땅콩       FALL        3072   kg\n41          315        느타리버섯       FALL        8190   kg\n42          316         팽이버섯     WINTER        8190   kg\n43          317        새송이버섯       FALL        8190   kg\n44          411           사과       FALL        3968   kg\n45          412            배       FALL        1792   kg\n46          413          복숭아     SUMMER         448   kg\n47          414           포도     SUMMER        1792   kg\n48          415           감귤     WINTER           0   kg\n49          416           단감        ALL           0   kg\n50          418          바나나        ALL           0   kg\n51          419          참다래        ALL           0   kg\n52          420         파인애플     SPRING        1016   kg\n53          421          오렌지        ALL           0   kg\n54          424           레몬     WINTER           0   kg\n55          425           체리     SUMMER          96   kg\n56          428           망고        ALL           0   kg",
      "text/html": "<div>\n<style scoped>\n    .dataframe tbody tr th:only-of-type {\n        vertical-align: middle;\n    }\n\n    .dataframe tbody tr th {\n        vertical-align: top;\n    }\n\n    .dataframe thead th {\n        text-align: right;\n    }\n</style>\n<table border=\"1\" class=\"dataframe\">\n  <thead>\n    <tr style=\"text-align: right;\">\n      <th></th>\n      <th>PRODUCT_CODE</th>\n      <th>PRODUCT_NAME</th>\n      <th>M_DISTCTNS</th>\n      <th>PRDCTN_ERA</th>\n      <th>UNIT</th>\n    </tr>\n  </thead>\n  <tbody>\n    <tr>\n      <th>0</th>\n      <td>111</td>\n      <td>쌀</td>\n      <td>FALL</td>\n      <td>1536</td>\n      <td>kg</td>\n    </tr>\n    <tr>\n      <th>1</th>\n      <td>112</td>\n      <td>찹쌀</td>\n      <td>FALL</td>\n      <td>1536</td>\n      <td>kg</td>\n    </tr>\n    <tr>\n      <th>2</th>\n      <td>141</td>\n      <td>콩</td>\n      <td>ALL</td>\n      <td>0</td>\n      <td>kg</td>\n    </tr>\n    <tr>\n      <th>3</th>\n      <td>142</td>\n      <td>팥</td>\n      <td>FALL</td>\n      <td>1536</td>\n      <td>kg</td>\n    </tr>\n    <tr>\n      <th>4</th>\n      <td>143</td>\n      <td>녹두</td>\n      <td>FALL</td>\n      <td>1536</td>\n      <td>kg</td>\n    </tr>\n    <tr>\n      <th>5</th>\n      <td>144</td>\n      <td>메밀</td>\n      <td>FALL</td>\n      <td>3072</td>\n      <td>kg</td>\n    </tr>\n    <tr>\n      <th>6</th>\n      <td>151</td>\n      <td>고구마</td>\n      <td>FALL</td>\n      <td>1536</td>\n      <td>kg</td>\n    </tr>\n    <tr>\n      <th>7</th>\n      <td>152</td>\n      <td>감자</td>\n      <td>SUMMER</td>\n      <td>1984</td>\n      <td>kg</td>\n    </tr>\n    <tr>\n      <th>8</th>\n      <td>211</td>\n      <td>배추</td>\n      <td>FALL</td>\n      <td>6144</td>\n      <td>kg</td>\n    </tr>\n    <tr>\n      <th>9</th>\n      <td>212</td>\n      <td>양배추</td>\n      <td>SPRING</td>\n      <td>224</td>\n      <td>kg</td>\n    </tr>\n    <tr>\n      <th>10</th>\n      <td>279</td>\n      <td>알배기배추</td>\n      <td>ALL</td>\n      <td>0</td>\n      <td>kg</td>\n    </tr>\n    <tr>\n      <th>11</th>\n      <td>280</td>\n      <td>브로콜리</td>\n      <td>WINTER</td>\n      <td>7680</td>\n      <td>kg</td>\n    </tr>\n    <tr>\n      <th>12</th>\n      <td>213</td>\n      <td>시금치</td>\n      <td>WINTER</td>\n      <td>0</td>\n      <td>kg</td>\n    </tr>\n    <tr>\n      <th>13</th>\n      <td>214</td>\n      <td>상추</td>\n      <td>SPRING</td>\n      <td>480</td>\n      <td>kg</td>\n    </tr>\n    <tr>\n      <th>14</th>\n      <td>215</td>\n      <td>얼갈이배추</td>\n      <td>FALL</td>\n      <td>6144</td>\n      <td>kg</td>\n    </tr>\n    <tr>\n      <th>15</th>\n      <td>221</td>\n      <td>수박</td>\n      <td>SUMMER</td>\n      <td>448</td>\n      <td>개</td>\n    </tr>\n    <tr>\n      <th>16</th>\n      <td>222</td>\n      <td>참외</td>\n      <td>SUMMER</td>\n      <td>448</td>\n      <td>kg</td>\n    </tr>\n    <tr>\n      <th>17</th>\n      <td>223</td>\n      <td>오이</td>\n      <td>SPRING</td>\n      <td>480</td>\n      <td>개</td>\n    </tr>\n    <tr>\n      <th>18</th>\n      <td>224</td>\n      <td>호박</td>\n      <td>ALL</td>\n      <td>0</td>\n      <td>kg</td>\n    </tr>\n    <tr>\n      <th>19</th>\n      <td>225</td>\n      <td>토마토</td>\n      <td>SUMMER</td>\n      <td>896</td>\n      <td>kg</td>\n    </tr>\n    <tr>\n      <th>20</th>\n      <td>226</td>\n      <td>딸기</td>\n      <td>WINTER</td>\n      <td>62</td>\n      <td>kg</td>\n    </tr>\n    <tr>\n      <th>21</th>\n      <td>231</td>\n      <td>무</td>\n      <td>FALL</td>\n      <td>3072</td>\n      <td>kg</td>\n    </tr>\n    <tr>\n      <th>22</th>\n      <td>232</td>\n      <td>당근</td>\n      <td>WINTER</td>\n      <td>7168</td>\n      <td>kg</td>\n    </tr>\n    <tr>\n      <th>23</th>\n      <td>233</td>\n      <td>열무</td>\n      <td>SUMMER</td>\n      <td>96</td>\n      <td>kg</td>\n    </tr>\n    <tr>\n      <th>24</th>\n      <td>241</td>\n      <td>건고추</td>\n      <td>ALL</td>\n      <td>0</td>\n      <td>kg</td>\n    </tr>\n    <tr>\n      <th>25</th>\n      <td>242</td>\n      <td>풋고추</td>\n      <td>ALL</td>\n      <td>0</td>\n      <td>kg</td>\n    </tr>\n    <tr>\n      <th>26</th>\n      <td>243</td>\n      <td>붉은고추</td>\n      <td>ALL</td>\n      <td>0</td>\n      <td>kg</td>\n    </tr>\n    <tr>\n      <th>27</th>\n      <td>244</td>\n      <td>피마늘</td>\n      <td>ALL</td>\n      <td>0</td>\n      <td>kg</td>\n    </tr>\n    <tr>\n      <th>28</th>\n      <td>258</td>\n      <td>깐마늘(국산)</td>\n      <td>ALL</td>\n      <td>0</td>\n      <td>kg</td>\n    </tr>\n    <tr>\n      <th>29</th>\n      <td>245</td>\n      <td>양파</td>\n      <td>SUMMER</td>\n      <td>240</td>\n      <td>kg</td>\n    </tr>\n    <tr>\n      <th>30</th>\n      <td>246</td>\n      <td>파</td>\n      <td>ALL</td>\n      <td>0</td>\n      <td>kg</td>\n    </tr>\n    <tr>\n      <th>31</th>\n      <td>247</td>\n      <td>생강</td>\n      <td>FALL</td>\n      <td>3840</td>\n      <td>kg</td>\n    </tr>\n    <tr>\n      <th>32</th>\n      <td>252</td>\n      <td>미나리</td>\n      <td>SPRING</td>\n      <td>24</td>\n      <td>kg</td>\n    </tr>\n    <tr>\n      <th>33</th>\n      <td>253</td>\n      <td>깻잎</td>\n      <td>SUMMER</td>\n      <td>8190</td>\n      <td>kg</td>\n    </tr>\n    <tr>\n      <th>34</th>\n      <td>255</td>\n      <td>피망</td>\n      <td>SPRING</td>\n      <td>8176</td>\n      <td>kg</td>\n    </tr>\n    <tr>\n      <th>35</th>\n      <td>256</td>\n      <td>파프리카</td>\n      <td>FALL</td>\n      <td>4064</td>\n      <td>kg</td>\n    </tr>\n    <tr>\n      <th>36</th>\n      <td>257</td>\n      <td>멜론</td>\n      <td>SUMMER</td>\n      <td>1920</td>\n      <td>kg</td>\n    </tr>\n    <tr>\n      <th>37</th>\n      <td>422</td>\n      <td>방울토마토</td>\n      <td>SUMMER</td>\n      <td>960</td>\n      <td>kg</td>\n    </tr>\n    <tr>\n      <th>38</th>\n      <td>312</td>\n      <td>참깨</td>\n      <td>FALL</td>\n      <td>0</td>\n      <td>kg</td>\n    </tr>\n    <tr>\n      <th>39</th>\n      <td>313</td>\n      <td>들깨</td>\n      <td>FALL</td>\n      <td>0</td>\n      <td>kg</td>\n    </tr>\n    <tr>\n      <th>40</th>\n      <td>314</td>\n      <td>땅콩</td>\n      <td>FALL</td>\n      <td>3072</td>\n      <td>kg</td>\n    </tr>\n    <tr>\n      <th>41</th>\n      <td>315</td>\n      <td>느타리버섯</td>\n      <td>FALL</td>\n      <td>8190</td>\n      <td>kg</td>\n    </tr>\n    <tr>\n      <th>42</th>\n      <td>316</td>\n      <td>팽이버섯</td>\n      <td>WINTER</td>\n      <td>8190</td>\n      <td>kg</td>\n    </tr>\n    <tr>\n      <th>43</th>\n      <td>317</td>\n      <td>새송이버섯</td>\n      <td>FALL</td>\n      <td>8190</td>\n      <td>kg</td>\n    </tr>\n    <tr>\n      <th>44</th>\n      <td>411</td>\n      <td>사과</td>\n      <td>FALL</td>\n      <td>3968</td>\n      <td>kg</td>\n    </tr>\n    <tr>\n      <th>45</th>\n      <td>412</td>\n      <td>배</td>\n      <td>FALL</td>\n      <td>1792</td>\n      <td>kg</td>\n    </tr>\n    <tr>\n      <th>46</th>\n      <td>413</td>\n      <td>복숭아</td>\n      <td>SUMMER</td>\n      <td>448</td>\n      <td>kg</td>\n    </tr>\n    <tr>\n      <th>47</th>\n      <td>414</td>\n      <td>포도</td>\n      <td>SUMMER</td>\n      <td>1792</td>\n      <td>kg</td>\n    </tr>\n    <tr>\n      <th>48</th>\n      <td>415</td>\n      <td>감귤</td>\n      <td>WINTER</td>\n      <td>0</td>\n      <td>kg</td>\n    </tr>\n    <tr>\n      <th>49</th>\n      <td>416</td>\n      <td>단감</td>\n      <td>ALL</td>\n      <td>0</td>\n      <td>kg</td>\n    </tr>\n    <tr>\n      <th>50</th>\n      <td>418</td>\n      <td>바나나</td>\n      <td>ALL</td>\n      <td>0</td>\n      <td>kg</td>\n    </tr>\n    <tr>\n      <th>51</th>\n      <td>419</td>\n      <td>참다래</td>\n      <td>ALL</td>\n      <td>0</td>\n      <td>kg</td>\n    </tr>\n    <tr>\n      <th>52</th>\n      <td>420</td>\n      <td>파인애플</td>\n      <td>SPRING</td>\n      <td>1016</td>\n      <td>kg</td>\n    </tr>\n    <tr>\n      <th>53</th>\n      <td>421</td>\n      <td>오렌지</td>\n      <td>ALL</td>\n      <td>0</td>\n      <td>kg</td>\n    </tr>\n    <tr>\n      <th>54</th>\n      <td>424</td>\n      <td>레몬</td>\n      <td>WINTER</td>\n      <td>0</td>\n      <td>kg</td>\n    </tr>\n    <tr>\n      <th>55</th>\n      <td>425</td>\n      <td>체리</td>\n      <td>SUMMER</td>\n      <td>96</td>\n      <td>kg</td>\n    </tr>\n    <tr>\n      <th>56</th>\n      <td>428</td>\n      <td>망고</td>\n      <td>ALL</td>\n      <td>0</td>\n      <td>kg</td>\n    </tr>\n  </tbody>\n</table>\n</div>"
     },
     "execution_count": 84,
     "metadata": {},
     "output_type": "execute_result"
    }
   ],
   "source": [
    "selected_basic_product_info"
   ],
   "metadata": {
    "collapsed": false,
    "ExecuteTime": {
     "end_time": "2024-03-24T11:50:19.223449Z",
     "start_time": "2024-03-24T11:50:19.215060Z"
    }
   },
   "id": "42576838738c37e2",
   "execution_count": 84
  },
  {
   "cell_type": "code",
   "outputs": [],
   "source": [
    "selected_basic_product_info.to_csv('data/selected_basic_product_info.csv', encoding='utf-8', index=False)"
   ],
   "metadata": {
    "collapsed": false,
    "ExecuteTime": {
     "end_time": "2024-03-24T12:15:57.820329Z",
     "start_time": "2024-03-24T12:15:57.799810Z"
    }
   },
   "id": "afb78706a0a74bb9",
   "execution_count": 86
  },
  {
   "cell_type": "code",
   "outputs": [],
   "source": [],
   "metadata": {
    "collapsed": false
   },
   "id": "5bd77c697603d438"
  }
 ],
 "metadata": {
  "kernelspec": {
   "display_name": "Python 3",
   "language": "python",
   "name": "python3"
  },
  "language_info": {
   "codemirror_mode": {
    "name": "ipython",
    "version": 2
   },
   "file_extension": ".py",
   "mimetype": "text/x-python",
   "name": "python",
   "nbconvert_exporter": "python",
   "pygments_lexer": "ipython2",
   "version": "2.7.6"
  }
 },
 "nbformat": 4,
 "nbformat_minor": 5
}
