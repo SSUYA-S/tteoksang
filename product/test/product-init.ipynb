{
 "cells": [
  {
   "cell_type": "code",
   "outputs": [],
   "source": [
    "import pandas as pd\n",
    "import json\n",
    "pd.options.display.float_format = '{:,}'.format"
   ],
   "metadata": {
    "collapsed": false,
    "ExecuteTime": {
     "end_time": "2024-03-19T06:42:26.209837400Z",
     "start_time": "2024-03-19T06:42:26.204844200Z"
    }
   },
   "id": "7b057bd02a0a74dd",
   "execution_count": 23
  },
  {
   "cell_type": "code",
   "outputs": [],
   "source": [
    "with open(\"data/response.json\", 'rt', encoding='utf-8') as f:\n",
    "  data = json.load(f)\n",
    "  \n",
    "product_info_data = pd.json_normalize(data, record_path=['Grid_20171128000000000572_1','row'])\n",
    "product_info_data = product_info_data.drop(['M_DISTCTNS_ITM', 'PRDLST_CL', 'MTC_NM', 'MAIN_SPCIES_NM', 'EFFECT', 'PURCHASE_MTH', 'COOK_MTH', 'TRT_MTH', 'URL', 'IMG_URL', 'REGIST_DE'], axis=1)\n",
    "product_info_data['M_DISTCTNS'] = product_info_data['M_DISTCTNS'].apply(lambda x: x.replace(\"월\", \"\"))\n",
    "product_info_data['PRDCTN__ERA'] = product_info_data[\"PRDCTN__ERA\"].apply(lambda x: x.replace(\"월\", \"\"))"
   ],
   "metadata": {
    "collapsed": false,
    "ExecuteTime": {
     "end_time": "2024-03-19T06:47:25.523583800Z",
     "start_time": "2024-03-19T06:47:25.507857100Z"
    }
   },
   "id": "35b8ebcb4a81db2f",
   "execution_count": 34
  },
  {
   "cell_type": "code",
   "outputs": [
    {
     "data": {
      "text/plain": "     ROW_NUM  IDNTFC_NO PRDLST_NM M_DISTCTNS PRDCTN__ERA\n0          1     227366       산마늘          4         3~5\n1          2     227365        울외          6         3~7\n2          3     227364        밤콩          7           7\n3          4     227363        노각          4         4~7\n4          5     227362        삼채          6           6\n..       ...        ...       ...        ...         ...\n177      178     219814        당근         12       10~12\n178      179     219813      브로콜리         12        9~12\n179      180     219812       콜라비         12       11~12\n180      181     219811     콜리플라워         12        9~12\n181      182     219810        키위         12       10~12\n\n[182 rows x 5 columns]",
      "text/html": "<div>\n<style scoped>\n    .dataframe tbody tr th:only-of-type {\n        vertical-align: middle;\n    }\n\n    .dataframe tbody tr th {\n        vertical-align: top;\n    }\n\n    .dataframe thead th {\n        text-align: right;\n    }\n</style>\n<table border=\"1\" class=\"dataframe\">\n  <thead>\n    <tr style=\"text-align: right;\">\n      <th></th>\n      <th>ROW_NUM</th>\n      <th>IDNTFC_NO</th>\n      <th>PRDLST_NM</th>\n      <th>M_DISTCTNS</th>\n      <th>PRDCTN__ERA</th>\n    </tr>\n  </thead>\n  <tbody>\n    <tr>\n      <th>0</th>\n      <td>1</td>\n      <td>227366</td>\n      <td>산마늘</td>\n      <td>4</td>\n      <td>3~5</td>\n    </tr>\n    <tr>\n      <th>1</th>\n      <td>2</td>\n      <td>227365</td>\n      <td>울외</td>\n      <td>6</td>\n      <td>3~7</td>\n    </tr>\n    <tr>\n      <th>2</th>\n      <td>3</td>\n      <td>227364</td>\n      <td>밤콩</td>\n      <td>7</td>\n      <td>7</td>\n    </tr>\n    <tr>\n      <th>3</th>\n      <td>4</td>\n      <td>227363</td>\n      <td>노각</td>\n      <td>4</td>\n      <td>4~7</td>\n    </tr>\n    <tr>\n      <th>4</th>\n      <td>5</td>\n      <td>227362</td>\n      <td>삼채</td>\n      <td>6</td>\n      <td>6</td>\n    </tr>\n    <tr>\n      <th>...</th>\n      <td>...</td>\n      <td>...</td>\n      <td>...</td>\n      <td>...</td>\n      <td>...</td>\n    </tr>\n    <tr>\n      <th>177</th>\n      <td>178</td>\n      <td>219814</td>\n      <td>당근</td>\n      <td>12</td>\n      <td>10~12</td>\n    </tr>\n    <tr>\n      <th>178</th>\n      <td>179</td>\n      <td>219813</td>\n      <td>브로콜리</td>\n      <td>12</td>\n      <td>9~12</td>\n    </tr>\n    <tr>\n      <th>179</th>\n      <td>180</td>\n      <td>219812</td>\n      <td>콜라비</td>\n      <td>12</td>\n      <td>11~12</td>\n    </tr>\n    <tr>\n      <th>180</th>\n      <td>181</td>\n      <td>219811</td>\n      <td>콜리플라워</td>\n      <td>12</td>\n      <td>9~12</td>\n    </tr>\n    <tr>\n      <th>181</th>\n      <td>182</td>\n      <td>219810</td>\n      <td>키위</td>\n      <td>12</td>\n      <td>10~12</td>\n    </tr>\n  </tbody>\n</table>\n<p>182 rows × 5 columns</p>\n</div>"
     },
     "metadata": {},
     "output_type": "display_data"
    }
   ],
   "source": [
    "display(product_info_data)"
   ],
   "metadata": {
    "collapsed": false,
    "ExecuteTime": {
     "end_time": "2024-03-19T00:23:27.669907Z",
     "start_time": "2024-03-19T00:23:27.637754700Z"
    }
   },
   "id": "58d28be1fdbc0373",
   "execution_count": 6
  },
  {
   "cell_type": "code",
   "outputs": [
    {
     "data": {
      "text/plain": "    PRODUCT_CODE PRODUCT_NAME\n0            111            쌀\n1            112           찹쌀\n2            141            콩\n3            142            팥\n4            143           녹두\n..           ...          ...\n80           426          건포도\n81           427        건블루베리\n82           428           망고\n83           430         아보카도\n84           429         블루베리\n\n[85 rows x 2 columns]",
      "text/html": "<div>\n<style scoped>\n    .dataframe tbody tr th:only-of-type {\n        vertical-align: middle;\n    }\n\n    .dataframe tbody tr th {\n        vertical-align: top;\n    }\n\n    .dataframe thead th {\n        text-align: right;\n    }\n</style>\n<table border=\"1\" class=\"dataframe\">\n  <thead>\n    <tr style=\"text-align: right;\">\n      <th></th>\n      <th>PRODUCT_CODE</th>\n      <th>PRODUCT_NAME</th>\n    </tr>\n  </thead>\n  <tbody>\n    <tr>\n      <th>0</th>\n      <td>111</td>\n      <td>쌀</td>\n    </tr>\n    <tr>\n      <th>1</th>\n      <td>112</td>\n      <td>찹쌀</td>\n    </tr>\n    <tr>\n      <th>2</th>\n      <td>141</td>\n      <td>콩</td>\n    </tr>\n    <tr>\n      <th>3</th>\n      <td>142</td>\n      <td>팥</td>\n    </tr>\n    <tr>\n      <th>4</th>\n      <td>143</td>\n      <td>녹두</td>\n    </tr>\n    <tr>\n      <th>...</th>\n      <td>...</td>\n      <td>...</td>\n    </tr>\n    <tr>\n      <th>80</th>\n      <td>426</td>\n      <td>건포도</td>\n    </tr>\n    <tr>\n      <th>81</th>\n      <td>427</td>\n      <td>건블루베리</td>\n    </tr>\n    <tr>\n      <th>82</th>\n      <td>428</td>\n      <td>망고</td>\n    </tr>\n    <tr>\n      <th>83</th>\n      <td>430</td>\n      <td>아보카도</td>\n    </tr>\n    <tr>\n      <th>84</th>\n      <td>429</td>\n      <td>블루베리</td>\n    </tr>\n  </tbody>\n</table>\n<p>85 rows × 2 columns</p>\n</div>"
     },
     "metadata": {},
     "output_type": "display_data"
    }
   ],
   "source": [
    "product_code_data = pd.read_csv('data/productname.csv')\n",
    "display(product_code_data)"
   ],
   "metadata": {
    "collapsed": false,
    "ExecuteTime": {
     "end_time": "2024-03-19T06:47:29.935953500Z",
     "start_time": "2024-03-19T06:47:29.888617700Z"
    }
   },
   "id": "470045bbfe900a96",
   "execution_count": 35
  },
  {
   "cell_type": "code",
   "outputs": [
    {
     "data": {
      "text/plain": "    PRODUCT_CODE PRODUCT_NAME M_DISTCTNS PRDCTN__ERA\n0            111            쌀         10        9~10\n1            112           찹쌀          9        9~10\n2            141            콩        NaN         NaN\n3            142            팥          9        9~10\n4            143           녹두         10        9~10\n..           ...          ...        ...         ...\n80           426          건포도        NaN         NaN\n81           427        건블루베리        NaN         NaN\n82           428           망고        NaN         NaN\n83           430         아보카도        NaN         NaN\n84           429         블루베리          7         7~9\n\n[85 rows x 4 columns]",
      "text/html": "<div>\n<style scoped>\n    .dataframe tbody tr th:only-of-type {\n        vertical-align: middle;\n    }\n\n    .dataframe tbody tr th {\n        vertical-align: top;\n    }\n\n    .dataframe thead th {\n        text-align: right;\n    }\n</style>\n<table border=\"1\" class=\"dataframe\">\n  <thead>\n    <tr style=\"text-align: right;\">\n      <th></th>\n      <th>PRODUCT_CODE</th>\n      <th>PRODUCT_NAME</th>\n      <th>M_DISTCTNS</th>\n      <th>PRDCTN__ERA</th>\n    </tr>\n  </thead>\n  <tbody>\n    <tr>\n      <th>0</th>\n      <td>111</td>\n      <td>쌀</td>\n      <td>10</td>\n      <td>9~10</td>\n    </tr>\n    <tr>\n      <th>1</th>\n      <td>112</td>\n      <td>찹쌀</td>\n      <td>9</td>\n      <td>9~10</td>\n    </tr>\n    <tr>\n      <th>2</th>\n      <td>141</td>\n      <td>콩</td>\n      <td>NaN</td>\n      <td>NaN</td>\n    </tr>\n    <tr>\n      <th>3</th>\n      <td>142</td>\n      <td>팥</td>\n      <td>9</td>\n      <td>9~10</td>\n    </tr>\n    <tr>\n      <th>4</th>\n      <td>143</td>\n      <td>녹두</td>\n      <td>10</td>\n      <td>9~10</td>\n    </tr>\n    <tr>\n      <th>...</th>\n      <td>...</td>\n      <td>...</td>\n      <td>...</td>\n      <td>...</td>\n    </tr>\n    <tr>\n      <th>80</th>\n      <td>426</td>\n      <td>건포도</td>\n      <td>NaN</td>\n      <td>NaN</td>\n    </tr>\n    <tr>\n      <th>81</th>\n      <td>427</td>\n      <td>건블루베리</td>\n      <td>NaN</td>\n      <td>NaN</td>\n    </tr>\n    <tr>\n      <th>82</th>\n      <td>428</td>\n      <td>망고</td>\n      <td>NaN</td>\n      <td>NaN</td>\n    </tr>\n    <tr>\n      <th>83</th>\n      <td>430</td>\n      <td>아보카도</td>\n      <td>NaN</td>\n      <td>NaN</td>\n    </tr>\n    <tr>\n      <th>84</th>\n      <td>429</td>\n      <td>블루베리</td>\n      <td>7</td>\n      <td>7~9</td>\n    </tr>\n  </tbody>\n</table>\n<p>85 rows × 4 columns</p>\n</div>"
     },
     "metadata": {},
     "output_type": "display_data"
    }
   ],
   "source": [
    "product_info = pd.merge(left=product_code_data, right=product_info_data,how=\"left\", left_on='PRODUCT_NAME', right_on='PRDLST_NM')\n",
    "product_info = product_info.drop(['IDNTFC_NO', 'PRDLST_NM', 'ROW_NUM'], axis=1)\n",
    "display(product_info)"
   ],
   "metadata": {
    "collapsed": false,
    "ExecuteTime": {
     "end_time": "2024-03-19T06:47:34.367709900Z",
     "start_time": "2024-03-19T06:47:34.350190100Z"
    }
   },
   "id": "a4d74227eae72a13",
   "execution_count": 36
  },
  {
   "cell_type": "code",
   "outputs": [],
   "source": [
    "monthly_20 = pd.read_csv(\"data/monthly20.01-12.csv\", encoding=\"utf-8\")\n",
    "monthly_21 = pd.read_csv(\"data/monthly21.01-05.csv\", encoding=\"utf-8\")\n",
    "monthly_22 = pd.read_csv(\"data/monthly2022.01-05.csv\", encoding=\"utf-8\")"
   ],
   "metadata": {
    "collapsed": false,
    "ExecuteTime": {
     "end_time": "2024-03-19T06:26:18.708759Z",
     "start_time": "2024-03-19T06:26:18.699756200Z"
    }
   },
   "id": "f89ff7e24303f74",
   "execution_count": 8
  },
  {
   "cell_type": "code",
   "outputs": [],
   "source": [
    "monthly_20 = monthly_20[monthly_20['BASE_MM'] == 3]\n",
    "monthly_21 = monthly_21[monthly_21['BASE_MM'] == 3]\n",
    "monthly_22 = monthly_22[monthly_22['BASE_MM'] == 3]"
   ],
   "metadata": {
    "collapsed": false,
    "ExecuteTime": {
     "end_time": "2024-03-19T06:29:40.748747900Z",
     "start_time": "2024-03-19T06:29:40.735110800Z"
    }
   },
   "id": "5865afa74c693187",
   "execution_count": 12
  },
  {
   "cell_type": "code",
   "outputs": [],
   "source": [
    "concated_monthly = pd.concat([monthly_20, monthly_21, monthly_22], ignore_index=True)"
   ],
   "metadata": {
    "collapsed": false,
    "ExecuteTime": {
     "end_time": "2024-03-19T06:37:18.771543900Z",
     "start_time": "2024-03-19T06:37:18.766747900Z"
    }
   },
   "id": "b691b524eac5f595",
   "execution_count": 15
  },
  {
   "cell_type": "code",
   "outputs": [],
   "source": [
    "avg_base_cost = concated_monthly.groupby('AGFD_PDLT_NM')['PDTN_QY'].agg(['mean']).astype(int)"
   ],
   "metadata": {
    "collapsed": false,
    "ExecuteTime": {
     "end_time": "2024-03-19T06:48:24.994513300Z",
     "start_time": "2024-03-19T06:48:24.980329100Z"
    }
   },
   "id": "1ce13ca055cb7adc",
   "execution_count": 40
  },
  {
   "cell_type": "code",
   "outputs": [
    {
     "data": {
      "text/plain": "                 mean\nAGFD_PDLT_NM         \n가지             699244\n감              166024\n감귤             525670\n감자            1021321\n갓                4259\n...               ...\n풋옥수수            34360\n피망               4326\n호박             795661\n홍갓              27769\n홍고추              1461\n\n[126 rows x 1 columns]",
      "text/html": "<div>\n<style scoped>\n    .dataframe tbody tr th:only-of-type {\n        vertical-align: middle;\n    }\n\n    .dataframe tbody tr th {\n        vertical-align: top;\n    }\n\n    .dataframe thead th {\n        text-align: right;\n    }\n</style>\n<table border=\"1\" class=\"dataframe\">\n  <thead>\n    <tr style=\"text-align: right;\">\n      <th></th>\n      <th>mean</th>\n    </tr>\n    <tr>\n      <th>AGFD_PDLT_NM</th>\n      <th></th>\n    </tr>\n  </thead>\n  <tbody>\n    <tr>\n      <th>가지</th>\n      <td>699244</td>\n    </tr>\n    <tr>\n      <th>감</th>\n      <td>166024</td>\n    </tr>\n    <tr>\n      <th>감귤</th>\n      <td>525670</td>\n    </tr>\n    <tr>\n      <th>감자</th>\n      <td>1021321</td>\n    </tr>\n    <tr>\n      <th>갓</th>\n      <td>4259</td>\n    </tr>\n    <tr>\n      <th>...</th>\n      <td>...</td>\n    </tr>\n    <tr>\n      <th>풋옥수수</th>\n      <td>34360</td>\n    </tr>\n    <tr>\n      <th>피망</th>\n      <td>4326</td>\n    </tr>\n    <tr>\n      <th>호박</th>\n      <td>795661</td>\n    </tr>\n    <tr>\n      <th>홍갓</th>\n      <td>27769</td>\n    </tr>\n    <tr>\n      <th>홍고추</th>\n      <td>1461</td>\n    </tr>\n  </tbody>\n</table>\n<p>126 rows × 1 columns</p>\n</div>"
     },
     "metadata": {},
     "output_type": "display_data"
    }
   ],
   "source": [
    "display(avg_base_cost)"
   ],
   "metadata": {
    "collapsed": false,
    "ExecuteTime": {
     "end_time": "2024-03-19T06:45:41.798408200Z",
     "start_time": "2024-03-19T06:45:41.784721400Z"
    }
   },
   "id": "e89d1081893ab75d",
   "execution_count": 32
  },
  {
   "cell_type": "code",
   "outputs": [],
   "source": [
    "product_info = pd.merge(left=product_info, right=avg_base_cost,how=\"left\", left_on='PRODUCT_NAME', right_on='AGFD_PDLT_NM')\n"
   ],
   "metadata": {
    "collapsed": false,
    "ExecuteTime": {
     "end_time": "2024-03-19T06:47:39.962101500Z",
     "start_time": "2024-03-19T06:47:39.957824700Z"
    }
   },
   "id": "8fe80193cdba15c5",
   "execution_count": 37
  },
  {
   "cell_type": "code",
   "outputs": [
    {
     "data": {
      "text/plain": "    PRODUCT_CODE PRODUCT_NAME M_DISTCTNS PRDCTN__ERA     mean\n0            111            쌀         10        9~10      NaN\n1            112           찹쌀          9        9~10      NaN\n2            141            콩        NaN         NaN      NaN\n3            142            팥          9        9~10      NaN\n4            143           녹두         10        9~10      NaN\n..           ...          ...        ...         ...      ...\n80           426          건포도        NaN         NaN      NaN\n81           427        건블루베리        NaN         NaN      NaN\n82           428           망고        NaN         NaN      NaN\n83           430         아보카도        NaN         NaN      NaN\n84           429         블루베리          7         7~9 36,451.0\n\n[85 rows x 5 columns]",
      "text/html": "<div>\n<style scoped>\n    .dataframe tbody tr th:only-of-type {\n        vertical-align: middle;\n    }\n\n    .dataframe tbody tr th {\n        vertical-align: top;\n    }\n\n    .dataframe thead th {\n        text-align: right;\n    }\n</style>\n<table border=\"1\" class=\"dataframe\">\n  <thead>\n    <tr style=\"text-align: right;\">\n      <th></th>\n      <th>PRODUCT_CODE</th>\n      <th>PRODUCT_NAME</th>\n      <th>M_DISTCTNS</th>\n      <th>PRDCTN__ERA</th>\n      <th>mean</th>\n    </tr>\n  </thead>\n  <tbody>\n    <tr>\n      <th>0</th>\n      <td>111</td>\n      <td>쌀</td>\n      <td>10</td>\n      <td>9~10</td>\n      <td>NaN</td>\n    </tr>\n    <tr>\n      <th>1</th>\n      <td>112</td>\n      <td>찹쌀</td>\n      <td>9</td>\n      <td>9~10</td>\n      <td>NaN</td>\n    </tr>\n    <tr>\n      <th>2</th>\n      <td>141</td>\n      <td>콩</td>\n      <td>NaN</td>\n      <td>NaN</td>\n      <td>NaN</td>\n    </tr>\n    <tr>\n      <th>3</th>\n      <td>142</td>\n      <td>팥</td>\n      <td>9</td>\n      <td>9~10</td>\n      <td>NaN</td>\n    </tr>\n    <tr>\n      <th>4</th>\n      <td>143</td>\n      <td>녹두</td>\n      <td>10</td>\n      <td>9~10</td>\n      <td>NaN</td>\n    </tr>\n    <tr>\n      <th>...</th>\n      <td>...</td>\n      <td>...</td>\n      <td>...</td>\n      <td>...</td>\n      <td>...</td>\n    </tr>\n    <tr>\n      <th>80</th>\n      <td>426</td>\n      <td>건포도</td>\n      <td>NaN</td>\n      <td>NaN</td>\n      <td>NaN</td>\n    </tr>\n    <tr>\n      <th>81</th>\n      <td>427</td>\n      <td>건블루베리</td>\n      <td>NaN</td>\n      <td>NaN</td>\n      <td>NaN</td>\n    </tr>\n    <tr>\n      <th>82</th>\n      <td>428</td>\n      <td>망고</td>\n      <td>NaN</td>\n      <td>NaN</td>\n      <td>NaN</td>\n    </tr>\n    <tr>\n      <th>83</th>\n      <td>430</td>\n      <td>아보카도</td>\n      <td>NaN</td>\n      <td>NaN</td>\n      <td>NaN</td>\n    </tr>\n    <tr>\n      <th>84</th>\n      <td>429</td>\n      <td>블루베리</td>\n      <td>7</td>\n      <td>7~9</td>\n      <td>36,451.0</td>\n    </tr>\n  </tbody>\n</table>\n<p>85 rows × 5 columns</p>\n</div>"
     },
     "metadata": {},
     "output_type": "display_data"
    }
   ],
   "source": [
    "display(product_info)"
   ],
   "metadata": {
    "collapsed": false,
    "ExecuteTime": {
     "end_time": "2024-03-19T06:48:28.147196600Z",
     "start_time": "2024-03-19T06:48:28.140865600Z"
    }
   },
   "id": "ab23603e96028927",
   "execution_count": 41
  },
  {
   "cell_type": "code",
   "outputs": [],
   "source": [
    "non_distinct_product = product_info[product_info.notna().all(axis=1)]\n",
    "distinct_product = product_info[product_info.isna().any(axis=1)]"
   ],
   "metadata": {
    "collapsed": false,
    "ExecuteTime": {
     "end_time": "2024-03-19T06:49:07.338607500Z",
     "start_time": "2024-03-19T06:49:07.325725400Z"
    }
   },
   "id": "d9ddc0e42e92ebf5",
   "execution_count": 42
  },
  {
   "cell_type": "code",
   "outputs": [
    {
     "data": {
      "text/plain": "    PRODUCT_CODE PRODUCT_NAME M_DISTCTNS PRDCTN__ERA        mean\n6            151          고구마          9        9~10 1,397,962.0\n7            152           감자          7        6~10 1,021,321.0\n10           162           보리          6           6     8,616.0\n13           114           기장          9        8~10     7,539.0\n14           211           배추         11       11~12   755,930.0\n15           212          양배추          5         5~7 4,862,197.0\n17           280         브로콜리         12        9~12    71,967.0\n18           213          시금치          2        11~2   490,876.0\n19           214           상추          5         5~8   218,760.0\n21           216            갓         10        9~12     4,259.0\n22           221           수박          7         6~8 1,486,194.0\n23           222           참외          6         6~8   148,571.0\n24           223           오이          5         5~8   747,037.0\n26           225          토마토          7         7~9 2,279,155.0\n27           226           딸기          2         1~5   650,050.0\n28           231            무         11       10~11   696,436.0\n29           232           당근         12       10~12 1,103,713.0\n30           233           열무          6         5~6    53,370.0\n37           245           양파          7         4~7 2,383,149.0\n39           247           생강         10        8~11    25,140.0\n41           251           가지          7        6~10   699,244.0\n42           252          미나리          3         3~4    26,468.0\n43           253           깻잎          7        1~12    59,203.0\n44           254           부추          6        6~10    96,423.0\n45           255           피망          5        4~12     4,326.0\n46           256         파프리카         11        5~11   207,656.0\n48           261         브로콜리         12        9~12    71,967.0\n50           263          청경채         10       10~연중     8,230.0\n54           217           연근          2         9~3     2,425.0\n55           218           우엉          1         1~3    47,525.0\n67           411           사과          9        7~11 2,820,680.0\n68           412            배          9        8~10   571,676.0\n69           413          복숭아          8         6~8   380,520.0\n70           414           포도          8        8~10   859,071.0\n71           415           감귤          1        10~3   525,670.0\n75           420         파인애플          4         3~9   114,848.0\n78           424           레몬          1        10~1    10,458.0\n79           425           체리          6         5~6     5,491.0\n84           429         블루베리          7         7~9    36,451.0",
      "text/html": "<div>\n<style scoped>\n    .dataframe tbody tr th:only-of-type {\n        vertical-align: middle;\n    }\n\n    .dataframe tbody tr th {\n        vertical-align: top;\n    }\n\n    .dataframe thead th {\n        text-align: right;\n    }\n</style>\n<table border=\"1\" class=\"dataframe\">\n  <thead>\n    <tr style=\"text-align: right;\">\n      <th></th>\n      <th>PRODUCT_CODE</th>\n      <th>PRODUCT_NAME</th>\n      <th>M_DISTCTNS</th>\n      <th>PRDCTN__ERA</th>\n      <th>mean</th>\n    </tr>\n  </thead>\n  <tbody>\n    <tr>\n      <th>6</th>\n      <td>151</td>\n      <td>고구마</td>\n      <td>9</td>\n      <td>9~10</td>\n      <td>1,397,962.0</td>\n    </tr>\n    <tr>\n      <th>7</th>\n      <td>152</td>\n      <td>감자</td>\n      <td>7</td>\n      <td>6~10</td>\n      <td>1,021,321.0</td>\n    </tr>\n    <tr>\n      <th>10</th>\n      <td>162</td>\n      <td>보리</td>\n      <td>6</td>\n      <td>6</td>\n      <td>8,616.0</td>\n    </tr>\n    <tr>\n      <th>13</th>\n      <td>114</td>\n      <td>기장</td>\n      <td>9</td>\n      <td>8~10</td>\n      <td>7,539.0</td>\n    </tr>\n    <tr>\n      <th>14</th>\n      <td>211</td>\n      <td>배추</td>\n      <td>11</td>\n      <td>11~12</td>\n      <td>755,930.0</td>\n    </tr>\n    <tr>\n      <th>15</th>\n      <td>212</td>\n      <td>양배추</td>\n      <td>5</td>\n      <td>5~7</td>\n      <td>4,862,197.0</td>\n    </tr>\n    <tr>\n      <th>17</th>\n      <td>280</td>\n      <td>브로콜리</td>\n      <td>12</td>\n      <td>9~12</td>\n      <td>71,967.0</td>\n    </tr>\n    <tr>\n      <th>18</th>\n      <td>213</td>\n      <td>시금치</td>\n      <td>2</td>\n      <td>11~2</td>\n      <td>490,876.0</td>\n    </tr>\n    <tr>\n      <th>19</th>\n      <td>214</td>\n      <td>상추</td>\n      <td>5</td>\n      <td>5~8</td>\n      <td>218,760.0</td>\n    </tr>\n    <tr>\n      <th>21</th>\n      <td>216</td>\n      <td>갓</td>\n      <td>10</td>\n      <td>9~12</td>\n      <td>4,259.0</td>\n    </tr>\n    <tr>\n      <th>22</th>\n      <td>221</td>\n      <td>수박</td>\n      <td>7</td>\n      <td>6~8</td>\n      <td>1,486,194.0</td>\n    </tr>\n    <tr>\n      <th>23</th>\n      <td>222</td>\n      <td>참외</td>\n      <td>6</td>\n      <td>6~8</td>\n      <td>148,571.0</td>\n    </tr>\n    <tr>\n      <th>24</th>\n      <td>223</td>\n      <td>오이</td>\n      <td>5</td>\n      <td>5~8</td>\n      <td>747,037.0</td>\n    </tr>\n    <tr>\n      <th>26</th>\n      <td>225</td>\n      <td>토마토</td>\n      <td>7</td>\n      <td>7~9</td>\n      <td>2,279,155.0</td>\n    </tr>\n    <tr>\n      <th>27</th>\n      <td>226</td>\n      <td>딸기</td>\n      <td>2</td>\n      <td>1~5</td>\n      <td>650,050.0</td>\n    </tr>\n    <tr>\n      <th>28</th>\n      <td>231</td>\n      <td>무</td>\n      <td>11</td>\n      <td>10~11</td>\n      <td>696,436.0</td>\n    </tr>\n    <tr>\n      <th>29</th>\n      <td>232</td>\n      <td>당근</td>\n      <td>12</td>\n      <td>10~12</td>\n      <td>1,103,713.0</td>\n    </tr>\n    <tr>\n      <th>30</th>\n      <td>233</td>\n      <td>열무</td>\n      <td>6</td>\n      <td>5~6</td>\n      <td>53,370.0</td>\n    </tr>\n    <tr>\n      <th>37</th>\n      <td>245</td>\n      <td>양파</td>\n      <td>7</td>\n      <td>4~7</td>\n      <td>2,383,149.0</td>\n    </tr>\n    <tr>\n      <th>39</th>\n      <td>247</td>\n      <td>생강</td>\n      <td>10</td>\n      <td>8~11</td>\n      <td>25,140.0</td>\n    </tr>\n    <tr>\n      <th>41</th>\n      <td>251</td>\n      <td>가지</td>\n      <td>7</td>\n      <td>6~10</td>\n      <td>699,244.0</td>\n    </tr>\n    <tr>\n      <th>42</th>\n      <td>252</td>\n      <td>미나리</td>\n      <td>3</td>\n      <td>3~4</td>\n      <td>26,468.0</td>\n    </tr>\n    <tr>\n      <th>43</th>\n      <td>253</td>\n      <td>깻잎</td>\n      <td>7</td>\n      <td>1~12</td>\n      <td>59,203.0</td>\n    </tr>\n    <tr>\n      <th>44</th>\n      <td>254</td>\n      <td>부추</td>\n      <td>6</td>\n      <td>6~10</td>\n      <td>96,423.0</td>\n    </tr>\n    <tr>\n      <th>45</th>\n      <td>255</td>\n      <td>피망</td>\n      <td>5</td>\n      <td>4~12</td>\n      <td>4,326.0</td>\n    </tr>\n    <tr>\n      <th>46</th>\n      <td>256</td>\n      <td>파프리카</td>\n      <td>11</td>\n      <td>5~11</td>\n      <td>207,656.0</td>\n    </tr>\n    <tr>\n      <th>48</th>\n      <td>261</td>\n      <td>브로콜리</td>\n      <td>12</td>\n      <td>9~12</td>\n      <td>71,967.0</td>\n    </tr>\n    <tr>\n      <th>50</th>\n      <td>263</td>\n      <td>청경채</td>\n      <td>10</td>\n      <td>10~연중</td>\n      <td>8,230.0</td>\n    </tr>\n    <tr>\n      <th>54</th>\n      <td>217</td>\n      <td>연근</td>\n      <td>2</td>\n      <td>9~3</td>\n      <td>2,425.0</td>\n    </tr>\n    <tr>\n      <th>55</th>\n      <td>218</td>\n      <td>우엉</td>\n      <td>1</td>\n      <td>1~3</td>\n      <td>47,525.0</td>\n    </tr>\n    <tr>\n      <th>67</th>\n      <td>411</td>\n      <td>사과</td>\n      <td>9</td>\n      <td>7~11</td>\n      <td>2,820,680.0</td>\n    </tr>\n    <tr>\n      <th>68</th>\n      <td>412</td>\n      <td>배</td>\n      <td>9</td>\n      <td>8~10</td>\n      <td>571,676.0</td>\n    </tr>\n    <tr>\n      <th>69</th>\n      <td>413</td>\n      <td>복숭아</td>\n      <td>8</td>\n      <td>6~8</td>\n      <td>380,520.0</td>\n    </tr>\n    <tr>\n      <th>70</th>\n      <td>414</td>\n      <td>포도</td>\n      <td>8</td>\n      <td>8~10</td>\n      <td>859,071.0</td>\n    </tr>\n    <tr>\n      <th>71</th>\n      <td>415</td>\n      <td>감귤</td>\n      <td>1</td>\n      <td>10~3</td>\n      <td>525,670.0</td>\n    </tr>\n    <tr>\n      <th>75</th>\n      <td>420</td>\n      <td>파인애플</td>\n      <td>4</td>\n      <td>3~9</td>\n      <td>114,848.0</td>\n    </tr>\n    <tr>\n      <th>78</th>\n      <td>424</td>\n      <td>레몬</td>\n      <td>1</td>\n      <td>10~1</td>\n      <td>10,458.0</td>\n    </tr>\n    <tr>\n      <th>79</th>\n      <td>425</td>\n      <td>체리</td>\n      <td>6</td>\n      <td>5~6</td>\n      <td>5,491.0</td>\n    </tr>\n    <tr>\n      <th>84</th>\n      <td>429</td>\n      <td>블루베리</td>\n      <td>7</td>\n      <td>7~9</td>\n      <td>36,451.0</td>\n    </tr>\n  </tbody>\n</table>\n</div>"
     },
     "metadata": {},
     "output_type": "display_data"
    }
   ],
   "source": [
    "display(non_distinct_product)"
   ],
   "metadata": {
    "collapsed": false,
    "ExecuteTime": {
     "end_time": "2024-03-19T06:49:14.524326Z",
     "start_time": "2024-03-19T06:49:14.511774800Z"
    }
   },
   "id": "62b574d0a05a4454",
   "execution_count": 43
  },
  {
   "cell_type": "code",
   "outputs": [
    {
     "data": {
      "text/plain": "    PRODUCT_CODE PRODUCT_NAME M_DISTCTNS     PRDCTN__ERA      mean\n0            111            쌀         10            9~10       NaN\n1            112           찹쌀          9            9~10       NaN\n2            141            콩        NaN             NaN       NaN\n3            142            팥          9            9~10       NaN\n4            143           녹두         10            9~10       NaN\n5            144           메밀         10           10~11       NaN\n8            161           귀리          9            9~10       NaN\n9            113          혼합곡        NaN             NaN       NaN\n11           163           수수         10            9~10       NaN\n12           164           율무          9            9~10       NaN\n16           279        알배기배추        NaN             NaN       NaN\n20           215        얼갈이배추         11           11~12       NaN\n25           224           호박        NaN             NaN 795,661.0\n31           241          건고추        NaN             NaN       NaN\n32           242          풋고추        NaN             NaN  81,679.0\n33           243         붉은고추        NaN             NaN       NaN\n34           244          피마늘        NaN             NaN       NaN\n35           258      깐마늘(국산)        NaN             NaN       NaN\n36           259      깐마늘(수입)        NaN             NaN       NaN\n38           246            파        NaN             NaN       NaN\n40           248         고춧가루        NaN             NaN       NaN\n47           257           멜론          8            7~10       NaN\n49           262          양상추        NaN             NaN 468,254.0\n51           264           케일        NaN             NaN     271.0\n52           265          콩나물        NaN             NaN 475,314.0\n53           422        방울토마토          6             6~9       NaN\n56           266         절임배추        NaN             NaN       NaN\n57           312           참깨          9  참깨파종 5~7 수확8~9       NaN\n58           313           들깨         10              10       NaN\n59           314           땅콩         10           10~11       NaN\n60           315        느타리버섯         10            1~12       NaN\n61           316         팽이버섯          1            1~12       NaN\n62           317        새송이버섯         10            1~12       NaN\n63           318           호두         10            9~10       NaN\n64           319          아몬드        NaN             NaN       NaN\n65           321        양송이버섯         10            1~12       NaN\n66           322         표고버섯          9            9~10       NaN\n72           416           단감        NaN             NaN 330,192.0\n73           418          바나나        NaN             NaN 103,363.0\n74           419          참다래        NaN             NaN       NaN\n76           421          오렌지        NaN             NaN  10,458.0\n77           423           자몽        NaN             NaN  10,458.0\n80           426          건포도        NaN             NaN       NaN\n81           427        건블루베리        NaN             NaN       NaN\n82           428           망고        NaN             NaN       NaN\n83           430         아보카도        NaN             NaN       NaN",
      "text/html": "<div>\n<style scoped>\n    .dataframe tbody tr th:only-of-type {\n        vertical-align: middle;\n    }\n\n    .dataframe tbody tr th {\n        vertical-align: top;\n    }\n\n    .dataframe thead th {\n        text-align: right;\n    }\n</style>\n<table border=\"1\" class=\"dataframe\">\n  <thead>\n    <tr style=\"text-align: right;\">\n      <th></th>\n      <th>PRODUCT_CODE</th>\n      <th>PRODUCT_NAME</th>\n      <th>M_DISTCTNS</th>\n      <th>PRDCTN__ERA</th>\n      <th>mean</th>\n    </tr>\n  </thead>\n  <tbody>\n    <tr>\n      <th>0</th>\n      <td>111</td>\n      <td>쌀</td>\n      <td>10</td>\n      <td>9~10</td>\n      <td>NaN</td>\n    </tr>\n    <tr>\n      <th>1</th>\n      <td>112</td>\n      <td>찹쌀</td>\n      <td>9</td>\n      <td>9~10</td>\n      <td>NaN</td>\n    </tr>\n    <tr>\n      <th>2</th>\n      <td>141</td>\n      <td>콩</td>\n      <td>NaN</td>\n      <td>NaN</td>\n      <td>NaN</td>\n    </tr>\n    <tr>\n      <th>3</th>\n      <td>142</td>\n      <td>팥</td>\n      <td>9</td>\n      <td>9~10</td>\n      <td>NaN</td>\n    </tr>\n    <tr>\n      <th>4</th>\n      <td>143</td>\n      <td>녹두</td>\n      <td>10</td>\n      <td>9~10</td>\n      <td>NaN</td>\n    </tr>\n    <tr>\n      <th>5</th>\n      <td>144</td>\n      <td>메밀</td>\n      <td>10</td>\n      <td>10~11</td>\n      <td>NaN</td>\n    </tr>\n    <tr>\n      <th>8</th>\n      <td>161</td>\n      <td>귀리</td>\n      <td>9</td>\n      <td>9~10</td>\n      <td>NaN</td>\n    </tr>\n    <tr>\n      <th>9</th>\n      <td>113</td>\n      <td>혼합곡</td>\n      <td>NaN</td>\n      <td>NaN</td>\n      <td>NaN</td>\n    </tr>\n    <tr>\n      <th>11</th>\n      <td>163</td>\n      <td>수수</td>\n      <td>10</td>\n      <td>9~10</td>\n      <td>NaN</td>\n    </tr>\n    <tr>\n      <th>12</th>\n      <td>164</td>\n      <td>율무</td>\n      <td>9</td>\n      <td>9~10</td>\n      <td>NaN</td>\n    </tr>\n    <tr>\n      <th>16</th>\n      <td>279</td>\n      <td>알배기배추</td>\n      <td>NaN</td>\n      <td>NaN</td>\n      <td>NaN</td>\n    </tr>\n    <tr>\n      <th>20</th>\n      <td>215</td>\n      <td>얼갈이배추</td>\n      <td>11</td>\n      <td>11~12</td>\n      <td>NaN</td>\n    </tr>\n    <tr>\n      <th>25</th>\n      <td>224</td>\n      <td>호박</td>\n      <td>NaN</td>\n      <td>NaN</td>\n      <td>795,661.0</td>\n    </tr>\n    <tr>\n      <th>31</th>\n      <td>241</td>\n      <td>건고추</td>\n      <td>NaN</td>\n      <td>NaN</td>\n      <td>NaN</td>\n    </tr>\n    <tr>\n      <th>32</th>\n      <td>242</td>\n      <td>풋고추</td>\n      <td>NaN</td>\n      <td>NaN</td>\n      <td>81,679.0</td>\n    </tr>\n    <tr>\n      <th>33</th>\n      <td>243</td>\n      <td>붉은고추</td>\n      <td>NaN</td>\n      <td>NaN</td>\n      <td>NaN</td>\n    </tr>\n    <tr>\n      <th>34</th>\n      <td>244</td>\n      <td>피마늘</td>\n      <td>NaN</td>\n      <td>NaN</td>\n      <td>NaN</td>\n    </tr>\n    <tr>\n      <th>35</th>\n      <td>258</td>\n      <td>깐마늘(국산)</td>\n      <td>NaN</td>\n      <td>NaN</td>\n      <td>NaN</td>\n    </tr>\n    <tr>\n      <th>36</th>\n      <td>259</td>\n      <td>깐마늘(수입)</td>\n      <td>NaN</td>\n      <td>NaN</td>\n      <td>NaN</td>\n    </tr>\n    <tr>\n      <th>38</th>\n      <td>246</td>\n      <td>파</td>\n      <td>NaN</td>\n      <td>NaN</td>\n      <td>NaN</td>\n    </tr>\n    <tr>\n      <th>40</th>\n      <td>248</td>\n      <td>고춧가루</td>\n      <td>NaN</td>\n      <td>NaN</td>\n      <td>NaN</td>\n    </tr>\n    <tr>\n      <th>47</th>\n      <td>257</td>\n      <td>멜론</td>\n      <td>8</td>\n      <td>7~10</td>\n      <td>NaN</td>\n    </tr>\n    <tr>\n      <th>49</th>\n      <td>262</td>\n      <td>양상추</td>\n      <td>NaN</td>\n      <td>NaN</td>\n      <td>468,254.0</td>\n    </tr>\n    <tr>\n      <th>51</th>\n      <td>264</td>\n      <td>케일</td>\n      <td>NaN</td>\n      <td>NaN</td>\n      <td>271.0</td>\n    </tr>\n    <tr>\n      <th>52</th>\n      <td>265</td>\n      <td>콩나물</td>\n      <td>NaN</td>\n      <td>NaN</td>\n      <td>475,314.0</td>\n    </tr>\n    <tr>\n      <th>53</th>\n      <td>422</td>\n      <td>방울토마토</td>\n      <td>6</td>\n      <td>6~9</td>\n      <td>NaN</td>\n    </tr>\n    <tr>\n      <th>56</th>\n      <td>266</td>\n      <td>절임배추</td>\n      <td>NaN</td>\n      <td>NaN</td>\n      <td>NaN</td>\n    </tr>\n    <tr>\n      <th>57</th>\n      <td>312</td>\n      <td>참깨</td>\n      <td>9</td>\n      <td>참깨파종 5~7 수확8~9</td>\n      <td>NaN</td>\n    </tr>\n    <tr>\n      <th>58</th>\n      <td>313</td>\n      <td>들깨</td>\n      <td>10</td>\n      <td>10</td>\n      <td>NaN</td>\n    </tr>\n    <tr>\n      <th>59</th>\n      <td>314</td>\n      <td>땅콩</td>\n      <td>10</td>\n      <td>10~11</td>\n      <td>NaN</td>\n    </tr>\n    <tr>\n      <th>60</th>\n      <td>315</td>\n      <td>느타리버섯</td>\n      <td>10</td>\n      <td>1~12</td>\n      <td>NaN</td>\n    </tr>\n    <tr>\n      <th>61</th>\n      <td>316</td>\n      <td>팽이버섯</td>\n      <td>1</td>\n      <td>1~12</td>\n      <td>NaN</td>\n    </tr>\n    <tr>\n      <th>62</th>\n      <td>317</td>\n      <td>새송이버섯</td>\n      <td>10</td>\n      <td>1~12</td>\n      <td>NaN</td>\n    </tr>\n    <tr>\n      <th>63</th>\n      <td>318</td>\n      <td>호두</td>\n      <td>10</td>\n      <td>9~10</td>\n      <td>NaN</td>\n    </tr>\n    <tr>\n      <th>64</th>\n      <td>319</td>\n      <td>아몬드</td>\n      <td>NaN</td>\n      <td>NaN</td>\n      <td>NaN</td>\n    </tr>\n    <tr>\n      <th>65</th>\n      <td>321</td>\n      <td>양송이버섯</td>\n      <td>10</td>\n      <td>1~12</td>\n      <td>NaN</td>\n    </tr>\n    <tr>\n      <th>66</th>\n      <td>322</td>\n      <td>표고버섯</td>\n      <td>9</td>\n      <td>9~10</td>\n      <td>NaN</td>\n    </tr>\n    <tr>\n      <th>72</th>\n      <td>416</td>\n      <td>단감</td>\n      <td>NaN</td>\n      <td>NaN</td>\n      <td>330,192.0</td>\n    </tr>\n    <tr>\n      <th>73</th>\n      <td>418</td>\n      <td>바나나</td>\n      <td>NaN</td>\n      <td>NaN</td>\n      <td>103,363.0</td>\n    </tr>\n    <tr>\n      <th>74</th>\n      <td>419</td>\n      <td>참다래</td>\n      <td>NaN</td>\n      <td>NaN</td>\n      <td>NaN</td>\n    </tr>\n    <tr>\n      <th>76</th>\n      <td>421</td>\n      <td>오렌지</td>\n      <td>NaN</td>\n      <td>NaN</td>\n      <td>10,458.0</td>\n    </tr>\n    <tr>\n      <th>77</th>\n      <td>423</td>\n      <td>자몽</td>\n      <td>NaN</td>\n      <td>NaN</td>\n      <td>10,458.0</td>\n    </tr>\n    <tr>\n      <th>80</th>\n      <td>426</td>\n      <td>건포도</td>\n      <td>NaN</td>\n      <td>NaN</td>\n      <td>NaN</td>\n    </tr>\n    <tr>\n      <th>81</th>\n      <td>427</td>\n      <td>건블루베리</td>\n      <td>NaN</td>\n      <td>NaN</td>\n      <td>NaN</td>\n    </tr>\n    <tr>\n      <th>82</th>\n      <td>428</td>\n      <td>망고</td>\n      <td>NaN</td>\n      <td>NaN</td>\n      <td>NaN</td>\n    </tr>\n    <tr>\n      <th>83</th>\n      <td>430</td>\n      <td>아보카도</td>\n      <td>NaN</td>\n      <td>NaN</td>\n      <td>NaN</td>\n    </tr>\n  </tbody>\n</table>\n</div>"
     },
     "metadata": {},
     "output_type": "display_data"
    }
   ],
   "source": [
    "display(distinct_product)"
   ],
   "metadata": {
    "collapsed": false,
    "ExecuteTime": {
     "end_time": "2024-03-19T06:49:36.927188200Z",
     "start_time": "2024-03-19T06:49:36.910204900Z"
    }
   },
   "id": "cf7db946ecac0160",
   "execution_count": 45
  },
  {
   "cell_type": "code",
   "outputs": [],
   "source": [],
   "metadata": {
    "collapsed": false
   },
   "id": "6eb2e156d5b945c5"
  }
 ],
 "metadata": {
  "kernelspec": {
   "display_name": "Python 3",
   "language": "python",
   "name": "python3"
  },
  "language_info": {
   "codemirror_mode": {
    "name": "ipython",
    "version": 2
   },
   "file_extension": ".py",
   "mimetype": "text/x-python",
   "name": "python",
   "nbconvert_exporter": "python",
   "pygments_lexer": "ipython2",
   "version": "2.7.6"
  }
 },
 "nbformat": 4,
 "nbformat_minor": 5
}
