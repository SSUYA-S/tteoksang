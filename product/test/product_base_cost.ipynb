{
 "cells": [
  {
   "cell_type": "code",
   "execution_count": 3,
   "id": "initial_id",
   "metadata": {
    "collapsed": true,
    "ExecuteTime": {
     "end_time": "2024-03-19T17:23:29.900832Z",
     "start_time": "2024-03-19T17:23:29.874903Z"
    }
   },
   "outputs": [],
   "source": [
    "import os\n",
    "\n",
    "import requests\n",
    "import json\n",
    "import pandas as pd\n",
    "import numpy as np\n",
    "from dotenv import load_dotenv\n",
    "\n",
    "load_dotenv()\n",
    "KAMIS_CERT_KEY = os.getenv('KAMIS_CERT_KEY')\n",
    "KAMIS_CERT_ID = os.getenv('KAMIS_CERT_ID')\n",
    "CATEGORY_CODES = ['100', '200', '300', '400']"
   ]
  },
  {
   "cell_type": "code",
   "outputs": [],
   "source": [
    "# 18-01-01 ~ 23-12-31\n",
    "# 사용할 작물별로 그날의 평균값\n",
    "# 10일 단위로 최대 최소 가격\n",
    "# 10일 단위 전체 평균 가격"
   ],
   "metadata": {
    "collapsed": false,
    "ExecuteTime": {
     "end_time": "2024-03-19T17:19:42.164460Z",
     "start_time": "2024-03-19T17:19:42.155415Z"
    }
   },
   "id": "24be9e0649fc75af",
   "execution_count": 2
  },
  {
   "cell_type": "code",
   "outputs": [],
   "source": [
    "# api 호출\n",
    "def get_daily_price(date: str, category_code: str) -> json:\n",
    "  headers = {'Content-Type': 'application/json', 'charset': 'UTF-8', 'Accept': '*/*'}\n",
    "  request_url = 'http://www.kamis.or.kr/service/price/xml.do?action=dailyPriceByCategoryList'\n",
    "  params = {\n",
    "    'p_cert_key':KAMIS_CERT_KEY,\n",
    "    'p_cert_id':KAMIS_CERT_ID,\n",
    "    'p_item_category_code':category_code,\n",
    "    'p_regday':date,\n",
    "    'p_returntype':'json'\n",
    "  }\n",
    "  \n",
    "  for param in params.keys():\n",
    "    request_url += f\"&{param}={params[param]}\"\n",
    "    \n",
    "  try:\n",
    "    return requests.get(request_url, headers=headers).json()\n",
    "  except Exception as e:\n",
    "    print(e)"
   ],
   "metadata": {
    "collapsed": false,
    "ExecuteTime": {
     "end_time": "2024-03-19T17:50:10.160068Z",
     "start_time": "2024-03-19T17:50:10.156739Z"
    }
   },
   "id": "ea9ad48b68cc2671",
   "execution_count": 21
  },
  {
   "cell_type": "code",
   "outputs": [],
   "source": [
    "data = pd.DataFrame(columns=['YEAR', 'TENDAYS_COUNT', 'PRODUCT_CODE', 'PRODUCT_NAME', 'MIN_PRODUCT_COST', 'MAX_PRODUCT_COST', 'AVG_PRODUCT_COST'])"
   ],
   "metadata": {
    "collapsed": false,
    "ExecuteTime": {
     "end_time": "2024-03-19T17:47:34.904422Z",
     "start_time": "2024-03-19T17:47:34.900666Z"
    }
   },
   "id": "f7b684a66b76df41",
   "execution_count": 14
  },
  {
   "cell_type": "code",
   "outputs": [],
   "source": [
    "date = '2018-01-01'\n",
    "cat = '100'\n",
    "\n",
    "response = get_daily_price(date, cat)"
   ],
   "metadata": {
    "collapsed": false,
    "ExecuteTime": {
     "end_time": "2024-03-19T17:50:53.539937Z",
     "start_time": "2024-03-19T17:50:53.213425Z"
    }
   },
   "id": "34f868240cbb2b3e",
   "execution_count": 27
  },
  {
   "cell_type": "code",
   "outputs": [
    {
     "ename": "SyntaxError",
     "evalue": "incomplete input (809658911.py, line 1)",
     "output_type": "error",
     "traceback": [
      "\u001B[0;36m  Cell \u001B[0;32mIn[30], line 1\u001B[0;36m\u001B[0m\n\u001B[0;31m    for item in response['data']['item']:\u001B[0m\n\u001B[0m                                         ^\u001B[0m\n\u001B[0;31mSyntaxError\u001B[0m\u001B[0;31m:\u001B[0m incomplete input\n"
     ]
    }
   ],
   "source": [
    "for item in response['data']['item']:\n",
    "  item_code = item['item_code']\n",
    "  item_name = item['item_name']\n",
    "  product_cost = item['dpr1']\n",
    "  \n",
    "  if product_cost == '-':\n",
    "    continue"
   ],
   "metadata": {
    "collapsed": false,
    "ExecuteTime": {
     "end_time": "2024-03-19T17:51:29.991754Z",
     "start_time": "2024-03-19T17:51:29.988654Z"
    }
   },
   "id": "fe1f1713f9879833",
   "execution_count": 30
  },
  {
   "cell_type": "code",
   "outputs": [
    {
     "data": {
      "text/plain": "[{'item_name': '쌀',\n  'item_code': '111',\n  'kind_name': '20kg(20kg)',\n  'kind_code': '01',\n  'rank': '상품',\n  'rank_code': '04',\n  'unit': '20kg',\n  'day1': '당일 (01/01)',\n  'dpr1': '-',\n  'day2': '1일전 (12/31)',\n  'dpr2': '-',\n  'day3': '1주일전 (12/25)',\n  'dpr3': '-',\n  'day4': '2주일전 (12/18)',\n  'dpr4': '39,000',\n  'day5': '1개월전',\n  'dpr5': '38,520',\n  'day6': '1년전',\n  'dpr6': '32,400',\n  'day7': '일평년',\n  'dpr7': '40,400'},\n {'item_name': '쌀',\n  'item_code': '111',\n  'kind_name': '20kg(20kg)',\n  'kind_code': '01',\n  'rank': '중품',\n  'rank_code': '05',\n  'unit': '20kg',\n  'day1': '당일 (01/01)',\n  'dpr1': '-',\n  'day2': '1일전 (12/31)',\n  'dpr2': '-',\n  'day3': '1주일전 (12/25)',\n  'dpr3': '-',\n  'day4': '2주일전 (12/18)',\n  'dpr4': '37,000',\n  'day5': '1개월전',\n  'dpr5': '36,520',\n  'day6': '1년전',\n  'dpr6': '30,400',\n  'day7': '일평년',\n  'dpr7': '39,300'},\n {'item_name': '찹쌀',\n  'item_code': '112',\n  'kind_name': '일반계(40kg)',\n  'kind_code': '01',\n  'rank': '상품',\n  'rank_code': '04',\n  'unit': '40kg',\n  'day1': '당일 (01/01)',\n  'dpr1': '-',\n  'day2': '1일전 (12/31)',\n  'dpr2': '-',\n  'day3': '1주일전 (12/25)',\n  'dpr3': '-',\n  'day4': '2주일전 (12/18)',\n  'dpr4': '100,500',\n  'day5': '1개월전',\n  'dpr5': '102,000',\n  'day6': '1년전',\n  'dpr6': '66,400',\n  'day7': '일평년',\n  'dpr7': '95,933'},\n {'item_name': '찹쌀',\n  'item_code': '112',\n  'kind_name': '일반계(40kg)',\n  'kind_code': '01',\n  'rank': '중품',\n  'rank_code': '05',\n  'unit': '40kg',\n  'day1': '당일 (01/01)',\n  'dpr1': '-',\n  'day2': '1일전 (12/31)',\n  'dpr2': '-',\n  'day3': '1주일전 (12/25)',\n  'dpr3': '-',\n  'day4': '2주일전 (12/18)',\n  'dpr4': '94,300',\n  'day5': '1개월전',\n  'dpr5': '95,800',\n  'day6': '1년전',\n  'dpr6': '62,200',\n  'day7': '일평년',\n  'dpr7': '91,267'},\n {'item_name': '콩',\n  'item_code': '141',\n  'kind_name': '흰 콩(국산)(40kg)',\n  'kind_code': '01',\n  'rank': '상품',\n  'rank_code': '04',\n  'unit': '40kg',\n  'day1': '당일 (01/01)',\n  'dpr1': '-',\n  'day2': '1일전 (12/31)',\n  'dpr2': '-',\n  'day3': '1주일전 (12/25)',\n  'dpr3': '-',\n  'day4': '2주일전 (12/18)',\n  'dpr4': '186,286',\n  'day5': '1개월전',\n  'dpr5': '187,657',\n  'day6': '1년전',\n  'dpr6': '206,354',\n  'day7': '일평년',\n  'dpr7': '184,975'},\n {'item_name': '콩',\n  'item_code': '141',\n  'kind_name': '흰 콩(국산)(40kg)',\n  'kind_code': '01',\n  'rank': '중품',\n  'rank_code': '05',\n  'unit': '40kg',\n  'day1': '당일 (01/01)',\n  'dpr1': '-',\n  'day2': '1일전 (12/31)',\n  'dpr2': '-',\n  'day3': '1주일전 (12/25)',\n  'dpr3': '-',\n  'day4': '2주일전 (12/18)',\n  'dpr4': '174,857',\n  'day5': '1개월전',\n  'dpr5': '175,771',\n  'day6': '1년전',\n  'dpr6': '190,857',\n  'day7': '일평년',\n  'dpr7': '171,429'},\n {'item_name': '콩',\n  'item_code': '141',\n  'kind_name': '흰 콩(수입)(35kg)',\n  'kind_code': '03',\n  'rank': '중품',\n  'rank_code': '05',\n  'unit': '35kg',\n  'day1': '당일 (01/01)',\n  'dpr1': '-',\n  'day2': '1일전 (12/31)',\n  'dpr2': '-',\n  'day3': '1주일전 (12/25)',\n  'dpr3': '-',\n  'day4': '2주일전 (12/18)',\n  'dpr4': '110,000',\n  'day5': '1개월전',\n  'dpr5': '110,000',\n  'day6': '1년전',\n  'dpr6': '111,200',\n  'day7': '일평년',\n  'dpr7': '115,467'},\n {'item_name': '팥',\n  'item_code': '142',\n  'kind_name': '붉은 팥(국산)(40kg)',\n  'kind_code': '00',\n  'rank': '상품',\n  'rank_code': '04',\n  'unit': '40kg',\n  'day1': '당일 (01/01)',\n  'dpr1': '-',\n  'day2': '1일전 (12/31)',\n  'dpr2': '-',\n  'day3': '1주일전 (12/25)',\n  'dpr3': '-',\n  'day4': '2주일전 (12/18)',\n  'dpr4': '336,000',\n  'day5': '1개월전',\n  'dpr5': '309,000',\n  'day6': '1년전',\n  'dpr6': '450,200',\n  'day7': '일평년',\n  'dpr7': '288,017'},\n {'item_name': '팥',\n  'item_code': '142',\n  'kind_name': '붉은 팥(국산)(40kg)',\n  'kind_code': '00',\n  'rank': '중품',\n  'rank_code': '05',\n  'unit': '40kg',\n  'day1': '당일 (01/01)',\n  'dpr1': '-',\n  'day2': '1일전 (12/31)',\n  'dpr2': '-',\n  'day3': '1주일전 (12/25)',\n  'dpr3': '-',\n  'day4': '2주일전 (12/18)',\n  'dpr4': '311,000',\n  'day5': '1개월전',\n  'dpr5': '287,000',\n  'day6': '1년전',\n  'dpr6': '423,200',\n  'day7': '일평년',\n  'dpr7': '268,100'},\n {'item_name': '팥',\n  'item_code': '142',\n  'kind_name': '붉은 팥(수입)(40kg)',\n  'kind_code': '01',\n  'rank': '중품',\n  'rank_code': '05',\n  'unit': '40kg',\n  'day1': '당일 (01/01)',\n  'dpr1': '-',\n  'day2': '1일전 (12/31)',\n  'dpr2': '-',\n  'day3': '1주일전 (12/25)',\n  'dpr3': '-',\n  'day4': '2주일전 (12/18)',\n  'dpr4': '160,400',\n  'day5': '1개월전',\n  'dpr5': '162,000',\n  'day6': '1년전',\n  'dpr6': '169,000',\n  'day7': '일평년',\n  'dpr7': '153,733'},\n {'item_name': '녹두',\n  'item_code': '143',\n  'kind_name': '국산(40kg)',\n  'kind_code': '00',\n  'rank': '상품',\n  'rank_code': '04',\n  'unit': '40kg',\n  'day1': '당일 (01/01)',\n  'dpr1': '-',\n  'day2': '1일전 (12/31)',\n  'dpr2': '-',\n  'day3': '1주일전 (12/25)',\n  'dpr3': '-',\n  'day4': '2주일전 (12/18)',\n  'dpr4': '404,000',\n  'day5': '1개월전',\n  'dpr5': '404,000',\n  'day6': '1년전',\n  'dpr6': '378,000',\n  'day7': '일평년',\n  'dpr7': '363,467'},\n {'item_name': '녹두',\n  'item_code': '143',\n  'kind_name': '국산(40kg)',\n  'kind_code': '00',\n  'rank': '중품',\n  'rank_code': '05',\n  'unit': '40kg',\n  'day1': '당일 (01/01)',\n  'dpr1': '-',\n  'day2': '1일전 (12/31)',\n  'dpr2': '-',\n  'day3': '1주일전 (12/25)',\n  'dpr3': '-',\n  'day4': '2주일전 (12/18)',\n  'dpr4': '382,000',\n  'day5': '1개월전',\n  'dpr5': '382,000',\n  'day6': '1년전',\n  'dpr6': '352,000',\n  'day7': '일평년',\n  'dpr7': '340,667'},\n {'item_name': '녹두',\n  'item_code': '143',\n  'kind_name': '수입(40kg)',\n  'kind_code': '01',\n  'rank': '중품',\n  'rank_code': '05',\n  'unit': '40kg',\n  'day1': '당일 (01/01)',\n  'dpr1': '-',\n  'day2': '1일전 (12/31)',\n  'dpr2': '-',\n  'day3': '1주일전 (12/25)',\n  'dpr3': '-',\n  'day4': '2주일전 (12/18)',\n  'dpr4': '242,400',\n  'day5': '1개월전',\n  'dpr5': '242,400',\n  'day6': '1년전',\n  'dpr6': '226,800',\n  'day7': '일평년',\n  'dpr7': '206,800'},\n {'item_name': '메밀',\n  'item_code': '144',\n  'kind_name': '메밀(수입)(1kg)',\n  'kind_code': '01',\n  'rank': '중품',\n  'rank_code': '05',\n  'unit': '1kg',\n  'day1': '당일 (01/01)',\n  'dpr1': '-',\n  'day2': '1일전 (12/31)',\n  'dpr2': '-',\n  'day3': '1주일전 (12/25)',\n  'dpr3': '-',\n  'day4': '2주일전 (12/18)',\n  'dpr4': '2,840',\n  'day5': '1개월전',\n  'dpr5': '2,840',\n  'day6': '1년전',\n  'dpr6': '2,756',\n  'day7': '일평년',\n  'dpr7': '2,560'},\n {'item_name': '고구마',\n  'item_code': '151',\n  'kind_name': '밤(10kg)',\n  'kind_code': '00',\n  'rank': '상품',\n  'rank_code': '04',\n  'unit': '10kg',\n  'day1': '당일 (01/01)',\n  'dpr1': '-',\n  'day2': '1일전 (12/31)',\n  'dpr2': '-',\n  'day3': '1주일전 (12/25)',\n  'dpr3': '-',\n  'day4': '2주일전 (12/18)',\n  'dpr4': '28,200',\n  'day5': '1개월전',\n  'dpr5': '27,280',\n  'day6': '1년전',\n  'dpr6': '24,960',\n  'day7': '일평년',\n  'dpr7': '22,187'},\n {'item_name': '고구마',\n  'item_code': '151',\n  'kind_name': '밤(10kg)',\n  'kind_code': '00',\n  'rank': '중품',\n  'rank_code': '05',\n  'unit': '10kg',\n  'day1': '당일 (01/01)',\n  'dpr1': '-',\n  'day2': '1일전 (12/31)',\n  'dpr2': '-',\n  'day3': '1주일전 (12/25)',\n  'dpr3': '-',\n  'day4': '2주일전 (12/18)',\n  'dpr4': '23,800',\n  'day5': '1개월전',\n  'dpr5': '23,080',\n  'day6': '1년전',\n  'dpr6': '20,960',\n  'day7': '일평년',\n  'dpr7': '18,147'},\n {'item_name': '감자',\n  'item_code': '152',\n  'kind_name': '수미(노지)(20kg)',\n  'kind_code': '01',\n  'rank': '상품',\n  'rank_code': '04',\n  'unit': '20kg',\n  'day1': '당일 (01/01)',\n  'dpr1': '-',\n  'day2': '1일전 (12/31)',\n  'dpr2': '-',\n  'day3': '1주일전 (12/25)',\n  'dpr3': '-',\n  'day4': '2주일전 (12/18)',\n  'dpr4': '47,000',\n  'day5': '1개월전',\n  'dpr5': '44,280',\n  'day6': '1년전',\n  'dpr6': '32,360',\n  'day7': '일평년',\n  'dpr7': '25,507'},\n {'item_name': '감자',\n  'item_code': '152',\n  'kind_name': '수미(노지)(20kg)',\n  'kind_code': '01',\n  'rank': '중품',\n  'rank_code': '05',\n  'unit': '20kg',\n  'day1': '당일 (01/01)',\n  'dpr1': '-',\n  'day2': '1일전 (12/31)',\n  'dpr2': '-',\n  'day3': '1주일전 (12/25)',\n  'dpr3': '-',\n  'day4': '2주일전 (12/18)',\n  'dpr4': '41,800',\n  'day5': '1개월전',\n  'dpr5': '39,160',\n  'day6': '1년전',\n  'dpr6': '28,360',\n  'day7': '일평년',\n  'dpr7': '21,333'}]"
     },
     "execution_count": 31,
     "metadata": {},
     "output_type": "execute_result"
    }
   ],
   "source": [
    "response['data']['item']"
   ],
   "metadata": {
    "collapsed": false,
    "ExecuteTime": {
     "end_time": "2024-03-19T17:51:48.160329Z",
     "start_time": "2024-03-19T17:51:48.156075Z"
    }
   },
   "id": "a6c24276f3ca615d",
   "execution_count": 31
  },
  {
   "cell_type": "code",
   "outputs": [],
   "source": [],
   "metadata": {
    "collapsed": false
   },
   "id": "10e5377c007bb853"
  }
 ],
 "metadata": {
  "kernelspec": {
   "display_name": "Python 3",
   "language": "python",
   "name": "python3"
  },
  "language_info": {
   "codemirror_mode": {
    "name": "ipython",
    "version": 2
   },
   "file_extension": ".py",
   "mimetype": "text/x-python",
   "name": "python",
   "nbconvert_exporter": "python",
   "pygments_lexer": "ipython2",
   "version": "2.7.6"
  }
 },
 "nbformat": 4,
 "nbformat_minor": 5
}
