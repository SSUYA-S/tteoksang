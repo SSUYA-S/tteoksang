{
 "cells": [
  {
   "cell_type": "code",
   "execution_count": 132,
   "id": "initial_id",
   "metadata": {
    "collapsed": true,
    "ExecuteTime": {
     "end_time": "2024-03-20T18:14:31.055188Z",
     "start_time": "2024-03-20T18:14:31.049661Z"
    }
   },
   "outputs": [],
   "source": [
    "import os\n",
    "\n",
    "import requests\n",
    "import json\n",
    "import pandas as pd\n",
    "import numpy as np\n",
    "import aiohttp\n",
    "import asyncio\n",
    "from dotenv import load_dotenv\n",
    "\n",
    "load_dotenv()\n",
    "\n",
    "KAMIS_CERT_KEY = os.getenv('KAMIS_CERT_KEY')\n",
    "KAMIS_CERT_ID = os.getenv('KAMIS_CERT_ID')\n",
    "CATEGORY_CODES = ['100', '200', '300', '400']"
   ]
  },
  {
   "cell_type": "code",
   "outputs": [],
   "source": [
    "# 18-01-01 ~ 23-12-31\n",
    "# 사용할 작물별로 그날의 평균값\n",
    "# 10일 단위로 최대 최소 가격\n",
    "# 10일 단위 전체 평균 가격"
   ],
   "metadata": {
    "collapsed": false,
    "ExecuteTime": {
     "end_time": "2024-03-20T18:14:31.760801Z",
     "start_time": "2024-03-20T18:14:31.759435Z"
    }
   },
   "id": "24be9e0649fc75af",
   "execution_count": 133
  },
  {
   "cell_type": "code",
   "outputs": [],
   "source": [
    "# api 호출\n",
    "async def get_daily_price(date: str, category_code: str, session: aiohttp.client.ClientSession) -> json:\n",
    "    headers = {'Content-Type': 'application/json', 'charset': 'UTF-8', 'Accept': '*/*'}\n",
    "    request_url = 'http://www.kamis.or.kr/service/price/xml.do?action=dailyPriceByCategoryList'\n",
    "    params = {\n",
    "        'p_cert_key': KAMIS_CERT_KEY,\n",
    "        'p_cert_id': KAMIS_CERT_ID,\n",
    "        'p_item_category_code': category_code,\n",
    "        'p_regday': date,\n",
    "        'p_returntype': 'json'\n",
    "    }\n",
    "\n",
    "    for param in params.keys():\n",
    "        request_url += f\"&{param}={params[param]}\"\n",
    "        \n",
    "    try:\n",
    "        async with session.get(request_url) as response:\n",
    "            return await response.json(content_type='text/plain')\n",
    "    except Exception as e:\n",
    "        return await get_daily_price(date, category_code, session)"
   ],
   "metadata": {
    "collapsed": false,
    "ExecuteTime": {
     "end_time": "2024-03-20T18:14:32.692796Z",
     "start_time": "2024-03-20T18:14:32.689777Z"
    }
   },
   "id": "ea9ad48b68cc2671",
   "execution_count": 134
  },
  {
   "cell_type": "code",
   "outputs": [],
   "source": [
    "# 하루동안 모든 카테고리에 속하는 작물의 모든 등급에 대한 가격 평균\n",
    "async def get_daily_product_cost(date: str) -> dict:\n",
    "    product_acc_cost = {}\n",
    "    tasks = []\n",
    "    async with aiohttp.ClientSession(timeout=aiohttp.ClientTimeout(20)) as session:\n",
    "        for cat in CATEGORY_CODES:\n",
    "            task = asyncio.create_task(get_daily_price(date, cat, session))\n",
    "            tasks.append(task)\n",
    "    \n",
    "        response = await asyncio.gather(*tasks)\n",
    "\n",
    "        for res in response:\n",
    "            data = res['data']\n",
    "            \n",
    "            # 비정상 응답, error_code - 001, 200, 900\n",
    "            if type(data) == list:\n",
    "                continue\n",
    "    \n",
    "            for item in data['item']:\n",
    "                item_code = int(item['item_code'])\n",
    "                item_name = item['item_name']\n",
    "                product_cost = item['dpr1'].replace(',', '')\n",
    "    \n",
    "                if product_cost == '-':\n",
    "                    continue\n",
    "    \n",
    "                product_cost = int(product_cost)\n",
    "    \n",
    "                if product_acc_cost.get(item_code) is None:\n",
    "                    product_acc_cost[item_code] = {\n",
    "                        'total_cost': 0,\n",
    "                        'total_count': 0,\n",
    "                    }\n",
    "    \n",
    "                product_acc_cost[item_code]['total_cost'] += product_cost\n",
    "                product_acc_cost[item_code]['total_count'] += 1\n",
    "\n",
    "    result = {'date': date}\n",
    "    product_avg_cost = {}\n",
    "\n",
    "    for key in product_acc_cost.keys():\n",
    "        acc_cost = product_acc_cost.get(key)\n",
    "        product_avg_cost[key] = acc_cost['total_cost'] / acc_cost['total_count']\n",
    "        \n",
    "    result[\"cost\"] = product_avg_cost\n",
    "    return result"
   ],
   "metadata": {
    "collapsed": false,
    "ExecuteTime": {
     "end_time": "2024-03-20T18:14:34.937228Z",
     "start_time": "2024-03-20T18:14:34.926431Z"
    }
   },
   "id": "b0b19028f53e07ab",
   "execution_count": 135
  },
  {
   "cell_type": "code",
   "outputs": [],
   "source": [
    "async def get_monthly_product_cost_df(year: str, month: str) -> pd.DataFrame:\n",
    "    div, mod = divmod(int(month), 12)\n",
    "    tasks = []\n",
    "    for date in pd.date_range(f'{year}-{month}-01', f'{int(year)+div}-{mod+1}-01', inclusive='left').strftime('%Y-%m-%d'):\n",
    "        task = asyncio.create_task(get_daily_product_cost(date))\n",
    "        tasks.append(task)\n",
    "        \n",
    "    daily_product_cost_list = await asyncio.gather(*tasks)\n",
    "    \n",
    "    result = pd.DataFrame(\n",
    "    columns=['YEAR', 'COUNT_PER_TEN_DAYS', 'PRODUCT_CODE', 'MIN_PRODUCT_COST',\n",
    "             'MAX_PRODUCT_COST', 'AVG_PRODUCT_COST']).astype({\n",
    "        'YEAR':'int',\n",
    "        'COUNT_PER_TEN_DAYS':'int',\n",
    "        'PRODUCT_CODE':'str',\n",
    "        'MIN_PRODUCT_COST':'float',\n",
    "        'MAX_PRODUCT_COST': 'float',\n",
    "        'AVG_PRODUCT_COST': 'float'\n",
    "    })\n",
    "    \n",
    "    first_third = {}\n",
    "    second_third = {}\n",
    "    final_third = {}\n",
    "    \n",
    "    for product_cost in daily_product_cost_list:\n",
    "        date = pd.to_datetime(product_cost['date'])\n",
    "        cost = product_cost['cost']\n",
    "        day = date.day\n",
    "    \n",
    "        target_third = None\n",
    "    \n",
    "        if day <= 10:\n",
    "            target_third = first_third\n",
    "        elif day <= 20:\n",
    "            target_third = second_third\n",
    "        else:\n",
    "            target_third = final_third\n",
    "    \n",
    "        for key in cost.keys():\n",
    "            if target_third.get(key) is None:\n",
    "                target_third[key] = {\n",
    "                    'MIN_PRODUCT_COST': float('inf'),\n",
    "                    'MAX_PRODUCT_COST': 0,\n",
    "                    'TOTAL_AVG_PRODUCT_COST': 0,\n",
    "                    'TOTAL_COUNT': 0\n",
    "                }\n",
    "    \n",
    "            avg_cost = cost[key]\n",
    "            target_third[key]['MIN_PRODUCT_COST'] = np.min([target_third[key]['MIN_PRODUCT_COST'], avg_cost])\n",
    "            target_third[key]['MAX_PRODUCT_COST'] = np.max([target_third[key]['MAX_PRODUCT_COST'], avg_cost])\n",
    "            target_third[key]['TOTAL_AVG_PRODUCT_COST'] += avg_cost\n",
    "            target_third[key]['TOTAL_COUNT'] += 1    \n",
    "    \n",
    "    for key in first_third.keys():\n",
    "        info = first_third[key]\n",
    "        result = pd.concat([result, pd.DataFrame({\n",
    "            'YEAR': [int(year)],\n",
    "            'COUNT_PER_TEN_DAYS': [(int(month) - 1) * 3],\n",
    "            'PRODUCT_CODE': [key],\n",
    "            'MIN_PRODUCT_COST': [info['MIN_PRODUCT_COST']],\n",
    "            'MAX_PRODUCT_COST': [info['MAX_PRODUCT_COST']],\n",
    "            'AVG_PRODUCT_COST': [info['TOTAL_AVG_PRODUCT_COST'] / info['TOTAL_COUNT']]\n",
    "        })], ignore_index=True)\n",
    "        \n",
    "    for key in second_third.keys():\n",
    "        info = second_third[key]\n",
    "        result = pd.concat([result, pd.DataFrame({\n",
    "            'YEAR': [int(year)],\n",
    "            'COUNT_PER_TEN_DAYS': [(int(month) - 1) * 3 + 1],\n",
    "            'PRODUCT_CODE': [key],\n",
    "            'MIN_PRODUCT_COST': [info['MIN_PRODUCT_COST']],\n",
    "            'MAX_PRODUCT_COST': [info['MAX_PRODUCT_COST']],\n",
    "            'AVG_PRODUCT_COST': [info['TOTAL_AVG_PRODUCT_COST'] / info['TOTAL_COUNT']]\n",
    "        })], ignore_index=True)\n",
    "        \n",
    "    for key in final_third.keys():\n",
    "        info = final_third[key]\n",
    "        result = pd.concat([result, pd.DataFrame({\n",
    "            'YEAR': [int(year)],\n",
    "            'COUNT_PER_TEN_DAYS': [(int(month) - 1) * 3 + 2],\n",
    "            'PRODUCT_CODE': [key],\n",
    "            'MIN_PRODUCT_COST': [info['MIN_PRODUCT_COST']],\n",
    "            'MAX_PRODUCT_COST': [info['MAX_PRODUCT_COST']],\n",
    "            'AVG_PRODUCT_COST': [info['TOTAL_AVG_PRODUCT_COST'] / info['TOTAL_COUNT']]\n",
    "        })], ignore_index=True)\n",
    "        \n",
    "    print(f'{year}-{month} done')\n",
    "    return result\n",
    "    "
   ],
   "metadata": {
    "collapsed": false,
    "ExecuteTime": {
     "end_time": "2024-03-20T18:14:36.676601Z",
     "start_time": "2024-03-20T18:14:36.665661Z"
    }
   },
   "id": "4e8b9654faf03cac",
   "execution_count": 136
  },
  {
   "cell_type": "code",
   "outputs": [],
   "source": [
    "async def get_yearly_product_cost_df(year: str) -> pd.DataFrame:\n",
    "    tasks = []\n",
    "    \n",
    "    # for month in range(1, 7):\n",
    "    #     task = asyncio.create_task(get_monthly_product_cost_df(year, str(month)))\n",
    "    #     tasks.append(task)\n",
    "    # first_half = await asyncio.gather(*tasks)\n",
    "    # \n",
    "    # await asyncio.sleep(10)\n",
    "    # \n",
    "    # tasks = []\n",
    "    # \n",
    "    # for month in range(7, 13):\n",
    "    #     task = asyncio.create_task(get_monthly_product_cost_df(year, str(month)))\n",
    "    #     tasks.append(task)\n",
    "    #     \n",
    "    # last_half = await asyncio.gather(*tasks)\n",
    "    \n",
    "    monthly_product_cost_list = []\n",
    "    \n",
    "    for month in range(1, 13):\n",
    "        # task = asyncio.create_task(get_monthly_product_cost_df(year, str(month)))\n",
    "        # tasks.append(task)\n",
    "        monthly_product_cost = await get_monthly_product_cost_df(year, str(month))\n",
    "        monthly_product_cost_list.append(monthly_product_cost)\n",
    "        \n",
    "    # monthly_product_cost_list = await asyncio.gather(*tasks)\n",
    "    \n",
    "    result = pd.DataFrame(\n",
    "    columns=['YEAR', 'COUNT_PER_TEN_DAYS', 'PRODUCT_CODE', 'MIN_PRODUCT_COST',\n",
    "             'MAX_PRODUCT_COST', 'AVG_PRODUCT_COST']).astype({\n",
    "        'YEAR':'int',\n",
    "        'COUNT_PER_TEN_DAYS':'int',\n",
    "        'PRODUCT_CODE':'str',\n",
    "        'MIN_PRODUCT_COST':'float',\n",
    "        'MAX_PRODUCT_COST': 'float',\n",
    "        'AVG_PRODUCT_COST': 'float'\n",
    "    })\n",
    "    \n",
    "    # monthly_product_cost = [*first_half, *last_half]\n",
    "    \n",
    "    result = pd.concat([result, *monthly_product_cost_list], ignore_index=True)\n",
    "    return result"
   ],
   "metadata": {
    "collapsed": false,
    "ExecuteTime": {
     "end_time": "2024-03-20T18:15:46.838225Z",
     "start_time": "2024-03-20T18:15:46.833080Z"
    }
   },
   "id": "cdeda3e5c57143d7",
   "execution_count": 139
  },
  {
   "cell_type": "code",
   "outputs": [
    {
     "name": "stdout",
     "output_type": "stream",
     "text": [
      "2019-1 done\n",
      "2019-2 done\n",
      "2019-3 done\n",
      "2019-4 done\n",
      "2019-5 done\n",
      "2019-6 done\n",
      "2019-7 done\n",
      "2019-8 done\n",
      "2019-9 done\n",
      "2019-10 done\n",
      "2019-11 done\n",
      "2019-12 done\n",
      "2020-1 done\n",
      "2020-2 done\n",
      "2020-3 done\n",
      "2020-4 done\n",
      "2020-5 done\n",
      "2020-6 done\n",
      "2020-7 done\n",
      "2020-8 done\n",
      "2020-9 done\n",
      "2020-10 done\n",
      "2020-11 done\n",
      "2020-12 done\n",
      "2021-1 done\n",
      "2021-2 done\n",
      "2021-3 done\n",
      "2021-4 done\n",
      "2021-5 done\n",
      "2021-6 done\n",
      "2021-7 done\n",
      "2021-8 done\n",
      "2021-9 done\n",
      "2021-10 done\n",
      "2021-11 done\n",
      "2021-12 done\n",
      "2022-1 done\n",
      "2022-2 done\n",
      "2022-3 done\n",
      "2022-4 done\n",
      "2022-5 done\n",
      "2022-6 done\n",
      "2022-7 done\n",
      "2022-8 done\n",
      "2022-9 done\n",
      "2022-10 done\n",
      "2022-11 done\n",
      "2022-12 done\n",
      "2023-1 done\n",
      "2023-2 done\n",
      "2023-3 done\n",
      "2023-4 done\n",
      "2023-5 done\n",
      "2023-6 done\n",
      "2023-7 done\n",
      "2023-8 done\n",
      "2023-9 done\n",
      "2023-10 done\n",
      "2023-11 done\n",
      "2023-12 done\n"
     ]
    }
   ],
   "source": [
    "product_cost_2018 = await get_yearly_product_cost_df('2018')\n",
    "product_cost_2019 = await get_yearly_product_cost_df('2019')\n",
    "product_cost_2020 = await get_yearly_product_cost_df('2020')\n",
    "product_cost_2021 = await get_yearly_product_cost_df('2021')\n",
    "product_cost_2022 = await get_yearly_product_cost_df('2022')\n",
    "product_cost_2023 = await get_yearly_product_cost_df('2023')\n"
   ],
   "metadata": {
    "collapsed": false,
    "ExecuteTime": {
     "end_time": "2024-03-20T18:33:26.079701Z",
     "start_time": "2024-03-20T18:15:47.753910Z"
    }
   },
   "id": "877cf9be8d39aa0f",
   "execution_count": 140
  },
  {
   "cell_type": "code",
   "outputs": [],
   "source": [
    "product_cost_2018.to_csv(\"data/product_cost_2018.csv\", encoding='utf-8')\n",
    "product_cost_2019.to_csv(\"data/product_cost_2019.csv\", encoding='utf-8')\n",
    "product_cost_2020.to_csv(\"data/product_cost_2020.csv\", encoding='utf-8')\n",
    "product_cost_2021.to_csv(\"data/product_cost_2021.csv\", encoding='utf-8')\n",
    "product_cost_2022.to_csv(\"data/product_cost_2022.csv\", encoding='utf-8')\n",
    "product_cost_2023.to_csv(\"data/product_cost_2023.csv\", encoding='utf-8')"
   ],
   "metadata": {
    "collapsed": false,
    "ExecuteTime": {
     "end_time": "2024-03-20T18:34:41.400132Z",
     "start_time": "2024-03-20T18:34:41.362840Z"
    }
   },
   "id": "e71c2b71820c8619",
   "execution_count": 143
  },
  {
   "cell_type": "code",
   "outputs": [
    {
     "data": {
      "text/plain": "      YEAR  COUNT_PER_TEN_DAYS PRODUCT_CODE  MIN_PRODUCT_COST  \\\n0     2019                   0          111           48550.0   \n1     2019                   0          112          133000.0   \n2     2019                   0          141          177800.0   \n3     2019                   0          142          348400.0   \n4     2019                   0          143          337600.0   \n...    ...                 ...          ...               ...   \n1830  2019                  35          418           22200.0   \n1831  2019                  35          419           31500.0   \n1832  2019                  35          420           20300.0   \n1833  2019                  35          424           54900.0   \n1834  2019                  35          428           41300.0   \n\n      MAX_PRODUCT_COST  AVG_PRODUCT_COST  \n0         48750.000000      48630.000000  \n1        133000.000000     133000.000000  \n2        178133.333333     178002.714286  \n3        349733.333333     348590.476190  \n4        338933.333333     338552.380952  \n...                ...               ...  \n1830      22400.000000      22300.000000  \n1831      33500.000000      32566.666667  \n1832      21300.000000      20733.333333  \n1833      59600.000000      57833.333333  \n1834      42500.000000      41566.666667  \n\n[1835 rows x 6 columns]",
      "text/html": "<div>\n<style scoped>\n    .dataframe tbody tr th:only-of-type {\n        vertical-align: middle;\n    }\n\n    .dataframe tbody tr th {\n        vertical-align: top;\n    }\n\n    .dataframe thead th {\n        text-align: right;\n    }\n</style>\n<table border=\"1\" class=\"dataframe\">\n  <thead>\n    <tr style=\"text-align: right;\">\n      <th></th>\n      <th>YEAR</th>\n      <th>COUNT_PER_TEN_DAYS</th>\n      <th>PRODUCT_CODE</th>\n      <th>MIN_PRODUCT_COST</th>\n      <th>MAX_PRODUCT_COST</th>\n      <th>AVG_PRODUCT_COST</th>\n    </tr>\n  </thead>\n  <tbody>\n    <tr>\n      <th>0</th>\n      <td>2019</td>\n      <td>0</td>\n      <td>111</td>\n      <td>48550.0</td>\n      <td>48750.000000</td>\n      <td>48630.000000</td>\n    </tr>\n    <tr>\n      <th>1</th>\n      <td>2019</td>\n      <td>0</td>\n      <td>112</td>\n      <td>133000.0</td>\n      <td>133000.000000</td>\n      <td>133000.000000</td>\n    </tr>\n    <tr>\n      <th>2</th>\n      <td>2019</td>\n      <td>0</td>\n      <td>141</td>\n      <td>177800.0</td>\n      <td>178133.333333</td>\n      <td>178002.714286</td>\n    </tr>\n    <tr>\n      <th>3</th>\n      <td>2019</td>\n      <td>0</td>\n      <td>142</td>\n      <td>348400.0</td>\n      <td>349733.333333</td>\n      <td>348590.476190</td>\n    </tr>\n    <tr>\n      <th>4</th>\n      <td>2019</td>\n      <td>0</td>\n      <td>143</td>\n      <td>337600.0</td>\n      <td>338933.333333</td>\n      <td>338552.380952</td>\n    </tr>\n    <tr>\n      <th>...</th>\n      <td>...</td>\n      <td>...</td>\n      <td>...</td>\n      <td>...</td>\n      <td>...</td>\n      <td>...</td>\n    </tr>\n    <tr>\n      <th>1830</th>\n      <td>2019</td>\n      <td>35</td>\n      <td>418</td>\n      <td>22200.0</td>\n      <td>22400.000000</td>\n      <td>22300.000000</td>\n    </tr>\n    <tr>\n      <th>1831</th>\n      <td>2019</td>\n      <td>35</td>\n      <td>419</td>\n      <td>31500.0</td>\n      <td>33500.000000</td>\n      <td>32566.666667</td>\n    </tr>\n    <tr>\n      <th>1832</th>\n      <td>2019</td>\n      <td>35</td>\n      <td>420</td>\n      <td>20300.0</td>\n      <td>21300.000000</td>\n      <td>20733.333333</td>\n    </tr>\n    <tr>\n      <th>1833</th>\n      <td>2019</td>\n      <td>35</td>\n      <td>424</td>\n      <td>54900.0</td>\n      <td>59600.000000</td>\n      <td>57833.333333</td>\n    </tr>\n    <tr>\n      <th>1834</th>\n      <td>2019</td>\n      <td>35</td>\n      <td>428</td>\n      <td>41300.0</td>\n      <td>42500.000000</td>\n      <td>41566.666667</td>\n    </tr>\n  </tbody>\n</table>\n<p>1835 rows × 6 columns</p>\n</div>"
     },
     "execution_count": 142,
     "metadata": {},
     "output_type": "execute_result"
    }
   ],
   "source": [
    "product_cost_2019"
   ],
   "metadata": {
    "collapsed": false,
    "ExecuteTime": {
     "end_time": "2024-03-20T18:34:20.353376Z",
     "start_time": "2024-03-20T18:34:20.338439Z"
    }
   },
   "id": "2c2bb617e4aa3890",
   "execution_count": 142
  },
  {
   "cell_type": "code",
   "outputs": [
    {
     "data": {
      "text/plain": "      YEAR  COUNT_PER_TEN_DAYS PRODUCT_CODE  MIN_PRODUCT_COST  \\\n0     2018                   0          111           38300.0   \n1     2018                   0          112           97400.0   \n2     2018                   0          141          158476.0   \n3     2018                   0          142          272800.0   \n4     2018                   0          143          342800.0   \n...    ...                 ...          ...               ...   \n1829  2018                  35          419           34150.0   \n1830  2018                  35          420           19600.0   \n1831  2018                  35          421           48437.5   \n1832  2018                  35          424           66400.0   \n1833  2018                  35          428           40800.0   \n\n      MAX_PRODUCT_COST  AVG_PRODUCT_COST  \n0              38400.0      38385.714286  \n1              97400.0      97400.000000  \n2             158476.0     158476.000000  \n3             272800.0     272800.000000  \n4             342800.0     342800.000000  \n...                ...               ...  \n1829           34550.0      34400.000000  \n1830           20900.0      19866.666667  \n1831           53250.0      50565.972222  \n1832           66400.0      66400.000000  \n1833           42800.0      41433.333333  \n\n[1834 rows x 6 columns]",
      "text/html": "<div>\n<style scoped>\n    .dataframe tbody tr th:only-of-type {\n        vertical-align: middle;\n    }\n\n    .dataframe tbody tr th {\n        vertical-align: top;\n    }\n\n    .dataframe thead th {\n        text-align: right;\n    }\n</style>\n<table border=\"1\" class=\"dataframe\">\n  <thead>\n    <tr style=\"text-align: right;\">\n      <th></th>\n      <th>YEAR</th>\n      <th>COUNT_PER_TEN_DAYS</th>\n      <th>PRODUCT_CODE</th>\n      <th>MIN_PRODUCT_COST</th>\n      <th>MAX_PRODUCT_COST</th>\n      <th>AVG_PRODUCT_COST</th>\n    </tr>\n  </thead>\n  <tbody>\n    <tr>\n      <th>0</th>\n      <td>2018</td>\n      <td>0</td>\n      <td>111</td>\n      <td>38300.0</td>\n      <td>38400.0</td>\n      <td>38385.714286</td>\n    </tr>\n    <tr>\n      <th>1</th>\n      <td>2018</td>\n      <td>0</td>\n      <td>112</td>\n      <td>97400.0</td>\n      <td>97400.0</td>\n      <td>97400.000000</td>\n    </tr>\n    <tr>\n      <th>2</th>\n      <td>2018</td>\n      <td>0</td>\n      <td>141</td>\n      <td>158476.0</td>\n      <td>158476.0</td>\n      <td>158476.000000</td>\n    </tr>\n    <tr>\n      <th>3</th>\n      <td>2018</td>\n      <td>0</td>\n      <td>142</td>\n      <td>272800.0</td>\n      <td>272800.0</td>\n      <td>272800.000000</td>\n    </tr>\n    <tr>\n      <th>4</th>\n      <td>2018</td>\n      <td>0</td>\n      <td>143</td>\n      <td>342800.0</td>\n      <td>342800.0</td>\n      <td>342800.000000</td>\n    </tr>\n    <tr>\n      <th>...</th>\n      <td>...</td>\n      <td>...</td>\n      <td>...</td>\n      <td>...</td>\n      <td>...</td>\n      <td>...</td>\n    </tr>\n    <tr>\n      <th>1829</th>\n      <td>2018</td>\n      <td>35</td>\n      <td>419</td>\n      <td>34150.0</td>\n      <td>34550.0</td>\n      <td>34400.000000</td>\n    </tr>\n    <tr>\n      <th>1830</th>\n      <td>2018</td>\n      <td>35</td>\n      <td>420</td>\n      <td>19600.0</td>\n      <td>20900.0</td>\n      <td>19866.666667</td>\n    </tr>\n    <tr>\n      <th>1831</th>\n      <td>2018</td>\n      <td>35</td>\n      <td>421</td>\n      <td>48437.5</td>\n      <td>53250.0</td>\n      <td>50565.972222</td>\n    </tr>\n    <tr>\n      <th>1832</th>\n      <td>2018</td>\n      <td>35</td>\n      <td>424</td>\n      <td>66400.0</td>\n      <td>66400.0</td>\n      <td>66400.000000</td>\n    </tr>\n    <tr>\n      <th>1833</th>\n      <td>2018</td>\n      <td>35</td>\n      <td>428</td>\n      <td>40800.0</td>\n      <td>42800.0</td>\n      <td>41433.333333</td>\n    </tr>\n  </tbody>\n</table>\n<p>1834 rows × 6 columns</p>\n</div>"
     },
     "execution_count": 141,
     "metadata": {},
     "output_type": "execute_result"
    }
   ],
   "source": [
    "product_cost_2018"
   ],
   "metadata": {
    "collapsed": false,
    "ExecuteTime": {
     "end_time": "2024-03-20T18:33:26.085744Z",
     "start_time": "2024-03-20T18:33:26.080476Z"
    }
   },
   "id": "f23a8fa06c47d3da",
   "execution_count": 141
  },
  {
   "cell_type": "code",
   "outputs": [],
   "source": [],
   "metadata": {
    "collapsed": false
   },
   "id": "317b1503e9506452"
  }
 ],
 "metadata": {
  "kernelspec": {
   "display_name": "Python 3",
   "language": "python",
   "name": "python3"
  },
  "language_info": {
   "codemirror_mode": {
    "name": "ipython",
    "version": 2
   },
   "file_extension": ".py",
   "mimetype": "text/x-python",
   "name": "python",
   "nbconvert_exporter": "python",
   "pygments_lexer": "ipython2",
   "version": "2.7.6"
  }
 },
 "nbformat": 4,
 "nbformat_minor": 5
}
