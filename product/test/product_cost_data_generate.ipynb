{
 "cells": [
  {
   "cell_type": "code",
   "execution_count": 2,
   "id": "initial_id",
   "metadata": {
    "collapsed": true,
    "ExecuteTime": {
     "end_time": "2024-03-22T00:06:45.590210900Z",
     "start_time": "2024-03-22T00:06:43.420968600Z"
    }
   },
   "outputs": [],
   "source": [
    "import os\n",
    "\n",
    "import requests\n",
    "import json\n",
    "import pandas as pd\n",
    "import numpy as np\n",
    "import aiohttp\n",
    "import asyncio\n",
    "from dotenv import load_dotenv\n",
    "\n",
    "load_dotenv()\n",
    "\n",
    "KAMIS_CERT_KEY = os.getenv('KAMIS_CERT_KEY')\n",
    "KAMIS_CERT_ID = os.getenv('KAMIS_CERT_ID')\n",
    "CATEGORY_CODES = ['100', '200', '300', '400']"
   ]
  },
  {
   "cell_type": "code",
   "outputs": [],
   "source": [
    "# 18-01-01 ~ 23-12-31\n",
    "# 사용할 작물별로 그날의 평균값\n",
    "# 10일 단위로 최대 최소 가격\n",
    "# 10일 단위 전체 평균 가격"
   ],
   "metadata": {
    "collapsed": false,
    "ExecuteTime": {
     "end_time": "2024-03-20T18:14:31.760801Z",
     "start_time": "2024-03-20T18:14:31.759435Z"
    }
   },
   "id": "24be9e0649fc75af",
   "execution_count": 133
  },
  {
   "cell_type": "code",
   "outputs": [],
   "source": [
    "# api 호출\n",
    "async def get_daily_price(date: str, category_code: str,\n",
    "    session: aiohttp.client.ClientSession) -> json:\n",
    "    headers = {'Content-Type': 'application/json', 'charset': 'UTF-8', 'Accept': '*/*'}\n",
    "    request_url = 'http://www.kamis.or.kr/service/price/xml.do?action=dailyPriceByCategoryList'\n",
    "    params = {\n",
    "        'p_cert_key': KAMIS_CERT_KEY,\n",
    "        'p_cert_id': KAMIS_CERT_ID,\n",
    "        'p_item_category_code': category_code,\n",
    "        'p_regday': date,\n",
    "        'p_returntype': 'json'\n",
    "    }\n",
    "\n",
    "    for param in params.keys():\n",
    "        request_url += f\"&{param}={params[param]}\"\n",
    "\n",
    "    try:\n",
    "        async with session.get(request_url) as response:\n",
    "            return await response.json(content_type='text/plain')\n",
    "    except Exception as e:\n",
    "        return await get_daily_price(date, category_code, session)"
   ],
   "metadata": {
    "collapsed": false,
    "ExecuteTime": {
     "end_time": "2024-03-22T00:06:46.038245500Z",
     "start_time": "2024-03-22T00:06:46.030733200Z"
    }
   },
   "id": "ea9ad48b68cc2671",
   "execution_count": 3
  },
  {
   "cell_type": "code",
   "outputs": [],
   "source": [
    "# 하루동안 모든 카테고리에 속하는 작물의 모든 등급에 대한 가격 평균\n",
    "async def get_daily_product_cost(date: str) -> dict:\n",
    "    product_acc_cost = {}\n",
    "    tasks = []\n",
    "    async with aiohttp.ClientSession(timeout=aiohttp.ClientTimeout(20)) as session:\n",
    "        for cat in CATEGORY_CODES:\n",
    "            task = asyncio.create_task(get_daily_price(date, cat, session))\n",
    "            tasks.append(task)\n",
    "\n",
    "        response = await asyncio.gather(*tasks)\n",
    "\n",
    "        for res in response:\n",
    "            data = res['data']\n",
    "\n",
    "            # 비정상 응답, error_code - 001, 200, 900\n",
    "            if type(data) == list:\n",
    "                continue\n",
    "\n",
    "            for item in data['item']:\n",
    "                item_code = int(item['item_code'])\n",
    "                item_name = item['item_name']\n",
    "                product_cost = item['dpr1'].replace(',', '')\n",
    "\n",
    "                if product_cost == '-':\n",
    "                    continue\n",
    "\n",
    "                product_cost = int(product_cost)\n",
    "\n",
    "                if product_acc_cost.get(item_code) is None:\n",
    "                    product_acc_cost[item_code] = {\n",
    "                        'total_cost': 0,\n",
    "                        'total_count': 0,\n",
    "                    }\n",
    "\n",
    "                product_acc_cost[item_code]['total_cost'] += product_cost\n",
    "                product_acc_cost[item_code]['total_count'] += 1\n",
    "\n",
    "    result = {'date': date}\n",
    "    product_avg_cost = {}\n",
    "\n",
    "    for key in product_acc_cost.keys():\n",
    "        acc_cost = product_acc_cost.get(key)\n",
    "        product_avg_cost[key] = acc_cost['total_cost'] / acc_cost['total_count']\n",
    "\n",
    "    result[\"cost\"] = product_avg_cost\n",
    "    return result"
   ],
   "metadata": {
    "collapsed": false,
    "ExecuteTime": {
     "end_time": "2024-03-22T00:06:48.454939700Z",
     "start_time": "2024-03-22T00:06:48.449421200Z"
    }
   },
   "id": "b0b19028f53e07ab",
   "execution_count": 4
  },
  {
   "cell_type": "code",
   "outputs": [],
   "source": [
    "async def get_monthly_product_cost_df(year: str, month: str) -> pd.DataFrame:\n",
    "    div, mod = divmod(int(month), 12)\n",
    "    tasks = []\n",
    "    for date in pd.date_range(f'{year}-{month}-01', f'{int(year) + div}-{mod + 1}-01',\n",
    "                              inclusive='left').strftime('%Y-%m-%d'):\n",
    "        task = asyncio.create_task(get_daily_product_cost(date))\n",
    "        tasks.append(task)\n",
    "\n",
    "    daily_product_cost_list = await asyncio.gather(*tasks)\n",
    "\n",
    "    result = pd.DataFrame(\n",
    "        columns=['YEAR', 'COUNT_PER_TEN_DAYS', 'PRODUCT_CODE', 'MIN_PRODUCT_COST',\n",
    "                 'MAX_PRODUCT_COST', 'AVG_PRODUCT_COST']).astype({\n",
    "        'YEAR': 'int',\n",
    "        'COUNT_PER_TEN_DAYS': 'int',\n",
    "        'PRODUCT_CODE': 'str',\n",
    "        'MIN_PRODUCT_COST': 'float',\n",
    "        'MAX_PRODUCT_COST': 'float',\n",
    "        'AVG_PRODUCT_COST': 'float'\n",
    "    })\n",
    "\n",
    "    first_third = {}\n",
    "    second_third = {}\n",
    "    final_third = {}\n",
    "\n",
    "    for product_cost in daily_product_cost_list:\n",
    "        date = pd.to_datetime(product_cost['date'])\n",
    "        cost = product_cost['cost']\n",
    "        day = date.day\n",
    "\n",
    "        target_third = None\n",
    "\n",
    "        if day <= 10:\n",
    "            target_third = first_third\n",
    "        elif day <= 20:\n",
    "            target_third = second_third\n",
    "        else:\n",
    "            target_third = final_third\n",
    "\n",
    "        for key in cost.keys():\n",
    "            if target_third.get(key) is None:\n",
    "                target_third[key] = {\n",
    "                    'MIN_PRODUCT_COST': float('inf'),\n",
    "                    'MAX_PRODUCT_COST': 0,\n",
    "                    'TOTAL_AVG_PRODUCT_COST': 0,\n",
    "                    'TOTAL_COUNT': 0\n",
    "                }\n",
    "\n",
    "            avg_cost = cost[key]\n",
    "            target_third[key]['MIN_PRODUCT_COST'] = np.min(\n",
    "                [target_third[key]['MIN_PRODUCT_COST'], avg_cost])\n",
    "            target_third[key]['MAX_PRODUCT_COST'] = np.max(\n",
    "                [target_third[key]['MAX_PRODUCT_COST'], avg_cost])\n",
    "            target_third[key]['TOTAL_AVG_PRODUCT_COST'] += avg_cost\n",
    "            target_third[key]['TOTAL_COUNT'] += 1\n",
    "\n",
    "    for key in first_third.keys():\n",
    "        info = first_third[key]\n",
    "        result = pd.concat([result, pd.DataFrame({\n",
    "            'YEAR': [int(year)],\n",
    "            'COUNT_PER_TEN_DAYS': [(int(month) - 1) * 3],\n",
    "            'PRODUCT_CODE': [key],\n",
    "            'MIN_PRODUCT_COST': [info['MIN_PRODUCT_COST']],\n",
    "            'MAX_PRODUCT_COST': [info['MAX_PRODUCT_COST']],\n",
    "            'AVG_PRODUCT_COST': [info['TOTAL_AVG_PRODUCT_COST'] / info['TOTAL_COUNT']]\n",
    "        })], ignore_index=True)\n",
    "\n",
    "    for key in second_third.keys():\n",
    "        info = second_third[key]\n",
    "        result = pd.concat([result, pd.DataFrame({\n",
    "            'YEAR': [int(year)],\n",
    "            'COUNT_PER_TEN_DAYS': [(int(month) - 1) * 3 + 1],\n",
    "            'PRODUCT_CODE': [key],\n",
    "            'MIN_PRODUCT_COST': [info['MIN_PRODUCT_COST']],\n",
    "            'MAX_PRODUCT_COST': [info['MAX_PRODUCT_COST']],\n",
    "            'AVG_PRODUCT_COST': [info['TOTAL_AVG_PRODUCT_COST'] / info['TOTAL_COUNT']]\n",
    "        })], ignore_index=True)\n",
    "\n",
    "    for key in final_third.keys():\n",
    "        info = final_third[key]\n",
    "        result = pd.concat([result, pd.DataFrame({\n",
    "            'YEAR': [int(year)],\n",
    "            'COUNT_PER_TEN_DAYS': [(int(month) - 1) * 3 + 2],\n",
    "            'PRODUCT_CODE': [key],\n",
    "            'MIN_PRODUCT_COST': [info['MIN_PRODUCT_COST']],\n",
    "            'MAX_PRODUCT_COST': [info['MAX_PRODUCT_COST']],\n",
    "            'AVG_PRODUCT_COST': [info['TOTAL_AVG_PRODUCT_COST'] / info['TOTAL_COUNT']]\n",
    "        })], ignore_index=True)\n",
    "\n",
    "    print(f'{year}-{month} done')\n",
    "    return result\n"
   ],
   "metadata": {
    "collapsed": false,
    "ExecuteTime": {
     "end_time": "2024-03-22T00:06:55.583162300Z",
     "start_time": "2024-03-22T00:06:55.577617600Z"
    }
   },
   "id": "4e8b9654faf03cac",
   "execution_count": 5
  },
  {
   "cell_type": "code",
   "outputs": [],
   "source": [
    "async def get_yearly_product_cost_df(year: str) -> pd.DataFrame:\n",
    "    tasks = []\n",
    "\n",
    "    # for month in range(1, 7):\n",
    "    #     task = asyncio.create_task(get_monthly_product_cost_df(year, str(month)))\n",
    "    #     tasks.append(task)\n",
    "    # first_half = await asyncio.gather(*tasks)\n",
    "    # \n",
    "    # await asyncio.sleep(10)\n",
    "    # \n",
    "    # tasks = []\n",
    "    # \n",
    "    # for month in range(7, 13):\n",
    "    #     task = asyncio.create_task(get_monthly_product_cost_df(year, str(month)))\n",
    "    #     tasks.append(task)\n",
    "    #     \n",
    "    # last_half = await asyncio.gather(*tasks)\n",
    "\n",
    "    monthly_product_cost_list = []\n",
    "\n",
    "    for month in range(1, 13):\n",
    "        # task = asyncio.create_task(get_monthly_product_cost_df(year, str(month)))\n",
    "        # tasks.append(task)\n",
    "        monthly_product_cost = await get_monthly_product_cost_df(year, str(month))\n",
    "        monthly_product_cost_list.append(monthly_product_cost)\n",
    "\n",
    "    # monthly_product_cost_list = await asyncio.gather(*tasks)\n",
    "\n",
    "    result = pd.DataFrame(\n",
    "        columns=['YEAR', 'COUNT_PER_TEN_DAYS', 'PRODUCT_CODE', 'MIN_PRODUCT_COST',\n",
    "                 'MAX_PRODUCT_COST', 'AVG_PRODUCT_COST']).astype({\n",
    "        'YEAR': 'int',\n",
    "        'COUNT_PER_TEN_DAYS': 'int',\n",
    "        'PRODUCT_CODE': 'str',\n",
    "        'MIN_PRODUCT_COST': 'float',\n",
    "        'MAX_PRODUCT_COST': 'float',\n",
    "        'AVG_PRODUCT_COST': 'float'\n",
    "    })\n",
    "\n",
    "    # monthly_product_cost = [*first_half, *last_half]\n",
    "\n",
    "    result = pd.concat([result, *monthly_product_cost_list], ignore_index=True)\n",
    "    return result"
   ],
   "metadata": {
    "collapsed": false,
    "ExecuteTime": {
     "end_time": "2024-03-22T00:07:00.580886400Z",
     "start_time": "2024-03-22T00:07:00.567375500Z"
    }
   },
   "id": "cdeda3e5c57143d7",
   "execution_count": 6
  },
  {
   "cell_type": "code",
   "outputs": [
    {
     "name": "stdout",
     "output_type": "stream",
     "text": [
      "2019-1 done\n",
      "2019-2 done\n",
      "2019-3 done\n",
      "2019-4 done\n",
      "2019-5 done\n",
      "2019-6 done\n",
      "2019-7 done\n",
      "2019-8 done\n",
      "2019-9 done\n",
      "2019-10 done\n",
      "2019-11 done\n",
      "2019-12 done\n",
      "2020-1 done\n",
      "2020-2 done\n",
      "2020-3 done\n",
      "2020-4 done\n",
      "2020-5 done\n",
      "2020-6 done\n",
      "2020-7 done\n",
      "2020-8 done\n",
      "2020-9 done\n",
      "2020-10 done\n",
      "2020-11 done\n",
      "2020-12 done\n",
      "2021-1 done\n",
      "2021-2 done\n",
      "2021-3 done\n",
      "2021-4 done\n",
      "2021-5 done\n",
      "2021-6 done\n",
      "2021-7 done\n",
      "2021-8 done\n",
      "2021-9 done\n",
      "2021-10 done\n",
      "2021-11 done\n",
      "2021-12 done\n",
      "2022-1 done\n",
      "2022-2 done\n",
      "2022-3 done\n",
      "2022-4 done\n",
      "2022-5 done\n",
      "2022-6 done\n",
      "2022-7 done\n",
      "2022-8 done\n",
      "2022-9 done\n",
      "2022-10 done\n",
      "2022-11 done\n",
      "2022-12 done\n",
      "2023-1 done\n",
      "2023-2 done\n",
      "2023-3 done\n",
      "2023-4 done\n",
      "2023-5 done\n",
      "2023-6 done\n",
      "2023-7 done\n",
      "2023-8 done\n",
      "2023-9 done\n",
      "2023-10 done\n",
      "2023-11 done\n",
      "2023-12 done\n"
     ]
    }
   ],
   "source": [
    "product_cost_2018 = await get_yearly_product_cost_df('2018')\n",
    "product_cost_2019 = await get_yearly_product_cost_df('2019')\n",
    "product_cost_2020 = await get_yearly_product_cost_df('2020')\n",
    "product_cost_2021 = await get_yearly_product_cost_df('2021')\n",
    "product_cost_2022 = await get_yearly_product_cost_df('2022')\n",
    "product_cost_2023 = await get_yearly_product_cost_df('2023')\n"
   ],
   "metadata": {
    "collapsed": false,
    "ExecuteTime": {
     "end_time": "2024-03-20T18:33:26.079701Z",
     "start_time": "2024-03-20T18:15:47.753910Z"
    }
   },
   "id": "877cf9be8d39aa0f",
   "execution_count": 140
  },
  {
   "cell_type": "code",
   "outputs": [],
   "source": [
    "product_cost_2018.to_csv(\"data/product_cost_2018.csv\", encoding='utf-8')\n",
    "product_cost_2019.to_csv(\"data/product_cost_2019.csv\", encoding='utf-8')\n",
    "product_cost_2020.to_csv(\"data/product_cost_2020.csv\", encoding='utf-8')\n",
    "product_cost_2021.to_csv(\"data/product_cost_2021.csv\", encoding='utf-8')\n",
    "product_cost_2022.to_csv(\"data/product_cost_2022.csv\", encoding='utf-8')\n",
    "product_cost_2023.to_csv(\"data/product_cost_2023.csv\", encoding='utf-8')"
   ],
   "metadata": {
    "collapsed": false,
    "ExecuteTime": {
     "end_time": "2024-03-20T18:34:41.400132Z",
     "start_time": "2024-03-20T18:34:41.362840Z"
    }
   },
   "id": "e71c2b71820c8619",
   "execution_count": 143
  },
  {
   "cell_type": "code",
   "outputs": [
    {
     "name": "stdout",
     "output_type": "stream",
     "text": [
      "2017-12 done\n"
     ]
    }
   ],
   "source": [
    "product_cost_2017 = await get_monthly_product_cost_df('2017', '12')\n",
    "product_cost_2017 = product_cost_2017.loc[product_cost_2017.COUNT_PER_TEN_DAYS == 35, 'YEAR':]\n",
    "product_cost_2017.to_csv(\"data/product_cost_2017.csv\", encoding='utf-8')"
   ],
   "metadata": {
    "collapsed": false,
    "ExecuteTime": {
     "end_time": "2024-03-22T00:08:08.807411500Z",
     "start_time": "2024-03-22T00:08:05.932802100Z"
    }
   },
   "id": "3247dda2a8bc2505",
   "execution_count": 9
  },
  {
   "cell_type": "code",
   "outputs": [],
   "source": [
    "def make_cost_fluctuation_df(data: pd.DataFrame, start_index: int) -> pd.DataFrame:\n",
    "    result = {}\n",
    "\n",
    "    product_code_list = data['PRODUCT_CODE'].unique()\n",
    "\n",
    "    for product_code in product_code_list:\n",
    "        fluctuation = pd.DataFrame(\n",
    "            columns=['YEAR', 'COUNT_PER_TEN_DAYS', 'PRODUCT_CODE', 'MIN_PRODUCT_COST',\n",
    "                     'MAX_PRODUCT_COST', 'AVG_PRODUCT_COST', 'PRODUCT_MIN_RATE', 'PRODUCT_MAX_RATE']\n",
    "        ).astype({\n",
    "            'YEAR': 'int',\n",
    "            'COUNT_PER_TEN_DAYS': 'int',\n",
    "            'PRODUCT_CODE': 'str',\n",
    "            'MIN_PRODUCT_COST': 'float',\n",
    "            'MAX_PRODUCT_COST': 'float',\n",
    "            'AVG_PRODUCT_COST': 'float',\n",
    "            'PRODUCT_MIN_RATE': 'float',\n",
    "            'PRODUCT_MAX_RATE': 'float'\n",
    "        })\n",
    "        \n",
    "        product_data = data.loc[data['PRODUCT_CODE'] == product_code, :]\n",
    "        \n",
    "\n",
    "    for index in range(start_index, len(data)):\n",
    "        prev ="
   ],
   "metadata": {
    "collapsed": false
   },
   "id": "e9a23877638f0d8b"
  },
  {
   "cell_type": "code",
   "outputs": [],
   "source": [],
   "metadata": {
    "collapsed": false
   },
   "id": "d5bf5db1090d397f"
  },
  {
   "cell_type": "code",
   "outputs": [],
   "source": [
    "\n",
    "        "
   ],
   "metadata": {
    "collapsed": false
   },
   "id": "63bf03952a53615a"
  },
  {
   "cell_type": "code",
   "outputs": [
    {
     "data": {
      "text/plain": "52"
     },
     "execution_count": 175,
     "metadata": {},
     "output_type": "execute_result"
    }
   ],
   "source": [
    "len(product_cost_2017)"
   ],
   "metadata": {
    "collapsed": false,
    "ExecuteTime": {
     "end_time": "2024-03-21T19:27:15.547646Z",
     "start_time": "2024-03-21T19:27:15.545561Z"
    }
   },
   "id": "6dc546cdab6afbe7",
   "execution_count": 175
  },
  {
   "cell_type": "code",
   "outputs": [],
   "source": [
    "product_code_list = product_cost_list['PRODUCT_CODE'].unique().tolist()"
   ],
   "metadata": {
    "collapsed": false,
    "ExecuteTime": {
     "end_time": "2024-03-21T19:30:40.908575Z",
     "start_time": "2024-03-21T19:30:40.902614Z"
    }
   },
   "id": "3170521872e01f19",
   "execution_count": 179
  },
  {
   "cell_type": "code",
   "outputs": [],
   "source": [
    "selected_basic_product_info = basic_product_info[basic_product_info['PRODUCT_CODE'].isin(product_code_list)]"
   ],
   "metadata": {
    "collapsed": false,
    "ExecuteTime": {
     "end_time": "2024-03-21T19:58:25.085129Z",
     "start_time": "2024-03-21T19:58:25.082145Z"
    }
   },
   "id": "df136b46fba52f48",
   "execution_count": 193
  },
  {
   "cell_type": "code",
   "outputs": [
    {
     "data": {
      "text/plain": "    PRODUCT_CODE PRODUCT_NAME M_DISTCTNS  PRDCTN__ERA\n0            111            쌀       FALL         1536\n1            112           찹쌀       FALL         1536\n2            141            콩        ALL            0\n3            142            팥       FALL         1536\n4            143           녹두       FALL         1536\n5            144           메밀       FALL         3072\n6            151          고구마       FALL         1536\n7            152           감자     SUMMER         1984\n8            211           배추       FALL         6144\n9            212          양배추     SPRING          224\n10           279        알배기배추        ALL            0\n11           280         브로콜리     WINTER         7680\n12           213          시금치     WINTER            0\n13           214           상추     SPRING          480\n14           215        얼갈이배추       FALL         6144\n15           221           수박     SUMMER          448\n16           222           참외     SUMMER          448\n17           223           오이     SPRING          480\n18           224           호박        ALL            0\n19           225          토마토     SUMMER          896\n20           226           딸기     WINTER           62\n21           231            무       FALL         3072\n22           232           당근     WINTER         7168\n23           233           열무     SUMMER           96\n24           241          건고추        ALL            0\n25           242          풋고추        ALL            0\n26           243         붉은고추        ALL            0\n27           244          피마늘        ALL            0\n28           258      깐마늘(국산)        ALL            0\n29           245           양파     SUMMER          240\n30           246            파        ALL            0\n31           247           생강       FALL         3840\n32           252          미나리     SPRING           24\n33           253           깻잎     SUMMER         8190\n34           255           피망     SPRING         8176\n35           256         파프리카       FALL         4064\n36           257           멜론     SUMMER         1920\n37           422        방울토마토     SUMMER          960\n38           312           참깨       FALL            0\n39           313           들깨       FALL            0\n40           314           땅콩       FALL         3072\n41           315        느타리버섯       FALL         8190\n42           316         팽이버섯     WINTER         8190\n43           317        새송이버섯       FALL         8190\n44           411           사과       FALL         3968\n45           412            배       FALL         1792\n46           413          복숭아     SUMMER          448\n47           414           포도     SUMMER         1792\n48           415           감귤     WINTER            0\n49           416           단감        ALL            0\n50           418          바나나        ALL            0\n51           419          참다래        ALL            0\n52           420         파인애플     SPRING         1016\n53           421          오렌지        ALL            0\n54           424           레몬     WINTER            0\n55           425           체리     SUMMER           96\n56           428           망고        ALL            0",
      "text/html": "<div>\n<style scoped>\n    .dataframe tbody tr th:only-of-type {\n        vertical-align: middle;\n    }\n\n    .dataframe tbody tr th {\n        vertical-align: top;\n    }\n\n    .dataframe thead th {\n        text-align: right;\n    }\n</style>\n<table border=\"1\" class=\"dataframe\">\n  <thead>\n    <tr style=\"text-align: right;\">\n      <th></th>\n      <th>PRODUCT_CODE</th>\n      <th>PRODUCT_NAME</th>\n      <th>M_DISTCTNS</th>\n      <th>PRDCTN__ERA</th>\n    </tr>\n  </thead>\n  <tbody>\n    <tr>\n      <th>0</th>\n      <td>111</td>\n      <td>쌀</td>\n      <td>FALL</td>\n      <td>1536</td>\n    </tr>\n    <tr>\n      <th>1</th>\n      <td>112</td>\n      <td>찹쌀</td>\n      <td>FALL</td>\n      <td>1536</td>\n    </tr>\n    <tr>\n      <th>2</th>\n      <td>141</td>\n      <td>콩</td>\n      <td>ALL</td>\n      <td>0</td>\n    </tr>\n    <tr>\n      <th>3</th>\n      <td>142</td>\n      <td>팥</td>\n      <td>FALL</td>\n      <td>1536</td>\n    </tr>\n    <tr>\n      <th>4</th>\n      <td>143</td>\n      <td>녹두</td>\n      <td>FALL</td>\n      <td>1536</td>\n    </tr>\n    <tr>\n      <th>5</th>\n      <td>144</td>\n      <td>메밀</td>\n      <td>FALL</td>\n      <td>3072</td>\n    </tr>\n    <tr>\n      <th>6</th>\n      <td>151</td>\n      <td>고구마</td>\n      <td>FALL</td>\n      <td>1536</td>\n    </tr>\n    <tr>\n      <th>7</th>\n      <td>152</td>\n      <td>감자</td>\n      <td>SUMMER</td>\n      <td>1984</td>\n    </tr>\n    <tr>\n      <th>8</th>\n      <td>211</td>\n      <td>배추</td>\n      <td>FALL</td>\n      <td>6144</td>\n    </tr>\n    <tr>\n      <th>9</th>\n      <td>212</td>\n      <td>양배추</td>\n      <td>SPRING</td>\n      <td>224</td>\n    </tr>\n    <tr>\n      <th>10</th>\n      <td>279</td>\n      <td>알배기배추</td>\n      <td>ALL</td>\n      <td>0</td>\n    </tr>\n    <tr>\n      <th>11</th>\n      <td>280</td>\n      <td>브로콜리</td>\n      <td>WINTER</td>\n      <td>7680</td>\n    </tr>\n    <tr>\n      <th>12</th>\n      <td>213</td>\n      <td>시금치</td>\n      <td>WINTER</td>\n      <td>0</td>\n    </tr>\n    <tr>\n      <th>13</th>\n      <td>214</td>\n      <td>상추</td>\n      <td>SPRING</td>\n      <td>480</td>\n    </tr>\n    <tr>\n      <th>14</th>\n      <td>215</td>\n      <td>얼갈이배추</td>\n      <td>FALL</td>\n      <td>6144</td>\n    </tr>\n    <tr>\n      <th>15</th>\n      <td>221</td>\n      <td>수박</td>\n      <td>SUMMER</td>\n      <td>448</td>\n    </tr>\n    <tr>\n      <th>16</th>\n      <td>222</td>\n      <td>참외</td>\n      <td>SUMMER</td>\n      <td>448</td>\n    </tr>\n    <tr>\n      <th>17</th>\n      <td>223</td>\n      <td>오이</td>\n      <td>SPRING</td>\n      <td>480</td>\n    </tr>\n    <tr>\n      <th>18</th>\n      <td>224</td>\n      <td>호박</td>\n      <td>ALL</td>\n      <td>0</td>\n    </tr>\n    <tr>\n      <th>19</th>\n      <td>225</td>\n      <td>토마토</td>\n      <td>SUMMER</td>\n      <td>896</td>\n    </tr>\n    <tr>\n      <th>20</th>\n      <td>226</td>\n      <td>딸기</td>\n      <td>WINTER</td>\n      <td>62</td>\n    </tr>\n    <tr>\n      <th>21</th>\n      <td>231</td>\n      <td>무</td>\n      <td>FALL</td>\n      <td>3072</td>\n    </tr>\n    <tr>\n      <th>22</th>\n      <td>232</td>\n      <td>당근</td>\n      <td>WINTER</td>\n      <td>7168</td>\n    </tr>\n    <tr>\n      <th>23</th>\n      <td>233</td>\n      <td>열무</td>\n      <td>SUMMER</td>\n      <td>96</td>\n    </tr>\n    <tr>\n      <th>24</th>\n      <td>241</td>\n      <td>건고추</td>\n      <td>ALL</td>\n      <td>0</td>\n    </tr>\n    <tr>\n      <th>25</th>\n      <td>242</td>\n      <td>풋고추</td>\n      <td>ALL</td>\n      <td>0</td>\n    </tr>\n    <tr>\n      <th>26</th>\n      <td>243</td>\n      <td>붉은고추</td>\n      <td>ALL</td>\n      <td>0</td>\n    </tr>\n    <tr>\n      <th>27</th>\n      <td>244</td>\n      <td>피마늘</td>\n      <td>ALL</td>\n      <td>0</td>\n    </tr>\n    <tr>\n      <th>28</th>\n      <td>258</td>\n      <td>깐마늘(국산)</td>\n      <td>ALL</td>\n      <td>0</td>\n    </tr>\n    <tr>\n      <th>29</th>\n      <td>245</td>\n      <td>양파</td>\n      <td>SUMMER</td>\n      <td>240</td>\n    </tr>\n    <tr>\n      <th>30</th>\n      <td>246</td>\n      <td>파</td>\n      <td>ALL</td>\n      <td>0</td>\n    </tr>\n    <tr>\n      <th>31</th>\n      <td>247</td>\n      <td>생강</td>\n      <td>FALL</td>\n      <td>3840</td>\n    </tr>\n    <tr>\n      <th>32</th>\n      <td>252</td>\n      <td>미나리</td>\n      <td>SPRING</td>\n      <td>24</td>\n    </tr>\n    <tr>\n      <th>33</th>\n      <td>253</td>\n      <td>깻잎</td>\n      <td>SUMMER</td>\n      <td>8190</td>\n    </tr>\n    <tr>\n      <th>34</th>\n      <td>255</td>\n      <td>피망</td>\n      <td>SPRING</td>\n      <td>8176</td>\n    </tr>\n    <tr>\n      <th>35</th>\n      <td>256</td>\n      <td>파프리카</td>\n      <td>FALL</td>\n      <td>4064</td>\n    </tr>\n    <tr>\n      <th>36</th>\n      <td>257</td>\n      <td>멜론</td>\n      <td>SUMMER</td>\n      <td>1920</td>\n    </tr>\n    <tr>\n      <th>37</th>\n      <td>422</td>\n      <td>방울토마토</td>\n      <td>SUMMER</td>\n      <td>960</td>\n    </tr>\n    <tr>\n      <th>38</th>\n      <td>312</td>\n      <td>참깨</td>\n      <td>FALL</td>\n      <td>0</td>\n    </tr>\n    <tr>\n      <th>39</th>\n      <td>313</td>\n      <td>들깨</td>\n      <td>FALL</td>\n      <td>0</td>\n    </tr>\n    <tr>\n      <th>40</th>\n      <td>314</td>\n      <td>땅콩</td>\n      <td>FALL</td>\n      <td>3072</td>\n    </tr>\n    <tr>\n      <th>41</th>\n      <td>315</td>\n      <td>느타리버섯</td>\n      <td>FALL</td>\n      <td>8190</td>\n    </tr>\n    <tr>\n      <th>42</th>\n      <td>316</td>\n      <td>팽이버섯</td>\n      <td>WINTER</td>\n      <td>8190</td>\n    </tr>\n    <tr>\n      <th>43</th>\n      <td>317</td>\n      <td>새송이버섯</td>\n      <td>FALL</td>\n      <td>8190</td>\n    </tr>\n    <tr>\n      <th>44</th>\n      <td>411</td>\n      <td>사과</td>\n      <td>FALL</td>\n      <td>3968</td>\n    </tr>\n    <tr>\n      <th>45</th>\n      <td>412</td>\n      <td>배</td>\n      <td>FALL</td>\n      <td>1792</td>\n    </tr>\n    <tr>\n      <th>46</th>\n      <td>413</td>\n      <td>복숭아</td>\n      <td>SUMMER</td>\n      <td>448</td>\n    </tr>\n    <tr>\n      <th>47</th>\n      <td>414</td>\n      <td>포도</td>\n      <td>SUMMER</td>\n      <td>1792</td>\n    </tr>\n    <tr>\n      <th>48</th>\n      <td>415</td>\n      <td>감귤</td>\n      <td>WINTER</td>\n      <td>0</td>\n    </tr>\n    <tr>\n      <th>49</th>\n      <td>416</td>\n      <td>단감</td>\n      <td>ALL</td>\n      <td>0</td>\n    </tr>\n    <tr>\n      <th>50</th>\n      <td>418</td>\n      <td>바나나</td>\n      <td>ALL</td>\n      <td>0</td>\n    </tr>\n    <tr>\n      <th>51</th>\n      <td>419</td>\n      <td>참다래</td>\n      <td>ALL</td>\n      <td>0</td>\n    </tr>\n    <tr>\n      <th>52</th>\n      <td>420</td>\n      <td>파인애플</td>\n      <td>SPRING</td>\n      <td>1016</td>\n    </tr>\n    <tr>\n      <th>53</th>\n      <td>421</td>\n      <td>오렌지</td>\n      <td>ALL</td>\n      <td>0</td>\n    </tr>\n    <tr>\n      <th>54</th>\n      <td>424</td>\n      <td>레몬</td>\n      <td>WINTER</td>\n      <td>0</td>\n    </tr>\n    <tr>\n      <th>55</th>\n      <td>425</td>\n      <td>체리</td>\n      <td>SUMMER</td>\n      <td>96</td>\n    </tr>\n    <tr>\n      <th>56</th>\n      <td>428</td>\n      <td>망고</td>\n      <td>ALL</td>\n      <td>0</td>\n    </tr>\n  </tbody>\n</table>\n</div>"
     },
     "execution_count": 209,
     "metadata": {},
     "output_type": "execute_result"
    }
   ],
   "source": [
    "selected_basic_product_info.reset_index(drop=True)"
   ],
   "metadata": {
    "collapsed": false,
    "ExecuteTime": {
     "end_time": "2024-03-21T20:05:33.357523Z",
     "start_time": "2024-03-21T20:05:33.350659Z"
    }
   },
   "id": "9b068adab6ba00b8",
   "execution_count": 209
  },
  {
   "cell_type": "code",
   "outputs": [],
   "source": [
    "selected_basic_product_info.to_csv('data/selected_basic_product_info.csv', encoding='utf-8')"
   ],
   "metadata": {
    "collapsed": false,
    "ExecuteTime": {
     "end_time": "2024-03-21T19:38:46.281921Z",
     "start_time": "2024-03-21T19:38:46.272139Z"
    }
   },
   "id": "956cb96c7f660182",
   "execution_count": 185
  },
  {
   "cell_type": "code",
   "outputs": [],
   "source": [],
   "metadata": {
    "collapsed": false
   },
   "id": "5fff581a8107aa3e"
  }
 ],
 "metadata": {
  "kernelspec": {
   "display_name": "Python 3",
   "language": "python",
   "name": "python3"
  },
  "language_info": {
   "codemirror_mode": {
    "name": "ipython",
    "version": 2
   },
   "file_extension": ".py",
   "mimetype": "text/x-python",
   "name": "python",
   "nbconvert_exporter": "python",
   "pygments_lexer": "ipython2",
   "version": "2.7.6"
  }
 },
 "nbformat": 4,
 "nbformat_minor": 5
}
