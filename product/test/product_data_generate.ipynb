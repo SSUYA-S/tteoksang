{
 "cells": [
  {
   "cell_type": "code",
   "execution_count": 132,
   "id": "initial_id",
   "metadata": {
    "collapsed": true,
    "ExecuteTime": {
     "end_time": "2024-03-20T18:14:31.055188Z",
     "start_time": "2024-03-20T18:14:31.049661Z"
    }
   },
   "outputs": [],
   "source": [
    "import os\n",
    "\n",
    "import requests\n",
    "import json\n",
    "import pandas as pd\n",
    "import numpy as np\n",
    "import aiohttp\n",
    "import asyncio\n",
    "from dotenv import load_dotenv\n",
    "\n",
    "load_dotenv()\n",
    "\n",
    "KAMIS_CERT_KEY = os.getenv('KAMIS_CERT_KEY')\n",
    "KAMIS_CERT_ID = os.getenv('KAMIS_CERT_ID')\n",
    "CATEGORY_CODES = ['100', '200', '300', '400']"
   ]
  },
  {
   "cell_type": "code",
   "outputs": [],
   "source": [
    "# 18-01-01 ~ 23-12-31\n",
    "# 사용할 작물별로 그날의 평균값\n",
    "# 10일 단위로 최대 최소 가격\n",
    "# 10일 단위 전체 평균 가격"
   ],
   "metadata": {
    "collapsed": false,
    "ExecuteTime": {
     "end_time": "2024-03-20T18:14:31.760801Z",
     "start_time": "2024-03-20T18:14:31.759435Z"
    }
   },
   "id": "24be9e0649fc75af",
   "execution_count": 133
  },
  {
   "cell_type": "code",
   "outputs": [],
   "source": [
    "# api 호출\n",
    "async def get_daily_price(date: str, category_code: str,\n",
    "    session: aiohttp.client.ClientSession) -> json:\n",
    "    headers = {'Content-Type': 'application/json', 'charset': 'UTF-8', 'Accept': '*/*'}\n",
    "    request_url = 'http://www.kamis.or.kr/service/price/xml.do?action=dailyPriceByCategoryList'\n",
    "    params = {\n",
    "        'p_cert_key': KAMIS_CERT_KEY,\n",
    "        'p_cert_id': KAMIS_CERT_ID,\n",
    "        'p_item_category_code': category_code,\n",
    "        'p_regday': date,\n",
    "        'p_returntype': 'json'\n",
    "    }\n",
    "\n",
    "    for param in params.keys():\n",
    "        request_url += f\"&{param}={params[param]}\"\n",
    "\n",
    "    try:\n",
    "        async with session.get(request_url) as response:\n",
    "            return await response.json(content_type='text/plain')\n",
    "    except Exception as e:\n",
    "        return await get_daily_price(date, category_code, session)"
   ],
   "metadata": {
    "collapsed": false,
    "ExecuteTime": {
     "end_time": "2024-03-20T18:14:32.692796Z",
     "start_time": "2024-03-20T18:14:32.689777Z"
    }
   },
   "id": "ea9ad48b68cc2671",
   "execution_count": 134
  },
  {
   "cell_type": "code",
   "outputs": [],
   "source": [
    "# 하루동안 모든 카테고리에 속하는 작물의 모든 등급에 대한 가격 평균\n",
    "async def get_daily_product_cost(date: str) -> dict:\n",
    "    product_acc_cost = {}\n",
    "    tasks = []\n",
    "    async with aiohttp.ClientSession(timeout=aiohttp.ClientTimeout(20)) as session:\n",
    "        for cat in CATEGORY_CODES:\n",
    "            task = asyncio.create_task(get_daily_price(date, cat, session))\n",
    "            tasks.append(task)\n",
    "\n",
    "        response = await asyncio.gather(*tasks)\n",
    "\n",
    "        for res in response:\n",
    "            data = res['data']\n",
    "\n",
    "            # 비정상 응답, error_code - 001, 200, 900\n",
    "            if type(data) == list:\n",
    "                continue\n",
    "\n",
    "            for item in data['item']:\n",
    "                item_code = int(item['item_code'])\n",
    "                item_name = item['item_name']\n",
    "                product_cost = item['dpr1'].replace(',', '')\n",
    "\n",
    "                if product_cost == '-':\n",
    "                    continue\n",
    "\n",
    "                product_cost = int(product_cost)\n",
    "\n",
    "                if product_acc_cost.get(item_code) is None:\n",
    "                    product_acc_cost[item_code] = {\n",
    "                        'total_cost': 0,\n",
    "                        'total_count': 0,\n",
    "                    }\n",
    "\n",
    "                product_acc_cost[item_code]['total_cost'] += product_cost\n",
    "                product_acc_cost[item_code]['total_count'] += 1\n",
    "\n",
    "    result = {'date': date}\n",
    "    product_avg_cost = {}\n",
    "\n",
    "    for key in product_acc_cost.keys():\n",
    "        acc_cost = product_acc_cost.get(key)\n",
    "        product_avg_cost[key] = acc_cost['total_cost'] / acc_cost['total_count']\n",
    "\n",
    "    result[\"cost\"] = product_avg_cost\n",
    "    return result"
   ],
   "metadata": {
    "collapsed": false,
    "ExecuteTime": {
     "end_time": "2024-03-20T18:14:34.937228Z",
     "start_time": "2024-03-20T18:14:34.926431Z"
    }
   },
   "id": "b0b19028f53e07ab",
   "execution_count": 135
  },
  {
   "cell_type": "code",
   "outputs": [],
   "source": [
    "async def get_monthly_product_cost_df(year: str, month: str) -> pd.DataFrame:\n",
    "    div, mod = divmod(int(month), 12)\n",
    "    tasks = []\n",
    "    for date in pd.date_range(f'{year}-{month}-01', f'{int(year) + div}-{mod + 1}-01',\n",
    "                              inclusive='left').strftime('%Y-%m-%d'):\n",
    "        task = asyncio.create_task(get_daily_product_cost(date))\n",
    "        tasks.append(task)\n",
    "\n",
    "    daily_product_cost_list = await asyncio.gather(*tasks)\n",
    "\n",
    "    result = pd.DataFrame(\n",
    "        columns=['YEAR', 'COUNT_PER_TEN_DAYS', 'PRODUCT_CODE', 'MIN_PRODUCT_COST',\n",
    "                 'MAX_PRODUCT_COST', 'AVG_PRODUCT_COST']).astype({\n",
    "        'YEAR': 'int',\n",
    "        'COUNT_PER_TEN_DAYS': 'int',\n",
    "        'PRODUCT_CODE': 'str',\n",
    "        'MIN_PRODUCT_COST': 'float',\n",
    "        'MAX_PRODUCT_COST': 'float',\n",
    "        'AVG_PRODUCT_COST': 'float'\n",
    "    })\n",
    "\n",
    "    first_third = {}\n",
    "    second_third = {}\n",
    "    final_third = {}\n",
    "\n",
    "    for product_cost in daily_product_cost_list:\n",
    "        date = pd.to_datetime(product_cost['date'])\n",
    "        cost = product_cost['cost']\n",
    "        day = date.day\n",
    "\n",
    "        target_third = None\n",
    "\n",
    "        if day <= 10:\n",
    "            target_third = first_third\n",
    "        elif day <= 20:\n",
    "            target_third = second_third\n",
    "        else:\n",
    "            target_third = final_third\n",
    "\n",
    "        for key in cost.keys():\n",
    "            if target_third.get(key) is None:\n",
    "                target_third[key] = {\n",
    "                    'MIN_PRODUCT_COST': float('inf'),\n",
    "                    'MAX_PRODUCT_COST': 0,\n",
    "                    'TOTAL_AVG_PRODUCT_COST': 0,\n",
    "                    'TOTAL_COUNT': 0\n",
    "                }\n",
    "\n",
    "            avg_cost = cost[key]\n",
    "            target_third[key]['MIN_PRODUCT_COST'] = np.min(\n",
    "                [target_third[key]['MIN_PRODUCT_COST'], avg_cost])\n",
    "            target_third[key]['MAX_PRODUCT_COST'] = np.max(\n",
    "                [target_third[key]['MAX_PRODUCT_COST'], avg_cost])\n",
    "            target_third[key]['TOTAL_AVG_PRODUCT_COST'] += avg_cost\n",
    "            target_third[key]['TOTAL_COUNT'] += 1\n",
    "\n",
    "    for key in first_third.keys():\n",
    "        info = first_third[key]\n",
    "        result = pd.concat([result, pd.DataFrame({\n",
    "            'YEAR': [int(year)],\n",
    "            'COUNT_PER_TEN_DAYS': [(int(month) - 1) * 3],\n",
    "            'PRODUCT_CODE': [key],\n",
    "            'MIN_PRODUCT_COST': [info['MIN_PRODUCT_COST']],\n",
    "            'MAX_PRODUCT_COST': [info['MAX_PRODUCT_COST']],\n",
    "            'AVG_PRODUCT_COST': [info['TOTAL_AVG_PRODUCT_COST'] / info['TOTAL_COUNT']]\n",
    "        })], ignore_index=True)\n",
    "\n",
    "    for key in second_third.keys():\n",
    "        info = second_third[key]\n",
    "        result = pd.concat([result, pd.DataFrame({\n",
    "            'YEAR': [int(year)],\n",
    "            'COUNT_PER_TEN_DAYS': [(int(month) - 1) * 3 + 1],\n",
    "            'PRODUCT_CODE': [key],\n",
    "            'MIN_PRODUCT_COST': [info['MIN_PRODUCT_COST']],\n",
    "            'MAX_PRODUCT_COST': [info['MAX_PRODUCT_COST']],\n",
    "            'AVG_PRODUCT_COST': [info['TOTAL_AVG_PRODUCT_COST'] / info['TOTAL_COUNT']]\n",
    "        })], ignore_index=True)\n",
    "\n",
    "    for key in final_third.keys():\n",
    "        info = final_third[key]\n",
    "        result = pd.concat([result, pd.DataFrame({\n",
    "            'YEAR': [int(year)],\n",
    "            'COUNT_PER_TEN_DAYS': [(int(month) - 1) * 3 + 2],\n",
    "            'PRODUCT_CODE': [key],\n",
    "            'MIN_PRODUCT_COST': [info['MIN_PRODUCT_COST']],\n",
    "            'MAX_PRODUCT_COST': [info['MAX_PRODUCT_COST']],\n",
    "            'AVG_PRODUCT_COST': [info['TOTAL_AVG_PRODUCT_COST'] / info['TOTAL_COUNT']]\n",
    "        })], ignore_index=True)\n",
    "\n",
    "    print(f'{year}-{month} done')\n",
    "    return result\n"
   ],
   "metadata": {
    "collapsed": false,
    "ExecuteTime": {
     "end_time": "2024-03-20T18:14:36.676601Z",
     "start_time": "2024-03-20T18:14:36.665661Z"
    }
   },
   "id": "4e8b9654faf03cac",
   "execution_count": 136
  },
  {
   "cell_type": "code",
   "outputs": [],
   "source": [
    "async def get_yearly_product_cost_df(year: str) -> pd.DataFrame:\n",
    "    tasks = []\n",
    "\n",
    "    # for month in range(1, 7):\n",
    "    #     task = asyncio.create_task(get_monthly_product_cost_df(year, str(month)))\n",
    "    #     tasks.append(task)\n",
    "    # first_half = await asyncio.gather(*tasks)\n",
    "    # \n",
    "    # await asyncio.sleep(10)\n",
    "    # \n",
    "    # tasks = []\n",
    "    # \n",
    "    # for month in range(7, 13):\n",
    "    #     task = asyncio.create_task(get_monthly_product_cost_df(year, str(month)))\n",
    "    #     tasks.append(task)\n",
    "    #     \n",
    "    # last_half = await asyncio.gather(*tasks)\n",
    "\n",
    "    monthly_product_cost_list = []\n",
    "\n",
    "    for month in range(1, 13):\n",
    "        # task = asyncio.create_task(get_monthly_product_cost_df(year, str(month)))\n",
    "        # tasks.append(task)\n",
    "        monthly_product_cost = await get_monthly_product_cost_df(year, str(month))\n",
    "        monthly_product_cost_list.append(monthly_product_cost)\n",
    "\n",
    "    # monthly_product_cost_list = await asyncio.gather(*tasks)\n",
    "\n",
    "    result = pd.DataFrame(\n",
    "        columns=['YEAR', 'COUNT_PER_TEN_DAYS', 'PRODUCT_CODE', 'MIN_PRODUCT_COST',\n",
    "                 'MAX_PRODUCT_COST', 'AVG_PRODUCT_COST']).astype({\n",
    "        'YEAR': 'int',\n",
    "        'COUNT_PER_TEN_DAYS': 'int',\n",
    "        'PRODUCT_CODE': 'str',\n",
    "        'MIN_PRODUCT_COST': 'float',\n",
    "        'MAX_PRODUCT_COST': 'float',\n",
    "        'AVG_PRODUCT_COST': 'float'\n",
    "    })\n",
    "\n",
    "    # monthly_product_cost = [*first_half, *last_half]\n",
    "\n",
    "    result = pd.concat([result, *monthly_product_cost_list], ignore_index=True)\n",
    "    return result"
   ],
   "metadata": {
    "collapsed": false,
    "ExecuteTime": {
     "end_time": "2024-03-20T18:15:46.838225Z",
     "start_time": "2024-03-20T18:15:46.833080Z"
    }
   },
   "id": "cdeda3e5c57143d7",
   "execution_count": 139
  },
  {
   "cell_type": "code",
   "outputs": [
    {
     "name": "stdout",
     "output_type": "stream",
     "text": [
      "2019-1 done\n",
      "2019-2 done\n",
      "2019-3 done\n",
      "2019-4 done\n",
      "2019-5 done\n",
      "2019-6 done\n",
      "2019-7 done\n",
      "2019-8 done\n",
      "2019-9 done\n",
      "2019-10 done\n",
      "2019-11 done\n",
      "2019-12 done\n",
      "2020-1 done\n",
      "2020-2 done\n",
      "2020-3 done\n",
      "2020-4 done\n",
      "2020-5 done\n",
      "2020-6 done\n",
      "2020-7 done\n",
      "2020-8 done\n",
      "2020-9 done\n",
      "2020-10 done\n",
      "2020-11 done\n",
      "2020-12 done\n",
      "2021-1 done\n",
      "2021-2 done\n",
      "2021-3 done\n",
      "2021-4 done\n",
      "2021-5 done\n",
      "2021-6 done\n",
      "2021-7 done\n",
      "2021-8 done\n",
      "2021-9 done\n",
      "2021-10 done\n",
      "2021-11 done\n",
      "2021-12 done\n",
      "2022-1 done\n",
      "2022-2 done\n",
      "2022-3 done\n",
      "2022-4 done\n",
      "2022-5 done\n",
      "2022-6 done\n",
      "2022-7 done\n",
      "2022-8 done\n",
      "2022-9 done\n",
      "2022-10 done\n",
      "2022-11 done\n",
      "2022-12 done\n",
      "2023-1 done\n",
      "2023-2 done\n",
      "2023-3 done\n",
      "2023-4 done\n",
      "2023-5 done\n",
      "2023-6 done\n",
      "2023-7 done\n",
      "2023-8 done\n",
      "2023-9 done\n",
      "2023-10 done\n",
      "2023-11 done\n",
      "2023-12 done\n"
     ]
    }
   ],
   "source": [
    "product_cost_2018 = await get_yearly_product_cost_df('2018')\n",
    "product_cost_2019 = await get_yearly_product_cost_df('2019')\n",
    "product_cost_2020 = await get_yearly_product_cost_df('2020')\n",
    "product_cost_2021 = await get_yearly_product_cost_df('2021')\n",
    "product_cost_2022 = await get_yearly_product_cost_df('2022')\n",
    "product_cost_2023 = await get_yearly_product_cost_df('2023')\n"
   ],
   "metadata": {
    "collapsed": false,
    "ExecuteTime": {
     "end_time": "2024-03-20T18:33:26.079701Z",
     "start_time": "2024-03-20T18:15:47.753910Z"
    }
   },
   "id": "877cf9be8d39aa0f",
   "execution_count": 140
  },
  {
   "cell_type": "code",
   "outputs": [],
   "source": [
    "product_cost_2018.to_csv(\"data/product_cost_2018.csv\", encoding='utf-8')\n",
    "product_cost_2019.to_csv(\"data/product_cost_2019.csv\", encoding='utf-8')\n",
    "product_cost_2020.to_csv(\"data/product_cost_2020.csv\", encoding='utf-8')\n",
    "product_cost_2021.to_csv(\"data/product_cost_2021.csv\", encoding='utf-8')\n",
    "product_cost_2022.to_csv(\"data/product_cost_2022.csv\", encoding='utf-8')\n",
    "product_cost_2023.to_csv(\"data/product_cost_2023.csv\", encoding='utf-8')"
   ],
   "metadata": {
    "collapsed": false,
    "ExecuteTime": {
     "end_time": "2024-03-20T18:34:41.400132Z",
     "start_time": "2024-03-20T18:34:41.362840Z"
    }
   },
   "id": "e71c2b71820c8619",
   "execution_count": 143
  },
  {
   "cell_type": "code",
   "outputs": [],
   "source": [
    "basic_product_info = pd.read_csv('data/basic_product_info.csv', encoding='utf-8')"
   ],
   "metadata": {
    "collapsed": false,
    "ExecuteTime": {
     "end_time": "2024-03-21T18:11:20.018056Z",
     "start_time": "2024-03-21T18:11:19.988546Z"
    }
   },
   "id": "e97df1f3810a145f",
   "execution_count": 144
  },
  {
   "cell_type": "code",
   "outputs": [
    {
     "data": {
      "text/plain": "    PRODUCT_CODE PRODUCT_NAME M_DISTCTNS  PRDCTN__ERA\n0            111            쌀       FALL         1536\n1            112           찹쌀       FALL         1536\n2            141            콩        ALL            0\n3            142            팥       FALL         1536\n4            143           녹두       FALL         1536\n..           ...          ...        ...          ...\n80           426          건포도        ALL            0\n81           427        건블루베리        ALL            0\n82           428           망고        ALL            0\n83           430         아보카도        ALL            0\n84           429         블루베리     SUMMER          896\n\n[85 rows x 4 columns]",
      "text/html": "<div>\n<style scoped>\n    .dataframe tbody tr th:only-of-type {\n        vertical-align: middle;\n    }\n\n    .dataframe tbody tr th {\n        vertical-align: top;\n    }\n\n    .dataframe thead th {\n        text-align: right;\n    }\n</style>\n<table border=\"1\" class=\"dataframe\">\n  <thead>\n    <tr style=\"text-align: right;\">\n      <th></th>\n      <th>PRODUCT_CODE</th>\n      <th>PRODUCT_NAME</th>\n      <th>M_DISTCTNS</th>\n      <th>PRDCTN__ERA</th>\n    </tr>\n  </thead>\n  <tbody>\n    <tr>\n      <th>0</th>\n      <td>111</td>\n      <td>쌀</td>\n      <td>FALL</td>\n      <td>1536</td>\n    </tr>\n    <tr>\n      <th>1</th>\n      <td>112</td>\n      <td>찹쌀</td>\n      <td>FALL</td>\n      <td>1536</td>\n    </tr>\n    <tr>\n      <th>2</th>\n      <td>141</td>\n      <td>콩</td>\n      <td>ALL</td>\n      <td>0</td>\n    </tr>\n    <tr>\n      <th>3</th>\n      <td>142</td>\n      <td>팥</td>\n      <td>FALL</td>\n      <td>1536</td>\n    </tr>\n    <tr>\n      <th>4</th>\n      <td>143</td>\n      <td>녹두</td>\n      <td>FALL</td>\n      <td>1536</td>\n    </tr>\n    <tr>\n      <th>...</th>\n      <td>...</td>\n      <td>...</td>\n      <td>...</td>\n      <td>...</td>\n    </tr>\n    <tr>\n      <th>80</th>\n      <td>426</td>\n      <td>건포도</td>\n      <td>ALL</td>\n      <td>0</td>\n    </tr>\n    <tr>\n      <th>81</th>\n      <td>427</td>\n      <td>건블루베리</td>\n      <td>ALL</td>\n      <td>0</td>\n    </tr>\n    <tr>\n      <th>82</th>\n      <td>428</td>\n      <td>망고</td>\n      <td>ALL</td>\n      <td>0</td>\n    </tr>\n    <tr>\n      <th>83</th>\n      <td>430</td>\n      <td>아보카도</td>\n      <td>ALL</td>\n      <td>0</td>\n    </tr>\n    <tr>\n      <th>84</th>\n      <td>429</td>\n      <td>블루베리</td>\n      <td>SUMMER</td>\n      <td>896</td>\n    </tr>\n  </tbody>\n</table>\n<p>85 rows × 4 columns</p>\n</div>"
     },
     "execution_count": 145,
     "metadata": {},
     "output_type": "execute_result"
    }
   ],
   "source": [
    "basic_product_info"
   ],
   "metadata": {
    "collapsed": false,
    "ExecuteTime": {
     "end_time": "2024-03-21T18:11:22.889895Z",
     "start_time": "2024-03-21T18:11:22.883700Z"
    }
   },
   "id": "fee1e42ffdbd6a8b",
   "execution_count": 145
  },
  {
   "cell_type": "code",
   "outputs": [
    {
     "data": {
      "text/plain": "      YEAR  COUNT_PER_TEN_DAYS PRODUCT_CODE  MIN_PRODUCT_COST  \\\n0     2018                   0          111           38300.0   \n1     2018                   0          112           97400.0   \n2     2018                   0          141          158476.0   \n3     2018                   0          142          272800.0   \n4     2018                   0          143          342800.0   \n...    ...                 ...          ...               ...   \n1829  2018                  35          419           34150.0   \n1830  2018                  35          420           19600.0   \n1831  2018                  35          421           48437.5   \n1832  2018                  35          424           66400.0   \n1833  2018                  35          428           40800.0   \n\n      MAX_PRODUCT_COST  AVG_PRODUCT_COST  \n0              38400.0      38385.714286  \n1              97400.0      97400.000000  \n2             158476.0     158476.000000  \n3             272800.0     272800.000000  \n4             342800.0     342800.000000  \n...                ...               ...  \n1829           34550.0      34400.000000  \n1830           20900.0      19866.666667  \n1831           53250.0      50565.972222  \n1832           66400.0      66400.000000  \n1833           42800.0      41433.333333  \n\n[1834 rows x 6 columns]",
      "text/html": "<div>\n<style scoped>\n    .dataframe tbody tr th:only-of-type {\n        vertical-align: middle;\n    }\n\n    .dataframe tbody tr th {\n        vertical-align: top;\n    }\n\n    .dataframe thead th {\n        text-align: right;\n    }\n</style>\n<table border=\"1\" class=\"dataframe\">\n  <thead>\n    <tr style=\"text-align: right;\">\n      <th></th>\n      <th>YEAR</th>\n      <th>COUNT_PER_TEN_DAYS</th>\n      <th>PRODUCT_CODE</th>\n      <th>MIN_PRODUCT_COST</th>\n      <th>MAX_PRODUCT_COST</th>\n      <th>AVG_PRODUCT_COST</th>\n    </tr>\n  </thead>\n  <tbody>\n    <tr>\n      <th>0</th>\n      <td>2018</td>\n      <td>0</td>\n      <td>111</td>\n      <td>38300.0</td>\n      <td>38400.0</td>\n      <td>38385.714286</td>\n    </tr>\n    <tr>\n      <th>1</th>\n      <td>2018</td>\n      <td>0</td>\n      <td>112</td>\n      <td>97400.0</td>\n      <td>97400.0</td>\n      <td>97400.000000</td>\n    </tr>\n    <tr>\n      <th>2</th>\n      <td>2018</td>\n      <td>0</td>\n      <td>141</td>\n      <td>158476.0</td>\n      <td>158476.0</td>\n      <td>158476.000000</td>\n    </tr>\n    <tr>\n      <th>3</th>\n      <td>2018</td>\n      <td>0</td>\n      <td>142</td>\n      <td>272800.0</td>\n      <td>272800.0</td>\n      <td>272800.000000</td>\n    </tr>\n    <tr>\n      <th>4</th>\n      <td>2018</td>\n      <td>0</td>\n      <td>143</td>\n      <td>342800.0</td>\n      <td>342800.0</td>\n      <td>342800.000000</td>\n    </tr>\n    <tr>\n      <th>...</th>\n      <td>...</td>\n      <td>...</td>\n      <td>...</td>\n      <td>...</td>\n      <td>...</td>\n      <td>...</td>\n    </tr>\n    <tr>\n      <th>1829</th>\n      <td>2018</td>\n      <td>35</td>\n      <td>419</td>\n      <td>34150.0</td>\n      <td>34550.0</td>\n      <td>34400.000000</td>\n    </tr>\n    <tr>\n      <th>1830</th>\n      <td>2018</td>\n      <td>35</td>\n      <td>420</td>\n      <td>19600.0</td>\n      <td>20900.0</td>\n      <td>19866.666667</td>\n    </tr>\n    <tr>\n      <th>1831</th>\n      <td>2018</td>\n      <td>35</td>\n      <td>421</td>\n      <td>48437.5</td>\n      <td>53250.0</td>\n      <td>50565.972222</td>\n    </tr>\n    <tr>\n      <th>1832</th>\n      <td>2018</td>\n      <td>35</td>\n      <td>424</td>\n      <td>66400.0</td>\n      <td>66400.0</td>\n      <td>66400.000000</td>\n    </tr>\n    <tr>\n      <th>1833</th>\n      <td>2018</td>\n      <td>35</td>\n      <td>428</td>\n      <td>40800.0</td>\n      <td>42800.0</td>\n      <td>41433.333333</td>\n    </tr>\n  </tbody>\n</table>\n<p>1834 rows × 6 columns</p>\n</div>"
     },
     "execution_count": 146,
     "metadata": {},
     "output_type": "execute_result"
    }
   ],
   "source": [
    "product_cost_2018"
   ],
   "metadata": {
    "collapsed": false,
    "ExecuteTime": {
     "end_time": "2024-03-21T18:11:40.065233Z",
     "start_time": "2024-03-21T18:11:40.059815Z"
    }
   },
   "id": "a368aa5d2d33976",
   "execution_count": 146
  },
  {
   "cell_type": "code",
   "outputs": [
    {
     "name": "stdout",
     "output_type": "stream",
     "text": [
      "2017-12 done\n"
     ]
    }
   ],
   "source": [
    "product_cost_2017 = await get_monthly_product_cost_df('2017', '12')"
   ],
   "metadata": {
    "collapsed": false,
    "ExecuteTime": {
     "end_time": "2024-03-21T18:15:18.253473Z",
     "start_time": "2024-03-21T18:15:15.498342Z"
    }
   },
   "id": "3247dda2a8bc2505",
   "execution_count": 150
  },
  {
   "cell_type": "code",
   "outputs": [],
   "source": [
    "product_cost_2017 = product_cost_2017.loc[product_cost_2017.COUNT_PER_TEN_DAYS == 35, 'YEAR':]"
   ],
   "metadata": {
    "collapsed": false,
    "ExecuteTime": {
     "end_time": "2024-03-21T18:30:20.314623Z",
     "start_time": "2024-03-21T18:30:20.303615Z"
    }
   },
   "id": "5fa28753b4467def",
   "execution_count": 153
  },
  {
   "cell_type": "code",
   "outputs": [
    {
     "data": {
      "text/plain": "     YEAR  COUNT_PER_TEN_DAYS PRODUCT_CODE  MIN_PRODUCT_COST  \\\n106  2017                  35          111      38100.000000   \n107  2017                  35          112      97400.000000   \n108  2017                  35          141     158476.000000   \n109  2017                  35          142     272800.000000   \n110  2017                  35          143     342800.000000   \n111  2017                  35          144       2840.000000   \n112  2017                  35          151      26000.000000   \n113  2017                  35          152      45000.000000   \n114  2017                  35          211       6300.000000   \n115  2017                  35          212       7350.000000   \n116  2017                  35          213       9800.000000   \n117  2017                  35          214      16000.000000   \n118  2017                  35          215       3600.000000   \n119  2017                  35          221       8150.000000   \n120  2017                  35          223      30916.666667   \n121  2017                  35          224      18050.000000   \n122  2017                  35          225      10050.000000   \n123  2017                  35          226      22600.000000   \n124  2017                  35          231       8350.000000   \n125  2017                  35          232      16933.333333   \n126  2017                  35          233       8080.000000   \n127  2017                  35          241     630000.000000   \n128  2017                  35          242      27400.000000   \n129  2017                  35          243      63200.000000   \n130  2017                  35          244      62975.000000   \n131  2017                  35          245      16866.666667   \n132  2017                  35          246       1720.000000   \n133  2017                  35          247      48700.000000   \n134  2017                  35          252      24037.500000   \n135  2017                  35          253      23000.000000   \n136  2017                  35          255      22900.000000   \n137  2017                  35          256      18300.000000   \n138  2017                  35          257      21400.000000   \n139  2017                  35          258     123800.000000   \n140  2017                  35          422      13800.000000   \n141  2017                  35          312     310800.000000   \n142  2017                  35          313     169333.333333   \n143  2017                  35          314     230500.000000   \n144  2017                  35          315      12600.000000   \n145  2017                  35          316       8400.000000   \n146  2017                  35          317       7700.000000   \n147  2017                  35          411      31300.000000   \n148  2017                  35          412      31000.000000   \n149  2017                  35          414      32700.000000   \n150  2017                  35          415      18400.000000   \n151  2017                  35          416      28100.000000   \n152  2017                  35          418      21000.000000   \n153  2017                  35          419      30000.000000   \n154  2017                  35          420      24200.000000   \n155  2017                  35          421      54100.000000   \n156  2017                  35          424      63600.000000   \n157  2017                  35          428      44000.000000   \n\n     MAX_PRODUCT_COST  AVG_PRODUCT_COST  \n106      38300.000000      38200.000000  \n107      97400.000000      97400.000000  \n108     158476.000000     158476.000000  \n109     272800.000000     272800.000000  \n110     342800.000000     342800.000000  \n111       2840.000000       2840.000000  \n112      27000.000000      26366.666667  \n113      45400.000000      45233.333333  \n114       6540.000000       6440.000000  \n115       8450.000000       7683.333333  \n116      11000.000000      10400.000000  \n117      21400.000000      18433.333333  \n118       3680.000000       3640.000000  \n119       8300.000000       8216.666667  \n120      33361.166667      31472.277778  \n121      22050.000000      19616.666667  \n122      10050.000000      10050.000000  \n123      23600.000000      23066.666667  \n124       9100.000000       8583.333333  \n125      17000.000000      16955.555556  \n126       8480.000000       8240.000000  \n127     633750.000000     630625.000000  \n128      32266.666667      28788.888889  \n129      80400.000000      72500.000000  \n130      62975.000000      62975.000000  \n131      16950.000000      16936.111111  \n132       1770.000000       1743.333333  \n133      49300.000000      48900.000000  \n134      29062.500000      26237.500000  \n135      27100.000000      24566.666667  \n136      27900.000000      24600.000000  \n137      22500.000000      20666.666667  \n138      21700.000000      21516.666667  \n139     123800.000000     123800.000000  \n140      15700.000000      14366.666667  \n141     310800.000000     310800.000000  \n142     169333.333333     169333.333333  \n143     240900.000000     232233.333333  \n144      13200.000000      12933.333333  \n145       9000.000000       8766.666667  \n146       7900.000000       7766.666667  \n147      31500.000000      31400.000000  \n148      31000.000000      31000.000000  \n149      32700.000000      32700.000000  \n150      19000.000000      18733.333333  \n151      28300.000000      28233.333333  \n152      21000.000000      21000.000000  \n153      30200.000000      30033.333333  \n154      24200.000000      24200.000000  \n155      54100.000000      54100.000000  \n156      63600.000000      63600.000000  \n157      44000.000000      44000.000000  ",
      "text/html": "<div>\n<style scoped>\n    .dataframe tbody tr th:only-of-type {\n        vertical-align: middle;\n    }\n\n    .dataframe tbody tr th {\n        vertical-align: top;\n    }\n\n    .dataframe thead th {\n        text-align: right;\n    }\n</style>\n<table border=\"1\" class=\"dataframe\">\n  <thead>\n    <tr style=\"text-align: right;\">\n      <th></th>\n      <th>YEAR</th>\n      <th>COUNT_PER_TEN_DAYS</th>\n      <th>PRODUCT_CODE</th>\n      <th>MIN_PRODUCT_COST</th>\n      <th>MAX_PRODUCT_COST</th>\n      <th>AVG_PRODUCT_COST</th>\n    </tr>\n  </thead>\n  <tbody>\n    <tr>\n      <th>106</th>\n      <td>2017</td>\n      <td>35</td>\n      <td>111</td>\n      <td>38100.000000</td>\n      <td>38300.000000</td>\n      <td>38200.000000</td>\n    </tr>\n    <tr>\n      <th>107</th>\n      <td>2017</td>\n      <td>35</td>\n      <td>112</td>\n      <td>97400.000000</td>\n      <td>97400.000000</td>\n      <td>97400.000000</td>\n    </tr>\n    <tr>\n      <th>108</th>\n      <td>2017</td>\n      <td>35</td>\n      <td>141</td>\n      <td>158476.000000</td>\n      <td>158476.000000</td>\n      <td>158476.000000</td>\n    </tr>\n    <tr>\n      <th>109</th>\n      <td>2017</td>\n      <td>35</td>\n      <td>142</td>\n      <td>272800.000000</td>\n      <td>272800.000000</td>\n      <td>272800.000000</td>\n    </tr>\n    <tr>\n      <th>110</th>\n      <td>2017</td>\n      <td>35</td>\n      <td>143</td>\n      <td>342800.000000</td>\n      <td>342800.000000</td>\n      <td>342800.000000</td>\n    </tr>\n    <tr>\n      <th>111</th>\n      <td>2017</td>\n      <td>35</td>\n      <td>144</td>\n      <td>2840.000000</td>\n      <td>2840.000000</td>\n      <td>2840.000000</td>\n    </tr>\n    <tr>\n      <th>112</th>\n      <td>2017</td>\n      <td>35</td>\n      <td>151</td>\n      <td>26000.000000</td>\n      <td>27000.000000</td>\n      <td>26366.666667</td>\n    </tr>\n    <tr>\n      <th>113</th>\n      <td>2017</td>\n      <td>35</td>\n      <td>152</td>\n      <td>45000.000000</td>\n      <td>45400.000000</td>\n      <td>45233.333333</td>\n    </tr>\n    <tr>\n      <th>114</th>\n      <td>2017</td>\n      <td>35</td>\n      <td>211</td>\n      <td>6300.000000</td>\n      <td>6540.000000</td>\n      <td>6440.000000</td>\n    </tr>\n    <tr>\n      <th>115</th>\n      <td>2017</td>\n      <td>35</td>\n      <td>212</td>\n      <td>7350.000000</td>\n      <td>8450.000000</td>\n      <td>7683.333333</td>\n    </tr>\n    <tr>\n      <th>116</th>\n      <td>2017</td>\n      <td>35</td>\n      <td>213</td>\n      <td>9800.000000</td>\n      <td>11000.000000</td>\n      <td>10400.000000</td>\n    </tr>\n    <tr>\n      <th>117</th>\n      <td>2017</td>\n      <td>35</td>\n      <td>214</td>\n      <td>16000.000000</td>\n      <td>21400.000000</td>\n      <td>18433.333333</td>\n    </tr>\n    <tr>\n      <th>118</th>\n      <td>2017</td>\n      <td>35</td>\n      <td>215</td>\n      <td>3600.000000</td>\n      <td>3680.000000</td>\n      <td>3640.000000</td>\n    </tr>\n    <tr>\n      <th>119</th>\n      <td>2017</td>\n      <td>35</td>\n      <td>221</td>\n      <td>8150.000000</td>\n      <td>8300.000000</td>\n      <td>8216.666667</td>\n    </tr>\n    <tr>\n      <th>120</th>\n      <td>2017</td>\n      <td>35</td>\n      <td>223</td>\n      <td>30916.666667</td>\n      <td>33361.166667</td>\n      <td>31472.277778</td>\n    </tr>\n    <tr>\n      <th>121</th>\n      <td>2017</td>\n      <td>35</td>\n      <td>224</td>\n      <td>18050.000000</td>\n      <td>22050.000000</td>\n      <td>19616.666667</td>\n    </tr>\n    <tr>\n      <th>122</th>\n      <td>2017</td>\n      <td>35</td>\n      <td>225</td>\n      <td>10050.000000</td>\n      <td>10050.000000</td>\n      <td>10050.000000</td>\n    </tr>\n    <tr>\n      <th>123</th>\n      <td>2017</td>\n      <td>35</td>\n      <td>226</td>\n      <td>22600.000000</td>\n      <td>23600.000000</td>\n      <td>23066.666667</td>\n    </tr>\n    <tr>\n      <th>124</th>\n      <td>2017</td>\n      <td>35</td>\n      <td>231</td>\n      <td>8350.000000</td>\n      <td>9100.000000</td>\n      <td>8583.333333</td>\n    </tr>\n    <tr>\n      <th>125</th>\n      <td>2017</td>\n      <td>35</td>\n      <td>232</td>\n      <td>16933.333333</td>\n      <td>17000.000000</td>\n      <td>16955.555556</td>\n    </tr>\n    <tr>\n      <th>126</th>\n      <td>2017</td>\n      <td>35</td>\n      <td>233</td>\n      <td>8080.000000</td>\n      <td>8480.000000</td>\n      <td>8240.000000</td>\n    </tr>\n    <tr>\n      <th>127</th>\n      <td>2017</td>\n      <td>35</td>\n      <td>241</td>\n      <td>630000.000000</td>\n      <td>633750.000000</td>\n      <td>630625.000000</td>\n    </tr>\n    <tr>\n      <th>128</th>\n      <td>2017</td>\n      <td>35</td>\n      <td>242</td>\n      <td>27400.000000</td>\n      <td>32266.666667</td>\n      <td>28788.888889</td>\n    </tr>\n    <tr>\n      <th>129</th>\n      <td>2017</td>\n      <td>35</td>\n      <td>243</td>\n      <td>63200.000000</td>\n      <td>80400.000000</td>\n      <td>72500.000000</td>\n    </tr>\n    <tr>\n      <th>130</th>\n      <td>2017</td>\n      <td>35</td>\n      <td>244</td>\n      <td>62975.000000</td>\n      <td>62975.000000</td>\n      <td>62975.000000</td>\n    </tr>\n    <tr>\n      <th>131</th>\n      <td>2017</td>\n      <td>35</td>\n      <td>245</td>\n      <td>16866.666667</td>\n      <td>16950.000000</td>\n      <td>16936.111111</td>\n    </tr>\n    <tr>\n      <th>132</th>\n      <td>2017</td>\n      <td>35</td>\n      <td>246</td>\n      <td>1720.000000</td>\n      <td>1770.000000</td>\n      <td>1743.333333</td>\n    </tr>\n    <tr>\n      <th>133</th>\n      <td>2017</td>\n      <td>35</td>\n      <td>247</td>\n      <td>48700.000000</td>\n      <td>49300.000000</td>\n      <td>48900.000000</td>\n    </tr>\n    <tr>\n      <th>134</th>\n      <td>2017</td>\n      <td>35</td>\n      <td>252</td>\n      <td>24037.500000</td>\n      <td>29062.500000</td>\n      <td>26237.500000</td>\n    </tr>\n    <tr>\n      <th>135</th>\n      <td>2017</td>\n      <td>35</td>\n      <td>253</td>\n      <td>23000.000000</td>\n      <td>27100.000000</td>\n      <td>24566.666667</td>\n    </tr>\n    <tr>\n      <th>136</th>\n      <td>2017</td>\n      <td>35</td>\n      <td>255</td>\n      <td>22900.000000</td>\n      <td>27900.000000</td>\n      <td>24600.000000</td>\n    </tr>\n    <tr>\n      <th>137</th>\n      <td>2017</td>\n      <td>35</td>\n      <td>256</td>\n      <td>18300.000000</td>\n      <td>22500.000000</td>\n      <td>20666.666667</td>\n    </tr>\n    <tr>\n      <th>138</th>\n      <td>2017</td>\n      <td>35</td>\n      <td>257</td>\n      <td>21400.000000</td>\n      <td>21700.000000</td>\n      <td>21516.666667</td>\n    </tr>\n    <tr>\n      <th>139</th>\n      <td>2017</td>\n      <td>35</td>\n      <td>258</td>\n      <td>123800.000000</td>\n      <td>123800.000000</td>\n      <td>123800.000000</td>\n    </tr>\n    <tr>\n      <th>140</th>\n      <td>2017</td>\n      <td>35</td>\n      <td>422</td>\n      <td>13800.000000</td>\n      <td>15700.000000</td>\n      <td>14366.666667</td>\n    </tr>\n    <tr>\n      <th>141</th>\n      <td>2017</td>\n      <td>35</td>\n      <td>312</td>\n      <td>310800.000000</td>\n      <td>310800.000000</td>\n      <td>310800.000000</td>\n    </tr>\n    <tr>\n      <th>142</th>\n      <td>2017</td>\n      <td>35</td>\n      <td>313</td>\n      <td>169333.333333</td>\n      <td>169333.333333</td>\n      <td>169333.333333</td>\n    </tr>\n    <tr>\n      <th>143</th>\n      <td>2017</td>\n      <td>35</td>\n      <td>314</td>\n      <td>230500.000000</td>\n      <td>240900.000000</td>\n      <td>232233.333333</td>\n    </tr>\n    <tr>\n      <th>144</th>\n      <td>2017</td>\n      <td>35</td>\n      <td>315</td>\n      <td>12600.000000</td>\n      <td>13200.000000</td>\n      <td>12933.333333</td>\n    </tr>\n    <tr>\n      <th>145</th>\n      <td>2017</td>\n      <td>35</td>\n      <td>316</td>\n      <td>8400.000000</td>\n      <td>9000.000000</td>\n      <td>8766.666667</td>\n    </tr>\n    <tr>\n      <th>146</th>\n      <td>2017</td>\n      <td>35</td>\n      <td>317</td>\n      <td>7700.000000</td>\n      <td>7900.000000</td>\n      <td>7766.666667</td>\n    </tr>\n    <tr>\n      <th>147</th>\n      <td>2017</td>\n      <td>35</td>\n      <td>411</td>\n      <td>31300.000000</td>\n      <td>31500.000000</td>\n      <td>31400.000000</td>\n    </tr>\n    <tr>\n      <th>148</th>\n      <td>2017</td>\n      <td>35</td>\n      <td>412</td>\n      <td>31000.000000</td>\n      <td>31000.000000</td>\n      <td>31000.000000</td>\n    </tr>\n    <tr>\n      <th>149</th>\n      <td>2017</td>\n      <td>35</td>\n      <td>414</td>\n      <td>32700.000000</td>\n      <td>32700.000000</td>\n      <td>32700.000000</td>\n    </tr>\n    <tr>\n      <th>150</th>\n      <td>2017</td>\n      <td>35</td>\n      <td>415</td>\n      <td>18400.000000</td>\n      <td>19000.000000</td>\n      <td>18733.333333</td>\n    </tr>\n    <tr>\n      <th>151</th>\n      <td>2017</td>\n      <td>35</td>\n      <td>416</td>\n      <td>28100.000000</td>\n      <td>28300.000000</td>\n      <td>28233.333333</td>\n    </tr>\n    <tr>\n      <th>152</th>\n      <td>2017</td>\n      <td>35</td>\n      <td>418</td>\n      <td>21000.000000</td>\n      <td>21000.000000</td>\n      <td>21000.000000</td>\n    </tr>\n    <tr>\n      <th>153</th>\n      <td>2017</td>\n      <td>35</td>\n      <td>419</td>\n      <td>30000.000000</td>\n      <td>30200.000000</td>\n      <td>30033.333333</td>\n    </tr>\n    <tr>\n      <th>154</th>\n      <td>2017</td>\n      <td>35</td>\n      <td>420</td>\n      <td>24200.000000</td>\n      <td>24200.000000</td>\n      <td>24200.000000</td>\n    </tr>\n    <tr>\n      <th>155</th>\n      <td>2017</td>\n      <td>35</td>\n      <td>421</td>\n      <td>54100.000000</td>\n      <td>54100.000000</td>\n      <td>54100.000000</td>\n    </tr>\n    <tr>\n      <th>156</th>\n      <td>2017</td>\n      <td>35</td>\n      <td>424</td>\n      <td>63600.000000</td>\n      <td>63600.000000</td>\n      <td>63600.000000</td>\n    </tr>\n    <tr>\n      <th>157</th>\n      <td>2017</td>\n      <td>35</td>\n      <td>428</td>\n      <td>44000.000000</td>\n      <td>44000.000000</td>\n      <td>44000.000000</td>\n    </tr>\n  </tbody>\n</table>\n</div>"
     },
     "execution_count": 154,
     "metadata": {},
     "output_type": "execute_result"
    }
   ],
   "source": [
    "product_cost_2017"
   ],
   "metadata": {
    "collapsed": false,
    "ExecuteTime": {
     "end_time": "2024-03-21T18:30:36.275938Z",
     "start_time": "2024-03-21T18:30:36.269910Z"
    }
   },
   "id": "b6972f1dec4c11af",
   "execution_count": 154
  },
  {
   "cell_type": "code",
   "outputs": [],
   "source": [
    "product_cost_list = pd.concat(\n",
    "    [product_cost_2017, product_cost_2018, product_cost_2019, product_cost_2020, product_cost_2021,\n",
    "     product_cost_2022, product_cost_2023], axis=0, ignore_index=True)"
   ],
   "metadata": {
    "collapsed": false,
    "ExecuteTime": {
     "end_time": "2024-03-21T18:31:38.579872Z",
     "start_time": "2024-03-21T18:31:38.575845Z"
    }
   },
   "id": "133ba197c6e8a8b",
   "execution_count": 157
  },
  {
   "cell_type": "code",
   "outputs": [
    {
     "data": {
      "text/plain": "       YEAR  COUNT_PER_TEN_DAYS PRODUCT_CODE  MIN_PRODUCT_COST  \\\n0      2017                  35          111           38100.0   \n1      2017                  35          112           97400.0   \n2      2017                  35          141          158476.0   \n3      2017                  35          142          272800.0   \n4      2017                  35          143          342800.0   \n...     ...                 ...          ...               ...   \n11106  2023                  35          418           25410.0   \n11107  2023                  35          420           30210.0   \n11108  2023                  35          424           67580.0   \n11109  2023                  35          425          108066.5   \n11110  2023                  35          428           42970.0   \n\n       MAX_PRODUCT_COST  AVG_PRODUCT_COST  \n0               38300.0      38200.000000  \n1               97400.0      97400.000000  \n2              158476.0     158476.000000  \n3              272800.0     272800.000000  \n4              342800.0     342800.000000  \n...                 ...               ...  \n11106           25410.0      25410.000000  \n11107           31110.0      30590.000000  \n11108           69350.0      67875.000000  \n11109          109766.5     108883.166667  \n11110           47050.0      44720.000000  \n\n[11111 rows x 6 columns]",
      "text/html": "<div>\n<style scoped>\n    .dataframe tbody tr th:only-of-type {\n        vertical-align: middle;\n    }\n\n    .dataframe tbody tr th {\n        vertical-align: top;\n    }\n\n    .dataframe thead th {\n        text-align: right;\n    }\n</style>\n<table border=\"1\" class=\"dataframe\">\n  <thead>\n    <tr style=\"text-align: right;\">\n      <th></th>\n      <th>YEAR</th>\n      <th>COUNT_PER_TEN_DAYS</th>\n      <th>PRODUCT_CODE</th>\n      <th>MIN_PRODUCT_COST</th>\n      <th>MAX_PRODUCT_COST</th>\n      <th>AVG_PRODUCT_COST</th>\n    </tr>\n  </thead>\n  <tbody>\n    <tr>\n      <th>0</th>\n      <td>2017</td>\n      <td>35</td>\n      <td>111</td>\n      <td>38100.0</td>\n      <td>38300.0</td>\n      <td>38200.000000</td>\n    </tr>\n    <tr>\n      <th>1</th>\n      <td>2017</td>\n      <td>35</td>\n      <td>112</td>\n      <td>97400.0</td>\n      <td>97400.0</td>\n      <td>97400.000000</td>\n    </tr>\n    <tr>\n      <th>2</th>\n      <td>2017</td>\n      <td>35</td>\n      <td>141</td>\n      <td>158476.0</td>\n      <td>158476.0</td>\n      <td>158476.000000</td>\n    </tr>\n    <tr>\n      <th>3</th>\n      <td>2017</td>\n      <td>35</td>\n      <td>142</td>\n      <td>272800.0</td>\n      <td>272800.0</td>\n      <td>272800.000000</td>\n    </tr>\n    <tr>\n      <th>4</th>\n      <td>2017</td>\n      <td>35</td>\n      <td>143</td>\n      <td>342800.0</td>\n      <td>342800.0</td>\n      <td>342800.000000</td>\n    </tr>\n    <tr>\n      <th>...</th>\n      <td>...</td>\n      <td>...</td>\n      <td>...</td>\n      <td>...</td>\n      <td>...</td>\n      <td>...</td>\n    </tr>\n    <tr>\n      <th>11106</th>\n      <td>2023</td>\n      <td>35</td>\n      <td>418</td>\n      <td>25410.0</td>\n      <td>25410.0</td>\n      <td>25410.000000</td>\n    </tr>\n    <tr>\n      <th>11107</th>\n      <td>2023</td>\n      <td>35</td>\n      <td>420</td>\n      <td>30210.0</td>\n      <td>31110.0</td>\n      <td>30590.000000</td>\n    </tr>\n    <tr>\n      <th>11108</th>\n      <td>2023</td>\n      <td>35</td>\n      <td>424</td>\n      <td>67580.0</td>\n      <td>69350.0</td>\n      <td>67875.000000</td>\n    </tr>\n    <tr>\n      <th>11109</th>\n      <td>2023</td>\n      <td>35</td>\n      <td>425</td>\n      <td>108066.5</td>\n      <td>109766.5</td>\n      <td>108883.166667</td>\n    </tr>\n    <tr>\n      <th>11110</th>\n      <td>2023</td>\n      <td>35</td>\n      <td>428</td>\n      <td>42970.0</td>\n      <td>47050.0</td>\n      <td>44720.000000</td>\n    </tr>\n  </tbody>\n</table>\n<p>11111 rows × 6 columns</p>\n</div>"
     },
     "execution_count": 158,
     "metadata": {},
     "output_type": "execute_result"
    }
   ],
   "source": [
    "product_cost_list"
   ],
   "metadata": {
    "collapsed": false,
    "ExecuteTime": {
     "end_time": "2024-03-21T18:31:39.216457Z",
     "start_time": "2024-03-21T18:31:39.209350Z"
    }
   },
   "id": "30110593f92e7fee",
   "execution_count": 158
  },
  {
   "cell_type": "code",
   "outputs": [
    {
     "data": {
      "text/plain": "52"
     },
     "execution_count": 167,
     "metadata": {},
     "output_type": "execute_result"
    }
   ],
   "source": [
    "start_index = product_cost_list.loc[product_cost_list['YEAR'] == 2018].index[0]"
   ],
   "metadata": {
    "collapsed": false,
    "ExecuteTime": {
     "end_time": "2024-03-21T18:38:08.845518Z",
     "start_time": "2024-03-21T18:38:08.842535Z"
    }
   },
   "id": "370cf1c94bcd52c1",
   "execution_count": 167
  },
  {
   "cell_type": "code",
   "outputs": [],
   "source": [
    "def make_cost_fluctuation_df(data: pd.DataFrame, start_index: int) -> pd.DataFrame:\n",
    "    result = {}\n",
    "\n",
    "    product_code_list = data['PRODUCT_CODE'].unique()\n",
    "\n",
    "    for product_code in product_code_list:\n",
    "        fluctuation = pd.DataFrame(\n",
    "            columns=['YEAR', 'COUNT_PER_TEN_DAYS', 'PRODUCT_CODE', 'MIN_PRODUCT_COST',\n",
    "                     'MAX_PRODUCT_COST', 'AVG_PRODUCT_COST', 'PRODUCT_MIN_RATE', 'PRODUCT_MAX_RATE']\n",
    "        ).astype({\n",
    "            'YEAR': 'int',\n",
    "            'COUNT_PER_TEN_DAYS': 'int',\n",
    "            'PRODUCT_CODE': 'str',\n",
    "            'MIN_PRODUCT_COST': 'float',\n",
    "            'MAX_PRODUCT_COST': 'float',\n",
    "            'AVG_PRODUCT_COST': 'float',\n",
    "            'PRODUCT_MIN_RATE': 'float',\n",
    "            'PRODUCT_MAX_RATE': 'float'\n",
    "        })\n",
    "        \n",
    "        product_data = data.loc[data['PRODUCT_CODE'] == product_code, :]\n",
    "        \n",
    "\n",
    "    for index in range(start_index, len(data)):\n",
    "        prev ="
   ],
   "metadata": {
    "collapsed": false
   },
   "id": "e9a23877638f0d8b"
  },
  {
   "cell_type": "code",
   "outputs": [],
   "source": [
    "result = {}\n",
    "data = product_cost_list\n",
    "product_code_list = data['PRODUCT_CODE'].unique()\n",
    "\n",
    "for product_code in product_code_list:\n",
    "    result[product_code] = [{} for _ in range(36)]\n",
    "    product_data = data.loc[data['PRODUCT_CODE'] == product_code, :]\n",
    "    for index, row in product_data.iterrows():\n",
    "        "
   ],
   "metadata": {
    "collapsed": false
   },
   "id": "63bf03952a53615a"
  },
  {
   "cell_type": "code",
   "outputs": [
    {
     "data": {
      "text/plain": "52"
     },
     "execution_count": 175,
     "metadata": {},
     "output_type": "execute_result"
    }
   ],
   "source": [
    "len(product_cost_2017)"
   ],
   "metadata": {
    "collapsed": false,
    "ExecuteTime": {
     "end_time": "2024-03-21T19:27:15.547646Z",
     "start_time": "2024-03-21T19:27:15.545561Z"
    }
   },
   "id": "6dc546cdab6afbe7",
   "execution_count": 175
  },
  {
   "cell_type": "code",
   "outputs": [],
   "source": [
    "product_code_list = product_cost_list['PRODUCT_CODE'].unique().tolist()"
   ],
   "metadata": {
    "collapsed": false,
    "ExecuteTime": {
     "end_time": "2024-03-21T19:30:40.908575Z",
     "start_time": "2024-03-21T19:30:40.902614Z"
    }
   },
   "id": "3170521872e01f19",
   "execution_count": 179
  },
  {
   "cell_type": "code",
   "outputs": [],
   "source": [
    "selected_basic_product_info = basic_product_info[basic_product_info['PRODUCT_CODE'].isin(product_code_list)]"
   ],
   "metadata": {
    "collapsed": false,
    "ExecuteTime": {
     "end_time": "2024-03-21T19:58:25.085129Z",
     "start_time": "2024-03-21T19:58:25.082145Z"
    }
   },
   "id": "df136b46fba52f48",
   "execution_count": 193
  },
  {
   "cell_type": "code",
   "outputs": [
    {
     "data": {
      "text/plain": "    PRODUCT_CODE PRODUCT_NAME M_DISTCTNS  PRDCTN__ERA\n0            111            쌀       FALL         1536\n1            112           찹쌀       FALL         1536\n2            141            콩        ALL            0\n3            142            팥       FALL         1536\n4            143           녹두       FALL         1536\n5            144           메밀       FALL         3072\n6            151          고구마       FALL         1536\n7            152           감자     SUMMER         1984\n8            211           배추       FALL         6144\n9            212          양배추     SPRING          224\n10           279        알배기배추        ALL            0\n11           280         브로콜리     WINTER         7680\n12           213          시금치     WINTER            0\n13           214           상추     SPRING          480\n14           215        얼갈이배추       FALL         6144\n15           221           수박     SUMMER          448\n16           222           참외     SUMMER          448\n17           223           오이     SPRING          480\n18           224           호박        ALL            0\n19           225          토마토     SUMMER          896\n20           226           딸기     WINTER           62\n21           231            무       FALL         3072\n22           232           당근     WINTER         7168\n23           233           열무     SUMMER           96\n24           241          건고추        ALL            0\n25           242          풋고추        ALL            0\n26           243         붉은고추        ALL            0\n27           244          피마늘        ALL            0\n28           258      깐마늘(국산)        ALL            0\n29           245           양파     SUMMER          240\n30           246            파        ALL            0\n31           247           생강       FALL         3840\n32           252          미나리     SPRING           24\n33           253           깻잎     SUMMER         8190\n34           255           피망     SPRING         8176\n35           256         파프리카       FALL         4064\n36           257           멜론     SUMMER         1920\n37           422        방울토마토     SUMMER          960\n38           312           참깨       FALL            0\n39           313           들깨       FALL            0\n40           314           땅콩       FALL         3072\n41           315        느타리버섯       FALL         8190\n42           316         팽이버섯     WINTER         8190\n43           317        새송이버섯       FALL         8190\n44           411           사과       FALL         3968\n45           412            배       FALL         1792\n46           413          복숭아     SUMMER          448\n47           414           포도     SUMMER         1792\n48           415           감귤     WINTER            0\n49           416           단감        ALL            0\n50           418          바나나        ALL            0\n51           419          참다래        ALL            0\n52           420         파인애플     SPRING         1016\n53           421          오렌지        ALL            0\n54           424           레몬     WINTER            0\n55           425           체리     SUMMER           96\n56           428           망고        ALL            0",
      "text/html": "<div>\n<style scoped>\n    .dataframe tbody tr th:only-of-type {\n        vertical-align: middle;\n    }\n\n    .dataframe tbody tr th {\n        vertical-align: top;\n    }\n\n    .dataframe thead th {\n        text-align: right;\n    }\n</style>\n<table border=\"1\" class=\"dataframe\">\n  <thead>\n    <tr style=\"text-align: right;\">\n      <th></th>\n      <th>PRODUCT_CODE</th>\n      <th>PRODUCT_NAME</th>\n      <th>M_DISTCTNS</th>\n      <th>PRDCTN__ERA</th>\n    </tr>\n  </thead>\n  <tbody>\n    <tr>\n      <th>0</th>\n      <td>111</td>\n      <td>쌀</td>\n      <td>FALL</td>\n      <td>1536</td>\n    </tr>\n    <tr>\n      <th>1</th>\n      <td>112</td>\n      <td>찹쌀</td>\n      <td>FALL</td>\n      <td>1536</td>\n    </tr>\n    <tr>\n      <th>2</th>\n      <td>141</td>\n      <td>콩</td>\n      <td>ALL</td>\n      <td>0</td>\n    </tr>\n    <tr>\n      <th>3</th>\n      <td>142</td>\n      <td>팥</td>\n      <td>FALL</td>\n      <td>1536</td>\n    </tr>\n    <tr>\n      <th>4</th>\n      <td>143</td>\n      <td>녹두</td>\n      <td>FALL</td>\n      <td>1536</td>\n    </tr>\n    <tr>\n      <th>5</th>\n      <td>144</td>\n      <td>메밀</td>\n      <td>FALL</td>\n      <td>3072</td>\n    </tr>\n    <tr>\n      <th>6</th>\n      <td>151</td>\n      <td>고구마</td>\n      <td>FALL</td>\n      <td>1536</td>\n    </tr>\n    <tr>\n      <th>7</th>\n      <td>152</td>\n      <td>감자</td>\n      <td>SUMMER</td>\n      <td>1984</td>\n    </tr>\n    <tr>\n      <th>8</th>\n      <td>211</td>\n      <td>배추</td>\n      <td>FALL</td>\n      <td>6144</td>\n    </tr>\n    <tr>\n      <th>9</th>\n      <td>212</td>\n      <td>양배추</td>\n      <td>SPRING</td>\n      <td>224</td>\n    </tr>\n    <tr>\n      <th>10</th>\n      <td>279</td>\n      <td>알배기배추</td>\n      <td>ALL</td>\n      <td>0</td>\n    </tr>\n    <tr>\n      <th>11</th>\n      <td>280</td>\n      <td>브로콜리</td>\n      <td>WINTER</td>\n      <td>7680</td>\n    </tr>\n    <tr>\n      <th>12</th>\n      <td>213</td>\n      <td>시금치</td>\n      <td>WINTER</td>\n      <td>0</td>\n    </tr>\n    <tr>\n      <th>13</th>\n      <td>214</td>\n      <td>상추</td>\n      <td>SPRING</td>\n      <td>480</td>\n    </tr>\n    <tr>\n      <th>14</th>\n      <td>215</td>\n      <td>얼갈이배추</td>\n      <td>FALL</td>\n      <td>6144</td>\n    </tr>\n    <tr>\n      <th>15</th>\n      <td>221</td>\n      <td>수박</td>\n      <td>SUMMER</td>\n      <td>448</td>\n    </tr>\n    <tr>\n      <th>16</th>\n      <td>222</td>\n      <td>참외</td>\n      <td>SUMMER</td>\n      <td>448</td>\n    </tr>\n    <tr>\n      <th>17</th>\n      <td>223</td>\n      <td>오이</td>\n      <td>SPRING</td>\n      <td>480</td>\n    </tr>\n    <tr>\n      <th>18</th>\n      <td>224</td>\n      <td>호박</td>\n      <td>ALL</td>\n      <td>0</td>\n    </tr>\n    <tr>\n      <th>19</th>\n      <td>225</td>\n      <td>토마토</td>\n      <td>SUMMER</td>\n      <td>896</td>\n    </tr>\n    <tr>\n      <th>20</th>\n      <td>226</td>\n      <td>딸기</td>\n      <td>WINTER</td>\n      <td>62</td>\n    </tr>\n    <tr>\n      <th>21</th>\n      <td>231</td>\n      <td>무</td>\n      <td>FALL</td>\n      <td>3072</td>\n    </tr>\n    <tr>\n      <th>22</th>\n      <td>232</td>\n      <td>당근</td>\n      <td>WINTER</td>\n      <td>7168</td>\n    </tr>\n    <tr>\n      <th>23</th>\n      <td>233</td>\n      <td>열무</td>\n      <td>SUMMER</td>\n      <td>96</td>\n    </tr>\n    <tr>\n      <th>24</th>\n      <td>241</td>\n      <td>건고추</td>\n      <td>ALL</td>\n      <td>0</td>\n    </tr>\n    <tr>\n      <th>25</th>\n      <td>242</td>\n      <td>풋고추</td>\n      <td>ALL</td>\n      <td>0</td>\n    </tr>\n    <tr>\n      <th>26</th>\n      <td>243</td>\n      <td>붉은고추</td>\n      <td>ALL</td>\n      <td>0</td>\n    </tr>\n    <tr>\n      <th>27</th>\n      <td>244</td>\n      <td>피마늘</td>\n      <td>ALL</td>\n      <td>0</td>\n    </tr>\n    <tr>\n      <th>28</th>\n      <td>258</td>\n      <td>깐마늘(국산)</td>\n      <td>ALL</td>\n      <td>0</td>\n    </tr>\n    <tr>\n      <th>29</th>\n      <td>245</td>\n      <td>양파</td>\n      <td>SUMMER</td>\n      <td>240</td>\n    </tr>\n    <tr>\n      <th>30</th>\n      <td>246</td>\n      <td>파</td>\n      <td>ALL</td>\n      <td>0</td>\n    </tr>\n    <tr>\n      <th>31</th>\n      <td>247</td>\n      <td>생강</td>\n      <td>FALL</td>\n      <td>3840</td>\n    </tr>\n    <tr>\n      <th>32</th>\n      <td>252</td>\n      <td>미나리</td>\n      <td>SPRING</td>\n      <td>24</td>\n    </tr>\n    <tr>\n      <th>33</th>\n      <td>253</td>\n      <td>깻잎</td>\n      <td>SUMMER</td>\n      <td>8190</td>\n    </tr>\n    <tr>\n      <th>34</th>\n      <td>255</td>\n      <td>피망</td>\n      <td>SPRING</td>\n      <td>8176</td>\n    </tr>\n    <tr>\n      <th>35</th>\n      <td>256</td>\n      <td>파프리카</td>\n      <td>FALL</td>\n      <td>4064</td>\n    </tr>\n    <tr>\n      <th>36</th>\n      <td>257</td>\n      <td>멜론</td>\n      <td>SUMMER</td>\n      <td>1920</td>\n    </tr>\n    <tr>\n      <th>37</th>\n      <td>422</td>\n      <td>방울토마토</td>\n      <td>SUMMER</td>\n      <td>960</td>\n    </tr>\n    <tr>\n      <th>38</th>\n      <td>312</td>\n      <td>참깨</td>\n      <td>FALL</td>\n      <td>0</td>\n    </tr>\n    <tr>\n      <th>39</th>\n      <td>313</td>\n      <td>들깨</td>\n      <td>FALL</td>\n      <td>0</td>\n    </tr>\n    <tr>\n      <th>40</th>\n      <td>314</td>\n      <td>땅콩</td>\n      <td>FALL</td>\n      <td>3072</td>\n    </tr>\n    <tr>\n      <th>41</th>\n      <td>315</td>\n      <td>느타리버섯</td>\n      <td>FALL</td>\n      <td>8190</td>\n    </tr>\n    <tr>\n      <th>42</th>\n      <td>316</td>\n      <td>팽이버섯</td>\n      <td>WINTER</td>\n      <td>8190</td>\n    </tr>\n    <tr>\n      <th>43</th>\n      <td>317</td>\n      <td>새송이버섯</td>\n      <td>FALL</td>\n      <td>8190</td>\n    </tr>\n    <tr>\n      <th>44</th>\n      <td>411</td>\n      <td>사과</td>\n      <td>FALL</td>\n      <td>3968</td>\n    </tr>\n    <tr>\n      <th>45</th>\n      <td>412</td>\n      <td>배</td>\n      <td>FALL</td>\n      <td>1792</td>\n    </tr>\n    <tr>\n      <th>46</th>\n      <td>413</td>\n      <td>복숭아</td>\n      <td>SUMMER</td>\n      <td>448</td>\n    </tr>\n    <tr>\n      <th>47</th>\n      <td>414</td>\n      <td>포도</td>\n      <td>SUMMER</td>\n      <td>1792</td>\n    </tr>\n    <tr>\n      <th>48</th>\n      <td>415</td>\n      <td>감귤</td>\n      <td>WINTER</td>\n      <td>0</td>\n    </tr>\n    <tr>\n      <th>49</th>\n      <td>416</td>\n      <td>단감</td>\n      <td>ALL</td>\n      <td>0</td>\n    </tr>\n    <tr>\n      <th>50</th>\n      <td>418</td>\n      <td>바나나</td>\n      <td>ALL</td>\n      <td>0</td>\n    </tr>\n    <tr>\n      <th>51</th>\n      <td>419</td>\n      <td>참다래</td>\n      <td>ALL</td>\n      <td>0</td>\n    </tr>\n    <tr>\n      <th>52</th>\n      <td>420</td>\n      <td>파인애플</td>\n      <td>SPRING</td>\n      <td>1016</td>\n    </tr>\n    <tr>\n      <th>53</th>\n      <td>421</td>\n      <td>오렌지</td>\n      <td>ALL</td>\n      <td>0</td>\n    </tr>\n    <tr>\n      <th>54</th>\n      <td>424</td>\n      <td>레몬</td>\n      <td>WINTER</td>\n      <td>0</td>\n    </tr>\n    <tr>\n      <th>55</th>\n      <td>425</td>\n      <td>체리</td>\n      <td>SUMMER</td>\n      <td>96</td>\n    </tr>\n    <tr>\n      <th>56</th>\n      <td>428</td>\n      <td>망고</td>\n      <td>ALL</td>\n      <td>0</td>\n    </tr>\n  </tbody>\n</table>\n</div>"
     },
     "execution_count": 209,
     "metadata": {},
     "output_type": "execute_result"
    }
   ],
   "source": [
    "selected_basic_product_info.reset_index(drop=True)"
   ],
   "metadata": {
    "collapsed": false,
    "ExecuteTime": {
     "end_time": "2024-03-21T20:05:33.357523Z",
     "start_time": "2024-03-21T20:05:33.350659Z"
    }
   },
   "id": "9b068adab6ba00b8",
   "execution_count": 209
  },
  {
   "cell_type": "code",
   "outputs": [],
   "source": [
    "selected_basic_product_info.to_csv('data/selected_basic_product_info.csv', encoding='utf-8')"
   ],
   "metadata": {
    "collapsed": false,
    "ExecuteTime": {
     "end_time": "2024-03-21T19:38:46.281921Z",
     "start_time": "2024-03-21T19:38:46.272139Z"
    }
   },
   "id": "956cb96c7f660182",
   "execution_count": 185
  },
  {
   "cell_type": "code",
   "outputs": [],
   "source": [
    "fluctuation = pd.DataFrame(\n",
    "        columns=['YEAR', 'COUNT_PER_TEN_DAYS', 'PRODUCT_CODE', 'MIN_PRODUCT_COST',\n",
    "                 'MAX_PRODUCT_COST', 'AVG_PRODUCT_COST', 'PRODUCT_MIN_RATE', 'PRODUCT_MAX_RATE']\n",
    "    ).astype({\n",
    "        'YEAR': 'int',\n",
    "        'COUNT_PER_TEN_DAYS': 'int',\n",
    "        'PRODUCT_CODE': 'str',\n",
    "        'MIN_PRODUCT_COST': 'float',\n",
    "        'MAX_PRODUCT_COST': 'float',\n",
    "        'AVG_PRODUCT_COST': 'float',\n",
    "        'PRODUCT_MIN_RATE': 'float',\n",
    "        'PRODUCT_MAX_RATE': 'float'\n",
    "    })"
   ],
   "metadata": {
    "collapsed": false
   },
   "id": "5fff581a8107aa3e"
  }
 ],
 "metadata": {
  "kernelspec": {
   "display_name": "Python 3",
   "language": "python",
   "name": "python3"
  },
  "language_info": {
   "codemirror_mode": {
    "name": "ipython",
    "version": 2
   },
   "file_extension": ".py",
   "mimetype": "text/x-python",
   "name": "python",
   "nbconvert_exporter": "python",
   "pygments_lexer": "ipython2",
   "version": "2.7.6"
  }
 },
 "nbformat": 4,
 "nbformat_minor": 5
}
