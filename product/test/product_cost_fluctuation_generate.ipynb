{
 "cells": [
  {
   "cell_type": "code",
   "execution_count": 2,
   "id": "initial_id",
   "metadata": {
    "collapsed": true,
    "ExecuteTime": {
     "end_time": "2024-03-22T00:08:45.452524900Z",
     "start_time": "2024-03-22T00:08:45.444293900Z"
    }
   },
   "outputs": [],
   "source": [
    "import os\n",
    "\n",
    "import requests\n",
    "import json\n",
    "import pandas as pd\n",
    "import numpy as np\n",
    "import aiohttp\n",
    "import asyncio\n",
    "from dotenv import load_dotenv\n",
    "\n",
    "load_dotenv()\n",
    "CATEGORY_CODES = ['100', '200', '300', '400']"
   ]
  },
  {
   "cell_type": "code",
   "outputs": [],
   "source": [
    "product_cost_2017 = pd.read_csv('data/product_cost_2017.csv', encoding='utf-8')\n",
    "product_cost_2018 = pd.read_csv('data/product_cost_2018.csv', encoding='utf-8')\n",
    "product_cost_2019 = pd.read_csv('data/product_cost_2019.csv', encoding='utf-8')\n",
    "product_cost_2020 = pd.read_csv('data/product_cost_2020.csv', encoding='utf-8')\n",
    "product_cost_2021 = pd.read_csv('data/product_cost_2021.csv', encoding='utf-8')\n",
    "product_cost_2022 = pd.read_csv('data/product_cost_2022.csv', encoding='utf-8')\n",
    "product_cost_2023 = pd.read_csv('data/product_cost_2023.csv', encoding='utf-8')\n",
    "\n",
    "data = pd.concat(\n",
    "    [product_cost_2017, product_cost_2018, product_cost_2019, product_cost_2020, product_cost_2021,\n",
    "     product_cost_2022, product_cost_2023], axis=0, ignore_index=True)"
   ],
   "metadata": {
    "collapsed": false,
    "ExecuteTime": {
     "end_time": "2024-03-22T00:58:06.329204400Z",
     "start_time": "2024-03-22T00:58:06.309690600Z"
    }
   },
   "id": "d1bf8ff8017e99ba",
   "execution_count": 7
  },
  {
   "cell_type": "code",
   "outputs": [],
   "source": [
    "result = {}\n",
    "product_code_list = data['PRODUCT_CODE'].unique()\n",
    "\n",
    "for product_code in product_code_list:\n",
    "     result[product_code] = [{\n",
    "          'TOTAL_COUNT':0,\n",
    "          'TOTAL_MIN_COST': float('inf'),\n",
    "          'TOTAL_MAX_COST': 0,\n",
    "          'TOTAL_AVG_COST': 0,\n",
    "          'TOTAL_MIN_RATIO': 0,\n",
    "          'TOTAL_MAX_RATIO': 0\n",
    "     } for _ in range(36)]\n",
    "     \n",
    "     product_data = data.loc[data['PRODUCT_CODE'] == product_code, :]\n",
    "     for index, row in product_data.loc[1:].iterrows():\n",
    "          prev = product"
   ],
   "metadata": {
    "collapsed": false
   },
   "id": "c84cfbd12147092d"
  },
  {
   "cell_type": "code",
   "outputs": [],
   "source": [
    "fluctuation = pd.DataFrame(\n",
    "    columns=['YEAR', 'COUNT_PER_TEN_DAYS', 'PRODUCT_CODE', 'MIN_PRODUCT_COST',\n",
    "             'MAX_PRODUCT_COST', 'AVG_PRODUCT_COST', 'PRODUCT_MIN_RATE', 'PRODUCT_MAX_RATE']\n",
    ").astype({\n",
    "     'YEAR': 'int',\n",
    "     'COUNT_PER_TEN_DAYS': 'int',\n",
    "     'PRODUCT_CODE': 'str',\n",
    "     'MIN_PRODUCT_COST': 'float',\n",
    "     'MAX_PRODUCT_COST': 'float',\n",
    "     'AVG_PRODUCT_COST': 'float',\n",
    "     'PRODUCT_MIN_RATE': 'float',\n",
    "     'PRODUCT_MAX_RATE': 'float'\n",
    "})"
   ],
   "metadata": {
    "collapsed": false
   },
   "id": "934cd77b3fd08b49"
  }
 ],
 "metadata": {
  "kernelspec": {
   "display_name": "Python 3",
   "language": "python",
   "name": "python3"
  },
  "language_info": {
   "codemirror_mode": {
    "name": "ipython",
    "version": 2
   },
   "file_extension": ".py",
   "mimetype": "text/x-python",
   "name": "python",
   "nbconvert_exporter": "python",
   "pygments_lexer": "ipython2",
   "version": "2.7.6"
  }
 },
 "nbformat": 4,
 "nbformat_minor": 5
}
