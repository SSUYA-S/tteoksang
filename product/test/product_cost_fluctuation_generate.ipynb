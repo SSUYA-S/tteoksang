{
 "cells": [
  {
   "cell_type": "code",
   "execution_count": 19,
   "id": "initial_id",
   "metadata": {
    "collapsed": true,
    "ExecuteTime": {
     "end_time": "2024-03-22T04:33:00.525108400Z",
     "start_time": "2024-03-22T04:33:00.516635600Z"
    }
   },
   "outputs": [],
   "source": [
    "import pandas as pd\n",
    "import numpy as np\n",
    "from dotenv import load_dotenv\n",
    "\n",
    "load_dotenv()\n",
    "CATEGORY_CODES = ['100', '200', '300', '400']"
   ]
  },
  {
   "cell_type": "code",
   "outputs": [],
   "source": [
    "product_cost_2017 = pd.read_csv('data/product_cost_2017.csv', encoding='utf-8')\n",
    "product_cost_2018 = pd.read_csv('data/product_cost_2018.csv', encoding='utf-8')\n",
    "product_cost_2019 = pd.read_csv('data/product_cost_2019.csv', encoding='utf-8')\n",
    "product_cost_2020 = pd.read_csv('data/product_cost_2020.csv', encoding='utf-8')\n",
    "product_cost_2021 = pd.read_csv('data/product_cost_2021.csv', encoding='utf-8')\n",
    "product_cost_2022 = pd.read_csv('data/product_cost_2022.csv', encoding='utf-8')\n",
    "product_cost_2023 = pd.read_csv('data/product_cost_2023.csv', encoding='utf-8')\n",
    "\n",
    "data = pd.concat(\n",
    "    [product_cost_2017, product_cost_2018, product_cost_2019, product_cost_2020, product_cost_2021,\n",
    "     product_cost_2022, product_cost_2023], axis=0, ignore_index=True)"
   ],
   "metadata": {
    "collapsed": false,
    "ExecuteTime": {
     "end_time": "2024-03-22T06:43:40.447298100Z",
     "start_time": "2024-03-22T06:43:40.422276900Z"
    }
   },
   "id": "d1bf8ff8017e99ba",
   "execution_count": 42
  },
  {
   "cell_type": "code",
   "outputs": [],
   "source": [
    "result = {}\n",
    "fluctuation = pd.DataFrame(\n",
    "    columns=['COUNT_PER_TEN_DAYS', 'PRODUCT_CODE', 'MIN_PRODUCT_COST',\n",
    "             'MAX_PRODUCT_COST', 'AVG_PRODUCT_COST', 'MIN_FLUCTUATION_RATE', 'MAX_FLUCTUATION_RATE']\n",
    ").astype({\n",
    "    'COUNT_PER_TEN_DAYS': 'int',\n",
    "    'PRODUCT_CODE': 'str',\n",
    "    'MIN_PRODUCT_COST': 'float',\n",
    "    'MAX_PRODUCT_COST': 'float',\n",
    "    'AVG_PRODUCT_COST': 'float',\n",
    "    'MIN_FLUCTUATION_RATE': 'float',\n",
    "    'MAX_FLUCTUATION_RATE': 'float'\n",
    "})\n",
    "product_code_list = data['PRODUCT_CODE'].unique()\n",
    "\n",
    "for product_code in product_code_list:\n",
    "    result[product_code] = [{\n",
    "        'TOTAL_COUNT': 0,\n",
    "        'TOTAL_MIN_COST': float('inf'),\n",
    "        'TOTAL_MAX_COST': 0,\n",
    "        'TOTAL_AVG_COST': 0,\n",
    "        'TOTAL_MIN_RATIO': 0,\n",
    "        'TOTAL_MAX_RATIO': 0\n",
    "    } for _ in range(36)]\n",
    "\n",
    "    product_data = data.loc[data['PRODUCT_CODE'] == product_code, :].reset_index(drop=True)\n",
    "    for index, row in product_data.iloc[1:].iterrows():\n",
    "        prev_avg_cost = product_data.iloc[index]['AVG_PRODUCT_COST']\n",
    "        min_ratio = 1 + (row['MIN_PRODUCT_COST'] - prev_avg_cost) / prev_avg_cost\n",
    "        max_ratio = 1 + (row['MAX_PRODUCT_COST'] - prev_avg_cost) / prev_avg_cost\n",
    "        acc_result = result[product_code][int(row['COUNT_PER_TEN_DAYS'])]\n",
    "        acc_result['TOTAL_COUNT'] += 1\n",
    "        acc_result['TOTAL_MIN_COST'] = np.min([acc_result['TOTAL_MIN_COST'], row['MIN_PRODUCT_COST']])\n",
    "        acc_result['TOTAL_MAX_COST'] = np.max([acc_result['TOTAL_MAX_COST'], row['MAX_PRODUCT_COST']])\n",
    "        acc_result['TOTAL_AVG_COST'] += row['AVG_PRODUCT_COST']\n",
    "        acc_result['TOTAL_MIN_RATIO'] += min_ratio\n",
    "        acc_result['TOTAL_MAX_RATIO'] += max_ratio\n",
    "        \n",
    "    for index, info in enumerate(result[product_code]):\n",
    "        value = {\n",
    "            'COUNT_PER_TEN_DAYS': index,\n",
    "            'PRODUCT_CODE': product_code,\n",
    "            'MIN_PRODUCT_COST': 0,\n",
    "            'MAX_PRODUCT_COST': 0,\n",
    "            'AVG_PRODUCT_COST': 0,\n",
    "            'MIN_FLUCTUATION_RATE': 0,\n",
    "            'MAX_FLUCTUATION_RATE': 0\n",
    "        }\n",
    "        if info['TOTAL_COUNT'] != 0:\n",
    "            value['MIN_PRODUCT_COST'] = info['TOTAL_MIN_COST']\n",
    "            value['MAX_PRODUCT_COST'] = info['TOTAL_MAX_COST']\n",
    "            value['AVG_PRODUCT_COST'] = info['TOTAL_AVG_COST'] / info['TOTAL_COUNT']\n",
    "            value['MIN_FLUCTUATION_RATE'] = info['TOTAL_MIN_RATIO'] / info['TOTAL_COUNT']\n",
    "            value['MAX_FLUCTUATION_RATE'] = info['TOTAL_MAX_RATIO'] / info['TOTAL_COUNT']\n",
    "            \n",
    "        fluctuation = pd.concat([fluctuation, pd.DataFrame([value])], ignore_index=True)\n",
    "        \n",
    "        "
   ],
   "metadata": {
    "collapsed": false,
    "ExecuteTime": {
     "end_time": "2024-03-22T06:44:15.810528200Z",
     "start_time": "2024-03-22T06:44:14.301153800Z"
    }
   },
   "id": "c84cfbd12147092d",
   "execution_count": 44
  },
  {
   "cell_type": "code",
   "outputs": [
    {
     "data": {
      "text/plain": "      COUNT_PER_TEN_DAYS PRODUCT_CODE  MIN_PRODUCT_COST  MAX_PRODUCT_COST  \\\n0                      0          111           38300.0           55240.0   \n1                      1          111           38400.0           55750.0   \n2                      2          111           38700.0           56050.0   \n3                      3          111           40120.0           56220.0   \n4                      4          111           40800.0           56620.0   \n...                  ...          ...               ...               ...   \n2047                  31          280           24110.0           26100.0   \n2048                  32          280           19930.0           24100.0   \n2049                  33          280           20860.0           22840.0   \n2050                  34          280           20100.0           23240.0   \n2051                  35          280           19080.0           22510.0   \n\n      AVG_PRODUCT_COST  MIN_FLUCTUATION_RATE  MAX_FLUCTUATION_RATE  \n0         47586.190476              0.998526              1.000882  \n1         47557.440476              0.998788              1.001827  \n2         47788.214286              0.996377              1.003267  \n3         47938.757440              0.998356              1.002956  \n4         48026.527778              0.999378              1.001582  \n...                ...                   ...                   ...  \n2047      25436.666667              0.947844              1.026078  \n2048      22020.000000              0.905086              1.094460  \n2049      21898.000000              0.952598              1.043018  \n2050      21265.000000              0.945215              1.092876  \n2051      21201.666667              0.899929              1.061709  \n\n[2052 rows x 7 columns]",
      "text/html": "<div>\n<style scoped>\n    .dataframe tbody tr th:only-of-type {\n        vertical-align: middle;\n    }\n\n    .dataframe tbody tr th {\n        vertical-align: top;\n    }\n\n    .dataframe thead th {\n        text-align: right;\n    }\n</style>\n<table border=\"1\" class=\"dataframe\">\n  <thead>\n    <tr style=\"text-align: right;\">\n      <th></th>\n      <th>COUNT_PER_TEN_DAYS</th>\n      <th>PRODUCT_CODE</th>\n      <th>MIN_PRODUCT_COST</th>\n      <th>MAX_PRODUCT_COST</th>\n      <th>AVG_PRODUCT_COST</th>\n      <th>MIN_FLUCTUATION_RATE</th>\n      <th>MAX_FLUCTUATION_RATE</th>\n    </tr>\n  </thead>\n  <tbody>\n    <tr>\n      <th>0</th>\n      <td>0</td>\n      <td>111</td>\n      <td>38300.0</td>\n      <td>55240.0</td>\n      <td>47586.190476</td>\n      <td>0.998526</td>\n      <td>1.000882</td>\n    </tr>\n    <tr>\n      <th>1</th>\n      <td>1</td>\n      <td>111</td>\n      <td>38400.0</td>\n      <td>55750.0</td>\n      <td>47557.440476</td>\n      <td>0.998788</td>\n      <td>1.001827</td>\n    </tr>\n    <tr>\n      <th>2</th>\n      <td>2</td>\n      <td>111</td>\n      <td>38700.0</td>\n      <td>56050.0</td>\n      <td>47788.214286</td>\n      <td>0.996377</td>\n      <td>1.003267</td>\n    </tr>\n    <tr>\n      <th>3</th>\n      <td>3</td>\n      <td>111</td>\n      <td>40120.0</td>\n      <td>56220.0</td>\n      <td>47938.757440</td>\n      <td>0.998356</td>\n      <td>1.002956</td>\n    </tr>\n    <tr>\n      <th>4</th>\n      <td>4</td>\n      <td>111</td>\n      <td>40800.0</td>\n      <td>56620.0</td>\n      <td>48026.527778</td>\n      <td>0.999378</td>\n      <td>1.001582</td>\n    </tr>\n    <tr>\n      <th>...</th>\n      <td>...</td>\n      <td>...</td>\n      <td>...</td>\n      <td>...</td>\n      <td>...</td>\n      <td>...</td>\n      <td>...</td>\n    </tr>\n    <tr>\n      <th>2047</th>\n      <td>31</td>\n      <td>280</td>\n      <td>24110.0</td>\n      <td>26100.0</td>\n      <td>25436.666667</td>\n      <td>0.947844</td>\n      <td>1.026078</td>\n    </tr>\n    <tr>\n      <th>2048</th>\n      <td>32</td>\n      <td>280</td>\n      <td>19930.0</td>\n      <td>24100.0</td>\n      <td>22020.000000</td>\n      <td>0.905086</td>\n      <td>1.094460</td>\n    </tr>\n    <tr>\n      <th>2049</th>\n      <td>33</td>\n      <td>280</td>\n      <td>20860.0</td>\n      <td>22840.0</td>\n      <td>21898.000000</td>\n      <td>0.952598</td>\n      <td>1.043018</td>\n    </tr>\n    <tr>\n      <th>2050</th>\n      <td>34</td>\n      <td>280</td>\n      <td>20100.0</td>\n      <td>23240.0</td>\n      <td>21265.000000</td>\n      <td>0.945215</td>\n      <td>1.092876</td>\n    </tr>\n    <tr>\n      <th>2051</th>\n      <td>35</td>\n      <td>280</td>\n      <td>19080.0</td>\n      <td>22510.0</td>\n      <td>21201.666667</td>\n      <td>0.899929</td>\n      <td>1.061709</td>\n    </tr>\n  </tbody>\n</table>\n<p>2052 rows × 7 columns</p>\n</div>"
     },
     "execution_count": 45,
     "metadata": {},
     "output_type": "execute_result"
    }
   ],
   "source": [
    "fluctuation"
   ],
   "metadata": {
    "collapsed": false,
    "ExecuteTime": {
     "end_time": "2024-03-22T06:44:27.609019500Z",
     "start_time": "2024-03-22T06:44:27.589452500Z"
    }
   },
   "id": "15c9891c4730a83",
   "execution_count": 45
  },
  {
   "cell_type": "code",
   "outputs": [],
   "source": [
    "selected_basic_product_info = pd.read_csv(\"data/selected_basic_product_info.csv\", encoding='utf-8')"
   ],
   "metadata": {
    "collapsed": false,
    "ExecuteTime": {
     "end_time": "2024-03-22T07:39:58.873867300Z",
     "start_time": "2024-03-22T07:39:58.867308300Z"
    }
   },
   "id": "47dbb4830b38ae37",
   "execution_count": 54
  },
  {
   "cell_type": "code",
   "outputs": [],
   "source": [
    "selected_basic_product_info['M_DISTCTNS'] = ['ALL' for _ in range(len(selected_basic_product_info))]"
   ],
   "metadata": {
    "collapsed": false,
    "ExecuteTime": {
     "end_time": "2024-03-22T07:41:52.129018Z",
     "start_time": "2024-03-22T07:41:52.116069600Z"
    }
   },
   "id": "f5d943e7d261b725",
   "execution_count": 56
  },
  {
   "cell_type": "code",
   "outputs": [
    {
     "data": {
      "text/plain": "    PRODUCT_ID  PRODUCT_CODE PRODUCT_NAME M_DISTCTNS  PRDCTN__ERA\n0            0           111            쌀        ALL         1536\n1            1           112           찹쌀        ALL         1536\n2            2           141            콩        ALL            0\n3            3           142            팥        ALL         1536\n4            4           143           녹두        ALL         1536\n5            5           144           메밀        ALL         3072\n6            6           151          고구마        ALL         1536\n7            7           152           감자        ALL         1984\n8           14           211           배추        ALL         6144\n9           15           212          양배추        ALL          224\n10          16           279        알배기배추        ALL            0\n11          17           280         브로콜리        ALL         7680\n12          18           213          시금치        ALL            0\n13          19           214           상추        ALL          480\n14          20           215        얼갈이배추        ALL         6144\n15          22           221           수박        ALL          448\n16          23           222           참외        ALL          448\n17          24           223           오이        ALL          480\n18          25           224           호박        ALL            0\n19          26           225          토마토        ALL          896\n20          27           226           딸기        ALL           62\n21          28           231            무        ALL         3072\n22          29           232           당근        ALL         7168\n23          30           233           열무        ALL           96\n24          31           241          건고추        ALL            0\n25          32           242          풋고추        ALL            0\n26          33           243         붉은고추        ALL            0\n27          34           244          피마늘        ALL            0\n28          35           258      깐마늘(국산)        ALL            0\n29          37           245           양파        ALL          240\n30          38           246            파        ALL            0\n31          39           247           생강        ALL         3840\n32          42           252          미나리        ALL           24\n33          43           253           깻잎        ALL         8190\n34          45           255           피망        ALL         8176\n35          46           256         파프리카        ALL         4064\n36          47           257           멜론        ALL         1920\n37          53           422        방울토마토        ALL          960\n38          57           312           참깨        ALL            0\n39          58           313           들깨        ALL            0\n40          59           314           땅콩        ALL         3072\n41          60           315        느타리버섯        ALL         8190\n42          61           316         팽이버섯        ALL         8190\n43          62           317        새송이버섯        ALL         8190\n44          67           411           사과        ALL         3968\n45          68           412            배        ALL         1792\n46          69           413          복숭아        ALL          448\n47          70           414           포도        ALL         1792\n48          71           415           감귤        ALL            0\n49          72           416           단감        ALL            0\n50          73           418          바나나        ALL            0\n51          74           419          참다래        ALL            0\n52          75           420         파인애플        ALL         1016\n53          76           421          오렌지        ALL            0\n54          78           424           레몬        ALL            0\n55          79           425           체리        ALL           96\n56          82           428           망고        ALL            0",
      "text/html": "<div>\n<style scoped>\n    .dataframe tbody tr th:only-of-type {\n        vertical-align: middle;\n    }\n\n    .dataframe tbody tr th {\n        vertical-align: top;\n    }\n\n    .dataframe thead th {\n        text-align: right;\n    }\n</style>\n<table border=\"1\" class=\"dataframe\">\n  <thead>\n    <tr style=\"text-align: right;\">\n      <th></th>\n      <th>PRODUCT_ID</th>\n      <th>PRODUCT_CODE</th>\n      <th>PRODUCT_NAME</th>\n      <th>M_DISTCTNS</th>\n      <th>PRDCTN__ERA</th>\n    </tr>\n  </thead>\n  <tbody>\n    <tr>\n      <th>0</th>\n      <td>0</td>\n      <td>111</td>\n      <td>쌀</td>\n      <td>ALL</td>\n      <td>1536</td>\n    </tr>\n    <tr>\n      <th>1</th>\n      <td>1</td>\n      <td>112</td>\n      <td>찹쌀</td>\n      <td>ALL</td>\n      <td>1536</td>\n    </tr>\n    <tr>\n      <th>2</th>\n      <td>2</td>\n      <td>141</td>\n      <td>콩</td>\n      <td>ALL</td>\n      <td>0</td>\n    </tr>\n    <tr>\n      <th>3</th>\n      <td>3</td>\n      <td>142</td>\n      <td>팥</td>\n      <td>ALL</td>\n      <td>1536</td>\n    </tr>\n    <tr>\n      <th>4</th>\n      <td>4</td>\n      <td>143</td>\n      <td>녹두</td>\n      <td>ALL</td>\n      <td>1536</td>\n    </tr>\n    <tr>\n      <th>5</th>\n      <td>5</td>\n      <td>144</td>\n      <td>메밀</td>\n      <td>ALL</td>\n      <td>3072</td>\n    </tr>\n    <tr>\n      <th>6</th>\n      <td>6</td>\n      <td>151</td>\n      <td>고구마</td>\n      <td>ALL</td>\n      <td>1536</td>\n    </tr>\n    <tr>\n      <th>7</th>\n      <td>7</td>\n      <td>152</td>\n      <td>감자</td>\n      <td>ALL</td>\n      <td>1984</td>\n    </tr>\n    <tr>\n      <th>8</th>\n      <td>14</td>\n      <td>211</td>\n      <td>배추</td>\n      <td>ALL</td>\n      <td>6144</td>\n    </tr>\n    <tr>\n      <th>9</th>\n      <td>15</td>\n      <td>212</td>\n      <td>양배추</td>\n      <td>ALL</td>\n      <td>224</td>\n    </tr>\n    <tr>\n      <th>10</th>\n      <td>16</td>\n      <td>279</td>\n      <td>알배기배추</td>\n      <td>ALL</td>\n      <td>0</td>\n    </tr>\n    <tr>\n      <th>11</th>\n      <td>17</td>\n      <td>280</td>\n      <td>브로콜리</td>\n      <td>ALL</td>\n      <td>7680</td>\n    </tr>\n    <tr>\n      <th>12</th>\n      <td>18</td>\n      <td>213</td>\n      <td>시금치</td>\n      <td>ALL</td>\n      <td>0</td>\n    </tr>\n    <tr>\n      <th>13</th>\n      <td>19</td>\n      <td>214</td>\n      <td>상추</td>\n      <td>ALL</td>\n      <td>480</td>\n    </tr>\n    <tr>\n      <th>14</th>\n      <td>20</td>\n      <td>215</td>\n      <td>얼갈이배추</td>\n      <td>ALL</td>\n      <td>6144</td>\n    </tr>\n    <tr>\n      <th>15</th>\n      <td>22</td>\n      <td>221</td>\n      <td>수박</td>\n      <td>ALL</td>\n      <td>448</td>\n    </tr>\n    <tr>\n      <th>16</th>\n      <td>23</td>\n      <td>222</td>\n      <td>참외</td>\n      <td>ALL</td>\n      <td>448</td>\n    </tr>\n    <tr>\n      <th>17</th>\n      <td>24</td>\n      <td>223</td>\n      <td>오이</td>\n      <td>ALL</td>\n      <td>480</td>\n    </tr>\n    <tr>\n      <th>18</th>\n      <td>25</td>\n      <td>224</td>\n      <td>호박</td>\n      <td>ALL</td>\n      <td>0</td>\n    </tr>\n    <tr>\n      <th>19</th>\n      <td>26</td>\n      <td>225</td>\n      <td>토마토</td>\n      <td>ALL</td>\n      <td>896</td>\n    </tr>\n    <tr>\n      <th>20</th>\n      <td>27</td>\n      <td>226</td>\n      <td>딸기</td>\n      <td>ALL</td>\n      <td>62</td>\n    </tr>\n    <tr>\n      <th>21</th>\n      <td>28</td>\n      <td>231</td>\n      <td>무</td>\n      <td>ALL</td>\n      <td>3072</td>\n    </tr>\n    <tr>\n      <th>22</th>\n      <td>29</td>\n      <td>232</td>\n      <td>당근</td>\n      <td>ALL</td>\n      <td>7168</td>\n    </tr>\n    <tr>\n      <th>23</th>\n      <td>30</td>\n      <td>233</td>\n      <td>열무</td>\n      <td>ALL</td>\n      <td>96</td>\n    </tr>\n    <tr>\n      <th>24</th>\n      <td>31</td>\n      <td>241</td>\n      <td>건고추</td>\n      <td>ALL</td>\n      <td>0</td>\n    </tr>\n    <tr>\n      <th>25</th>\n      <td>32</td>\n      <td>242</td>\n      <td>풋고추</td>\n      <td>ALL</td>\n      <td>0</td>\n    </tr>\n    <tr>\n      <th>26</th>\n      <td>33</td>\n      <td>243</td>\n      <td>붉은고추</td>\n      <td>ALL</td>\n      <td>0</td>\n    </tr>\n    <tr>\n      <th>27</th>\n      <td>34</td>\n      <td>244</td>\n      <td>피마늘</td>\n      <td>ALL</td>\n      <td>0</td>\n    </tr>\n    <tr>\n      <th>28</th>\n      <td>35</td>\n      <td>258</td>\n      <td>깐마늘(국산)</td>\n      <td>ALL</td>\n      <td>0</td>\n    </tr>\n    <tr>\n      <th>29</th>\n      <td>37</td>\n      <td>245</td>\n      <td>양파</td>\n      <td>ALL</td>\n      <td>240</td>\n    </tr>\n    <tr>\n      <th>30</th>\n      <td>38</td>\n      <td>246</td>\n      <td>파</td>\n      <td>ALL</td>\n      <td>0</td>\n    </tr>\n    <tr>\n      <th>31</th>\n      <td>39</td>\n      <td>247</td>\n      <td>생강</td>\n      <td>ALL</td>\n      <td>3840</td>\n    </tr>\n    <tr>\n      <th>32</th>\n      <td>42</td>\n      <td>252</td>\n      <td>미나리</td>\n      <td>ALL</td>\n      <td>24</td>\n    </tr>\n    <tr>\n      <th>33</th>\n      <td>43</td>\n      <td>253</td>\n      <td>깻잎</td>\n      <td>ALL</td>\n      <td>8190</td>\n    </tr>\n    <tr>\n      <th>34</th>\n      <td>45</td>\n      <td>255</td>\n      <td>피망</td>\n      <td>ALL</td>\n      <td>8176</td>\n    </tr>\n    <tr>\n      <th>35</th>\n      <td>46</td>\n      <td>256</td>\n      <td>파프리카</td>\n      <td>ALL</td>\n      <td>4064</td>\n    </tr>\n    <tr>\n      <th>36</th>\n      <td>47</td>\n      <td>257</td>\n      <td>멜론</td>\n      <td>ALL</td>\n      <td>1920</td>\n    </tr>\n    <tr>\n      <th>37</th>\n      <td>53</td>\n      <td>422</td>\n      <td>방울토마토</td>\n      <td>ALL</td>\n      <td>960</td>\n    </tr>\n    <tr>\n      <th>38</th>\n      <td>57</td>\n      <td>312</td>\n      <td>참깨</td>\n      <td>ALL</td>\n      <td>0</td>\n    </tr>\n    <tr>\n      <th>39</th>\n      <td>58</td>\n      <td>313</td>\n      <td>들깨</td>\n      <td>ALL</td>\n      <td>0</td>\n    </tr>\n    <tr>\n      <th>40</th>\n      <td>59</td>\n      <td>314</td>\n      <td>땅콩</td>\n      <td>ALL</td>\n      <td>3072</td>\n    </tr>\n    <tr>\n      <th>41</th>\n      <td>60</td>\n      <td>315</td>\n      <td>느타리버섯</td>\n      <td>ALL</td>\n      <td>8190</td>\n    </tr>\n    <tr>\n      <th>42</th>\n      <td>61</td>\n      <td>316</td>\n      <td>팽이버섯</td>\n      <td>ALL</td>\n      <td>8190</td>\n    </tr>\n    <tr>\n      <th>43</th>\n      <td>62</td>\n      <td>317</td>\n      <td>새송이버섯</td>\n      <td>ALL</td>\n      <td>8190</td>\n    </tr>\n    <tr>\n      <th>44</th>\n      <td>67</td>\n      <td>411</td>\n      <td>사과</td>\n      <td>ALL</td>\n      <td>3968</td>\n    </tr>\n    <tr>\n      <th>45</th>\n      <td>68</td>\n      <td>412</td>\n      <td>배</td>\n      <td>ALL</td>\n      <td>1792</td>\n    </tr>\n    <tr>\n      <th>46</th>\n      <td>69</td>\n      <td>413</td>\n      <td>복숭아</td>\n      <td>ALL</td>\n      <td>448</td>\n    </tr>\n    <tr>\n      <th>47</th>\n      <td>70</td>\n      <td>414</td>\n      <td>포도</td>\n      <td>ALL</td>\n      <td>1792</td>\n    </tr>\n    <tr>\n      <th>48</th>\n      <td>71</td>\n      <td>415</td>\n      <td>감귤</td>\n      <td>ALL</td>\n      <td>0</td>\n    </tr>\n    <tr>\n      <th>49</th>\n      <td>72</td>\n      <td>416</td>\n      <td>단감</td>\n      <td>ALL</td>\n      <td>0</td>\n    </tr>\n    <tr>\n      <th>50</th>\n      <td>73</td>\n      <td>418</td>\n      <td>바나나</td>\n      <td>ALL</td>\n      <td>0</td>\n    </tr>\n    <tr>\n      <th>51</th>\n      <td>74</td>\n      <td>419</td>\n      <td>참다래</td>\n      <td>ALL</td>\n      <td>0</td>\n    </tr>\n    <tr>\n      <th>52</th>\n      <td>75</td>\n      <td>420</td>\n      <td>파인애플</td>\n      <td>ALL</td>\n      <td>1016</td>\n    </tr>\n    <tr>\n      <th>53</th>\n      <td>76</td>\n      <td>421</td>\n      <td>오렌지</td>\n      <td>ALL</td>\n      <td>0</td>\n    </tr>\n    <tr>\n      <th>54</th>\n      <td>78</td>\n      <td>424</td>\n      <td>레몬</td>\n      <td>ALL</td>\n      <td>0</td>\n    </tr>\n    <tr>\n      <th>55</th>\n      <td>79</td>\n      <td>425</td>\n      <td>체리</td>\n      <td>ALL</td>\n      <td>96</td>\n    </tr>\n    <tr>\n      <th>56</th>\n      <td>82</td>\n      <td>428</td>\n      <td>망고</td>\n      <td>ALL</td>\n      <td>0</td>\n    </tr>\n  </tbody>\n</table>\n</div>"
     },
     "execution_count": 58,
     "metadata": {},
     "output_type": "execute_result"
    }
   ],
   "source": [
    "selected_basic_product_info"
   ],
   "metadata": {
    "collapsed": false,
    "ExecuteTime": {
     "end_time": "2024-03-22T07:42:00.329183800Z",
     "start_time": "2024-03-22T07:42:00.316884900Z"
    }
   },
   "id": "e12a6306b2b697c5",
   "execution_count": 58
  },
  {
   "cell_type": "code",
   "outputs": [],
   "source": [
    "season = {}\n",
    "\n",
    "for product_code in product_code_list:\n",
    "    season[product_code] = {\n",
    "        'ALL':0,\n",
    "        'SPRING':0,\n",
    "        'SUMMER':0,\n",
    "        'FALL':0,\n",
    "        'WINTER':0\n",
    "    }\n",
    "    \n",
    "    all_filter = 0\n",
    "    for i in range(12):\n",
    "        bit = (1 < i)\n",
    "        all_filter += bit\n",
    "        \n",
    "    "
   ],
   "metadata": {
    "collapsed": false,
    "ExecuteTime": {
     "end_time": "2024-03-22T04:35:50.408687300Z",
     "start_time": "2024-03-22T04:35:50.400170500Z"
    }
   },
   "id": "885c78ed600e65d3",
   "execution_count": 30
  },
  {
   "cell_type": "code",
   "outputs": [
    {
     "name": "stdout",
     "output_type": "stream",
     "text": [
      "1 a\n",
      "2 b\n",
      "3 c\n",
      "4 d\n"
     ]
    }
   ],
   "source": [
    "a = [1,2,3,4]\n",
    "b = ['a','b','c','d']\n",
    "\n",
    "for i, j in zip(a, b):\n",
    "    print(i, j)"
   ],
   "metadata": {
    "collapsed": false,
    "ExecuteTime": {
     "end_time": "2024-03-22T08:22:36.471563500Z",
     "start_time": "2024-03-22T08:22:36.467122100Z"
    }
   },
   "id": "b7bce7177e7f6d6d",
   "execution_count": 59
  },
  {
   "cell_type": "code",
   "outputs": [],
   "source": [],
   "metadata": {
    "collapsed": false
   },
   "id": "b9d4b819bc172ce8"
  }
 ],
 "metadata": {
  "kernelspec": {
   "display_name": "Python 3",
   "language": "python",
   "name": "python3"
  },
  "language_info": {
   "codemirror_mode": {
    "name": "ipython",
    "version": 2
   },
   "file_extension": ".py",
   "mimetype": "text/x-python",
   "name": "python",
   "nbconvert_exporter": "python",
   "pygments_lexer": "ipython2",
   "version": "2.7.6"
  }
 },
 "nbformat": 4,
 "nbformat_minor": 5
}
